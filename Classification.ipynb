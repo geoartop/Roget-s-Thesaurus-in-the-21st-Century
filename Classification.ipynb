{
 "cells": [
  {
   "cell_type": "markdown",
   "id": "b32a0cfa76107108",
   "metadata": {
    "collapsed": false
   },
   "source": [
    "# Words Classification\n",
    "\n",
    "In this document the classification of words is performed using the embeddings, both in CLASS layer and in the second hierarchical level whether it is a SECTION or DIVISION."
   ]
  },
  {
   "cell_type": "markdown",
   "source": [
    "We start by importing all the necessary libraries, that will be used."
   ],
   "metadata": {
    "collapsed": false
   },
   "id": "5445eb00daa5656"
  },
  {
   "cell_type": "code",
   "execution_count": 1,
   "id": "ce381dea3d17d214",
   "metadata": {
    "collapsed": false,
    "ExecuteTime": {
     "end_time": "2024-02-24T16:33:14.740938900Z",
     "start_time": "2024-02-24T16:33:01.788696500Z"
    }
   },
   "outputs": [
    {
     "name": "stdout",
     "output_type": "stream",
     "text": [
      "WARNING:tensorflow:From C:\\Users\\Pumukl\\AppData\\Local\\Programs\\Python\\Python311\\Lib\\site-packages\\keras\\src\\losses.py:2976: The name tf.losses.sparse_softmax_cross_entropy is deprecated. Please use tf.compat.v1.losses.sparse_softmax_cross_entropy instead.\n"
     ]
    }
   ],
   "source": [
    "import pandas as pd\n",
    "import numpy as np\n",
    "from nomic import embed\n",
    "import chromadb\n",
    "from sklearn.linear_model import LogisticRegression\n",
    "from sklearn.model_selection import train_test_split\n",
    "from sklearn.metrics import classification_report, confusion_matrix\n",
    "from sklearn.svm import SVC\n",
    "from sklearn.linear_model import SGDClassifier\n",
    "from sklearn.ensemble import RandomForestClassifier\n",
    "from catboost import CatBoostClassifier\n",
    "import xgboost as xgb\n",
    "from sklearn.metrics import mean_squared_error\n",
    "from sklearn.model_selection import train_test_split\n",
    "from sklearn.tree import DecisionTreeRegressor\n",
    "from sklearn.model_selection import GridSearchCV\n",
    "from sklearn.model_selection import KFold\n",
    "import optuna\n",
    "import tensorflow as tf\n",
    "from tensorflow.keras.models import Sequential\n",
    "from tensorflow.keras.layers import Dense, Dropout\n",
    "from tensorflow.keras.utils import to_categorical\n",
    "from sklearn.preprocessing import LabelEncoder\n",
    "from keras.models import Sequential\n",
    "from keras.layers import Dense, Dropout, BatchNormalization\n",
    "from keras.utils import to_categorical\n",
    "from keras.callbacks import EarlyStopping\n",
    "from keras.regularizers import l1_l2\n",
    "import matplotlib.pyplot as plt\n",
    "from sklearn.multioutput import MultiOutputClassifier\n",
    "from sklearn.metrics import accuracy_score\n"
   ]
  },
  {
   "cell_type": "markdown",
   "source": [
    "We then load the word with the hierarchy from the csv file and create a dataframe to store the words and remove the # and the numbers from the words."
   ],
   "metadata": {
    "collapsed": false
   },
   "id": "71c185163472e3c7"
  },
  {
   "cell_type": "code",
   "execution_count": 2,
   "id": "32202772b91e3940",
   "metadata": {
    "collapsed": false,
    "ExecuteTime": {
     "end_time": "2024-02-24T13:12:30.113702Z",
     "start_time": "2024-02-24T13:12:30.074002200Z"
    }
   },
   "outputs": [
    {
     "data": {
      "text/plain": "                                             word\n0     CLASS I WORDS EXPRESSING ABSTRACT RELATIONS\n1                            SECTION I. EXISTENCE\n2                                       Existence\n3                                     Inexistence\n4                                  Substantiality\n...                                           ...\n1102                                       Clergy\n1103                                        Laity\n1104                                         Rite\n1105                                   Canonicals\n1106                                       Temple\n\n[1106 rows x 1 columns]",
      "text/html": "<div>\n<style scoped>\n    .dataframe tbody tr th:only-of-type {\n        vertical-align: middle;\n    }\n\n    .dataframe tbody tr th {\n        vertical-align: top;\n    }\n\n    .dataframe thead th {\n        text-align: right;\n    }\n</style>\n<table border=\"1\" class=\"dataframe\">\n  <thead>\n    <tr style=\"text-align: right;\">\n      <th></th>\n      <th>word</th>\n    </tr>\n  </thead>\n  <tbody>\n    <tr>\n      <th>0</th>\n      <td>CLASS I WORDS EXPRESSING ABSTRACT RELATIONS</td>\n    </tr>\n    <tr>\n      <th>1</th>\n      <td>SECTION I. EXISTENCE</td>\n    </tr>\n    <tr>\n      <th>2</th>\n      <td>Existence</td>\n    </tr>\n    <tr>\n      <th>3</th>\n      <td>Inexistence</td>\n    </tr>\n    <tr>\n      <th>4</th>\n      <td>Substantiality</td>\n    </tr>\n    <tr>\n      <th>...</th>\n      <td>...</td>\n    </tr>\n    <tr>\n      <th>1102</th>\n      <td>Clergy</td>\n    </tr>\n    <tr>\n      <th>1103</th>\n      <td>Laity</td>\n    </tr>\n    <tr>\n      <th>1104</th>\n      <td>Rite</td>\n    </tr>\n    <tr>\n      <th>1105</th>\n      <td>Canonicals</td>\n    </tr>\n    <tr>\n      <th>1106</th>\n      <td>Temple</td>\n    </tr>\n  </tbody>\n</table>\n<p>1106 rows × 1 columns</p>\n</div>"
     },
     "execution_count": 2,
     "metadata": {},
     "output_type": "execute_result"
    }
   ],
   "source": [
    "# Load the word with the hierarchy from the csv file\n",
    "complete = pd.read_csv('bold_words_with_numbers3.txt', header=None, names=['word'])\n",
    "\n",
    "# Create a dataframe to store the words\n",
    "df = complete.copy()\n",
    "\n",
    "# Remove the # and the numbers from the words\n",
    "df['word'] = df['word'].str.replace(r'#\\d+[a-z]?\\.\\s*', '', regex=True)\n",
    "\n",
    "#keep only the words that are not empty\n",
    "df = df[df['word'].str.len() > 0]\n",
    "\n",
    "#remove any remaining cases\n",
    "df['word'] = df['word'].str.replace(r'#\\d+[a-z]\\s+', '', regex=True)\n",
    "\n",
    "df"
   ]
  },
  {
   "cell_type": "markdown",
   "source": [
    "After that the initialisation of the class number and the sec/div number columns is performed."
   ],
   "metadata": {
    "collapsed": false
   },
   "id": "3fff469fb981c55a"
  },
  {
   "cell_type": "code",
   "execution_count": 3,
   "id": "260406450205c520",
   "metadata": {
    "collapsed": false,
    "ExecuteTime": {
     "end_time": "2024-02-24T13:12:31.131835Z",
     "start_time": "2024-02-24T13:12:31.107717100Z"
    }
   },
   "outputs": [
    {
     "data": {
      "text/plain": "                                             word  class  sec_div\n0     CLASS I WORDS EXPRESSING ABSTRACT RELATIONS      0        0\n1                            SECTION I. EXISTENCE      0        0\n2                                       Existence      0        0\n3                                     Inexistence      0        0\n4                                  Substantiality      0        0\n...                                           ...    ...      ...\n1102                                       Clergy      0        0\n1103                                        Laity      0        0\n1104                                         Rite      0        0\n1105                                   Canonicals      0        0\n1106                                       Temple      0        0\n\n[1106 rows x 3 columns]",
      "text/html": "<div>\n<style scoped>\n    .dataframe tbody tr th:only-of-type {\n        vertical-align: middle;\n    }\n\n    .dataframe tbody tr th {\n        vertical-align: top;\n    }\n\n    .dataframe thead th {\n        text-align: right;\n    }\n</style>\n<table border=\"1\" class=\"dataframe\">\n  <thead>\n    <tr style=\"text-align: right;\">\n      <th></th>\n      <th>word</th>\n      <th>class</th>\n      <th>sec_div</th>\n    </tr>\n  </thead>\n  <tbody>\n    <tr>\n      <th>0</th>\n      <td>CLASS I WORDS EXPRESSING ABSTRACT RELATIONS</td>\n      <td>0</td>\n      <td>0</td>\n    </tr>\n    <tr>\n      <th>1</th>\n      <td>SECTION I. EXISTENCE</td>\n      <td>0</td>\n      <td>0</td>\n    </tr>\n    <tr>\n      <th>2</th>\n      <td>Existence</td>\n      <td>0</td>\n      <td>0</td>\n    </tr>\n    <tr>\n      <th>3</th>\n      <td>Inexistence</td>\n      <td>0</td>\n      <td>0</td>\n    </tr>\n    <tr>\n      <th>4</th>\n      <td>Substantiality</td>\n      <td>0</td>\n      <td>0</td>\n    </tr>\n    <tr>\n      <th>...</th>\n      <td>...</td>\n      <td>...</td>\n      <td>...</td>\n    </tr>\n    <tr>\n      <th>1102</th>\n      <td>Clergy</td>\n      <td>0</td>\n      <td>0</td>\n    </tr>\n    <tr>\n      <th>1103</th>\n      <td>Laity</td>\n      <td>0</td>\n      <td>0</td>\n    </tr>\n    <tr>\n      <th>1104</th>\n      <td>Rite</td>\n      <td>0</td>\n      <td>0</td>\n    </tr>\n    <tr>\n      <th>1105</th>\n      <td>Canonicals</td>\n      <td>0</td>\n      <td>0</td>\n    </tr>\n    <tr>\n      <th>1106</th>\n      <td>Temple</td>\n      <td>0</td>\n      <td>0</td>\n    </tr>\n  </tbody>\n</table>\n<p>1106 rows × 3 columns</p>\n</div>"
     },
     "execution_count": 3,
     "metadata": {},
     "output_type": "execute_result"
    }
   ],
   "source": [
    "#Initialise the Class number and the Sec/Div number columns\n",
    "# Create the class number\n",
    "df['class'] = 0\n",
    "\n",
    "# Create the section/division number\n",
    "df['sec_div'] = 0\n",
    "\n",
    "df"
   ]
  },
  {
   "cell_type": "markdown",
   "source": [
    "The below function `process_hierarchy` processes a DataFrame by iterating through each row to manage counters related to classes and sections or divisions within a document. Initially, it looks for 'CLASS' in the 'word' column to start the new counts. When a 'CLASS' is found the class counter is incremented and it resets the section/division counter and starts looking for 'SECTION' or 'DIVISION'. If 'SECTION' or 'DIVISION' is found, it increments the counter. Finding a 'DIVISION' changes the focus solely to 'DIVISION' until the next 'CLASS' is encountered. Finally, it assigns these counters to the new columns 'class' and 'sec_div' and removes any rows containing 'CLASS', 'SECTION', or 'DIVISION' keywords, returning the cleaned DataFrame."
   ],
   "metadata": {
    "collapsed": false
   },
   "id": "80aa364e7244a6b4"
  },
  {
   "cell_type": "code",
   "execution_count": 4,
   "id": "874ed2ae3a6b827f",
   "metadata": {
    "collapsed": false,
    "ExecuteTime": {
     "end_time": "2024-02-24T13:12:34.095918300Z",
     "start_time": "2024-02-24T13:12:34.083411200Z"
    }
   },
   "outputs": [],
   "source": [
    "def process_hierarchy(df):\n",
    "    class_counter = 0\n",
    "    sec_div_counter = 0\n",
    "    looking_for = 'CLASS'  # Start by looking for 'CLASS'\n",
    "    \n",
    "    for index, row in df.iterrows():\n",
    "        word = row['word']\n",
    "        \n",
    "        # Check for 'CLASS' and increment class counter\n",
    "        if 'CLASS' in word:\n",
    "            class_counter += 1\n",
    "            sec_div_counter = 0  # Reset section/division counter\n",
    "            looking_for = 'SECTION'  # Start looking for 'SECTION' by default\n",
    "        \n",
    "        # Check for 'SECTION' or 'DIVISION' and increment section/division counter\n",
    "        elif looking_for == 'SECTION' and 'SECTION' in word or 'DIVISION' in word:\n",
    "            sec_div_counter += 1\n",
    "            # If 'DIVISION' is found, only look for 'DIVISION' until the next 'CLASS'\n",
    "            if 'DIVISION' in word:\n",
    "                looking_for = 'DIVISION'\n",
    "        \n",
    "        # Assign class counter and section/division counter to the current row\n",
    "        df.at[index, 'class'] = class_counter\n",
    "        df.at[index, 'sec_div'] = sec_div_counter\n",
    "        \n",
    "    df = df[~df['word'].str.contains('CLASS|SECTION|DIVISION')]\n",
    "    \n",
    "    return df"
   ]
  },
  {
   "cell_type": "code",
   "execution_count": 5,
   "id": "4165990ae390b746",
   "metadata": {
    "collapsed": false,
    "ExecuteTime": {
     "end_time": "2024-02-24T13:12:35.681236200Z",
     "start_time": "2024-02-24T13:12:35.593839200Z"
    }
   },
   "outputs": [
    {
     "data": {
      "text/plain": "                  word  class  sec_div\n2            Existence      1        1\n3          Inexistence      1        1\n4       Substantiality      1        1\n5     Unsubstantiality      1        1\n6       Intrinsicality      1        1\n...                ...    ...      ...\n1102            Clergy      6        5\n1103             Laity      6        5\n1104              Rite      6        5\n1105        Canonicals      6        5\n1106            Temple      6        5\n\n[1057 rows x 3 columns]",
      "text/html": "<div>\n<style scoped>\n    .dataframe tbody tr th:only-of-type {\n        vertical-align: middle;\n    }\n\n    .dataframe tbody tr th {\n        vertical-align: top;\n    }\n\n    .dataframe thead th {\n        text-align: right;\n    }\n</style>\n<table border=\"1\" class=\"dataframe\">\n  <thead>\n    <tr style=\"text-align: right;\">\n      <th></th>\n      <th>word</th>\n      <th>class</th>\n      <th>sec_div</th>\n    </tr>\n  </thead>\n  <tbody>\n    <tr>\n      <th>2</th>\n      <td>Existence</td>\n      <td>1</td>\n      <td>1</td>\n    </tr>\n    <tr>\n      <th>3</th>\n      <td>Inexistence</td>\n      <td>1</td>\n      <td>1</td>\n    </tr>\n    <tr>\n      <th>4</th>\n      <td>Substantiality</td>\n      <td>1</td>\n      <td>1</td>\n    </tr>\n    <tr>\n      <th>5</th>\n      <td>Unsubstantiality</td>\n      <td>1</td>\n      <td>1</td>\n    </tr>\n    <tr>\n      <th>6</th>\n      <td>Intrinsicality</td>\n      <td>1</td>\n      <td>1</td>\n    </tr>\n    <tr>\n      <th>...</th>\n      <td>...</td>\n      <td>...</td>\n      <td>...</td>\n    </tr>\n    <tr>\n      <th>1102</th>\n      <td>Clergy</td>\n      <td>6</td>\n      <td>5</td>\n    </tr>\n    <tr>\n      <th>1103</th>\n      <td>Laity</td>\n      <td>6</td>\n      <td>5</td>\n    </tr>\n    <tr>\n      <th>1104</th>\n      <td>Rite</td>\n      <td>6</td>\n      <td>5</td>\n    </tr>\n    <tr>\n      <th>1105</th>\n      <td>Canonicals</td>\n      <td>6</td>\n      <td>5</td>\n    </tr>\n    <tr>\n      <th>1106</th>\n      <td>Temple</td>\n      <td>6</td>\n      <td>5</td>\n    </tr>\n  </tbody>\n</table>\n<p>1057 rows × 3 columns</p>\n</div>"
     },
     "execution_count": 5,
     "metadata": {},
     "output_type": "execute_result"
    }
   ],
   "source": [
    "# run the function to process the hierarchy\n",
    "df = process_hierarchy(df)\n",
    "\n",
    "#preview the dataframe\n",
    "df"
   ]
  },
  {
   "cell_type": "markdown",
   "source": [
    "Then the embeddings are retrieved using the `embed.text` method from the nomic library. The `model` parameter is set to `nomic-embed-text-v1` and the `task_type` parameter is set to `classification` for the generation of embeddings catered to classification."
   ],
   "metadata": {
    "collapsed": false
   },
   "id": "f1658120ca2ec476"
  },
  {
   "cell_type": "code",
   "execution_count": 26,
   "id": "93789ae0fd170cf6",
   "metadata": {
    "collapsed": false,
    "ExecuteTime": {
     "end_time": "2024-02-24T13:11:37.380663300Z",
     "start_time": "2024-02-24T13:11:31.120250600Z"
    }
   },
   "outputs": [],
   "source": [
    "#retrieve the embeddings from the nomic library\n",
    "output = embed.text(\n",
    "    texts=df['word'].tolist(),\n",
    "    model='nomic-embed-text-v1',\n",
    "    task_type='classification',\n",
    ")"
   ]
  },
  {
   "cell_type": "markdown",
   "source": [
    "The chromadb client is initialised to interact with the vector database and a collection called `nomic_classification` is created. The documents, embeddings, metadatas, and ids are added to the collection."
   ],
   "metadata": {
    "collapsed": false
   },
   "id": "34a20200d49e000b"
  },
  {
   "cell_type": "code",
   "execution_count": 6,
   "id": "a1daef6b1c95c23b",
   "metadata": {
    "collapsed": false,
    "ExecuteTime": {
     "end_time": "2024-02-24T13:12:43.515053400Z",
     "start_time": "2024-02-24T13:12:43.391463700Z"
    }
   },
   "outputs": [],
   "source": [
    "#Create a client to interact with the vector database\n",
    "chroma_client = chromadb.PersistentClient(\"./chromadb\")"
   ]
  },
  {
   "cell_type": "code",
   "outputs": [],
   "source": [
    "#create a collection called nomic_clustering\n",
    "collection = chroma_client.create_collection(name=\"nomic_classification\")"
   ],
   "metadata": {
    "collapsed": false,
    "ExecuteTime": {
     "end_time": "2024-02-24T17:16:05.526540600Z",
     "start_time": "2024-02-24T17:16:05.500540Z"
    }
   },
   "id": "7a070e6c1da4208f",
   "execution_count": 3
  },
  {
   "cell_type": "code",
   "execution_count": 4,
   "id": "85e7151e703dd81f",
   "metadata": {
    "collapsed": false,
    "ExecuteTime": {
     "end_time": "2024-02-24T17:16:15.507982500Z",
     "start_time": "2024-02-24T17:16:15.479981900Z"
    }
   },
   "outputs": [],
   "source": [
    "#add the documents, embeddings, metadatas, and ids to the collection\n",
    "collection.add(\n",
    "    documents=df['word'].tolist(),\n",
    "    embeddings=output['embeddings'],\n",
    "    metadatas=[{\"word\": word} for word in df['word'].tolist()],\n",
    "    ids=[f\"word{i}\" for i in range(len(df['word'].tolist()))]\n",
    ")"
   ]
  },
  {
   "cell_type": "code",
   "execution_count": 7,
   "id": "e075fc40e32ff16b",
   "metadata": {
    "collapsed": false,
    "ExecuteTime": {
     "end_time": "2024-02-24T13:12:48.019077400Z",
     "start_time": "2024-02-24T13:12:48.007231400Z"
    }
   },
   "outputs": [],
   "source": [
    "#get the collection\n",
    "collection = chroma_client.get_collection(name=\"nomic_classification\")"
   ]
  },
  {
   "cell_type": "code",
   "outputs": [],
   "source": [
    "#delete the collection if needed\n",
    "#chroma_client.delete_collection(name=\"nomic_clustering\")"
   ],
   "metadata": {
    "collapsed": false,
    "ExecuteTime": {
     "end_time": "2024-02-24T17:16:25.846170200Z",
     "start_time": "2024-02-24T17:16:25.816168600Z"
    }
   },
   "id": "994a2039077813ba",
   "execution_count": 5
  },
  {
   "cell_type": "markdown",
   "source": [
    "The embeddings and the words are retrieved from the collection and the classification is created with the embeddings. The duplicates are dropped and the classification is merged with the original dataframe to add the class and sec_div columns."
   ],
   "metadata": {
    "collapsed": false
   },
   "id": "2c94370f366b25a3"
  },
  {
   "cell_type": "code",
   "execution_count": 8,
   "id": "301b60eddc1da4c0",
   "metadata": {
    "collapsed": false,
    "ExecuteTime": {
     "end_time": "2024-02-24T13:12:51.914006200Z",
     "start_time": "2024-02-24T13:12:51.759094200Z"
    }
   },
   "outputs": [
    {
     "data": {
      "text/plain": "             0         1         2         3         4         5         6  \\\n0    -0.029755 -0.026367 -0.012779 -0.047302  0.025482  0.067017  0.004402   \n1    -0.010292  0.019257 -0.017593 -0.038849  0.025085  0.058319  0.003544   \n2     0.038696 -0.010262 -0.013084 -0.060669 -0.034119  0.018646  0.014557   \n3     0.007351 -0.001904 -0.016907 -0.080200 -0.023941  0.006577  0.042511   \n4     0.033813  0.013992 -0.030975 -0.040100 -0.025711  0.073120  0.034760   \n...        ...       ...       ...       ...       ...       ...       ...   \n1052  0.003222  0.012016 -0.026779 -0.062622 -0.029129 -0.013229 -0.036713   \n1053 -0.017761  0.020966 -0.022141 -0.068909 -0.021332  0.077820  0.061707   \n1054  0.010719  0.049469 -0.036987 -0.062286  0.003099  0.019135  0.003527   \n1055  0.020142  0.006626 -0.035675 -0.046814 -0.005482  0.024155  0.011139   \n1056  0.003523 -0.028534 -0.035370 -0.047882  0.015419 -0.011162  0.028427   \n\n             7         8         9  ...       761       762       763  \\\n0     0.016739 -0.065491  0.003429  ... -0.004848  0.023834  0.031921   \n1     0.032318 -0.047516 -0.004955  ...  0.003414 -0.006088  0.015236   \n2     0.017441 -0.054077 -0.009644  ...  0.021851 -0.002119  0.053833   \n3     0.013557 -0.055969  0.013985  ...  0.022186  0.027924 -0.003046   \n4    -0.000263 -0.023941 -0.001348  ... -0.008667  0.004883  0.051147   \n...        ...       ...       ...  ...       ...       ...       ...   \n1052  0.031189 -0.044830 -0.008881  ... -0.004864 -0.006489  0.029816   \n1053  0.007278 -0.046021 -0.044373  ...  0.009666 -0.001984  0.058655   \n1054 -0.003384 -0.029724  0.024185  ... -0.005856  0.006557  0.037598   \n1055 -0.030060  0.010170 -0.009857  ... -0.014580  0.026886  0.042694   \n1056 -0.001828 -0.008820  0.002476  ...  0.006496  0.024887  0.026566   \n\n           764       765       766       767               word  class  \\\n0     0.008949  0.039398 -0.033813  0.005913          Existence      1   \n1    -0.028397  0.063965 -0.087158 -0.001468        Inexistence      1   \n2     0.003244  0.031021 -0.066040 -0.023254      Consanguinity      1   \n3     0.032745  0.010971 -0.052429 -0.011940         Trisection      1   \n4    -0.006226 -0.013985 -0.035614 -0.030762          Innocence      6   \n...        ...       ...       ...       ...                ...    ...   \n1052  0.028076  0.011002 -0.025818 -0.019547              Knave      6   \n1053  0.011986  0.012474 -0.026489 -0.018188  Disinterestedness      6   \n1054  0.008789  0.003222 -0.040863 -0.024185        Selfishness      6   \n1055  0.005581 -0.009171 -0.081665 -0.013771             Virtue      6   \n1056 -0.003654 -0.018295 -0.044769 -0.010315               Vice      6   \n\n      sec_div  \n0           1  \n1           1  \n2           2  \n3           5  \n4           4  \n...       ...  \n1052        4  \n1053        4  \n1054        4  \n1055        4  \n1056        4  \n\n[1057 rows x 771 columns]",
      "text/html": "<div>\n<style scoped>\n    .dataframe tbody tr th:only-of-type {\n        vertical-align: middle;\n    }\n\n    .dataframe tbody tr th {\n        vertical-align: top;\n    }\n\n    .dataframe thead th {\n        text-align: right;\n    }\n</style>\n<table border=\"1\" class=\"dataframe\">\n  <thead>\n    <tr style=\"text-align: right;\">\n      <th></th>\n      <th>0</th>\n      <th>1</th>\n      <th>2</th>\n      <th>3</th>\n      <th>4</th>\n      <th>5</th>\n      <th>6</th>\n      <th>7</th>\n      <th>8</th>\n      <th>9</th>\n      <th>...</th>\n      <th>761</th>\n      <th>762</th>\n      <th>763</th>\n      <th>764</th>\n      <th>765</th>\n      <th>766</th>\n      <th>767</th>\n      <th>word</th>\n      <th>class</th>\n      <th>sec_div</th>\n    </tr>\n  </thead>\n  <tbody>\n    <tr>\n      <th>0</th>\n      <td>-0.029755</td>\n      <td>-0.026367</td>\n      <td>-0.012779</td>\n      <td>-0.047302</td>\n      <td>0.025482</td>\n      <td>0.067017</td>\n      <td>0.004402</td>\n      <td>0.016739</td>\n      <td>-0.065491</td>\n      <td>0.003429</td>\n      <td>...</td>\n      <td>-0.004848</td>\n      <td>0.023834</td>\n      <td>0.031921</td>\n      <td>0.008949</td>\n      <td>0.039398</td>\n      <td>-0.033813</td>\n      <td>0.005913</td>\n      <td>Existence</td>\n      <td>1</td>\n      <td>1</td>\n    </tr>\n    <tr>\n      <th>1</th>\n      <td>-0.010292</td>\n      <td>0.019257</td>\n      <td>-0.017593</td>\n      <td>-0.038849</td>\n      <td>0.025085</td>\n      <td>0.058319</td>\n      <td>0.003544</td>\n      <td>0.032318</td>\n      <td>-0.047516</td>\n      <td>-0.004955</td>\n      <td>...</td>\n      <td>0.003414</td>\n      <td>-0.006088</td>\n      <td>0.015236</td>\n      <td>-0.028397</td>\n      <td>0.063965</td>\n      <td>-0.087158</td>\n      <td>-0.001468</td>\n      <td>Inexistence</td>\n      <td>1</td>\n      <td>1</td>\n    </tr>\n    <tr>\n      <th>2</th>\n      <td>0.038696</td>\n      <td>-0.010262</td>\n      <td>-0.013084</td>\n      <td>-0.060669</td>\n      <td>-0.034119</td>\n      <td>0.018646</td>\n      <td>0.014557</td>\n      <td>0.017441</td>\n      <td>-0.054077</td>\n      <td>-0.009644</td>\n      <td>...</td>\n      <td>0.021851</td>\n      <td>-0.002119</td>\n      <td>0.053833</td>\n      <td>0.003244</td>\n      <td>0.031021</td>\n      <td>-0.066040</td>\n      <td>-0.023254</td>\n      <td>Consanguinity</td>\n      <td>1</td>\n      <td>2</td>\n    </tr>\n    <tr>\n      <th>3</th>\n      <td>0.007351</td>\n      <td>-0.001904</td>\n      <td>-0.016907</td>\n      <td>-0.080200</td>\n      <td>-0.023941</td>\n      <td>0.006577</td>\n      <td>0.042511</td>\n      <td>0.013557</td>\n      <td>-0.055969</td>\n      <td>0.013985</td>\n      <td>...</td>\n      <td>0.022186</td>\n      <td>0.027924</td>\n      <td>-0.003046</td>\n      <td>0.032745</td>\n      <td>0.010971</td>\n      <td>-0.052429</td>\n      <td>-0.011940</td>\n      <td>Trisection</td>\n      <td>1</td>\n      <td>5</td>\n    </tr>\n    <tr>\n      <th>4</th>\n      <td>0.033813</td>\n      <td>0.013992</td>\n      <td>-0.030975</td>\n      <td>-0.040100</td>\n      <td>-0.025711</td>\n      <td>0.073120</td>\n      <td>0.034760</td>\n      <td>-0.000263</td>\n      <td>-0.023941</td>\n      <td>-0.001348</td>\n      <td>...</td>\n      <td>-0.008667</td>\n      <td>0.004883</td>\n      <td>0.051147</td>\n      <td>-0.006226</td>\n      <td>-0.013985</td>\n      <td>-0.035614</td>\n      <td>-0.030762</td>\n      <td>Innocence</td>\n      <td>6</td>\n      <td>4</td>\n    </tr>\n    <tr>\n      <th>...</th>\n      <td>...</td>\n      <td>...</td>\n      <td>...</td>\n      <td>...</td>\n      <td>...</td>\n      <td>...</td>\n      <td>...</td>\n      <td>...</td>\n      <td>...</td>\n      <td>...</td>\n      <td>...</td>\n      <td>...</td>\n      <td>...</td>\n      <td>...</td>\n      <td>...</td>\n      <td>...</td>\n      <td>...</td>\n      <td>...</td>\n      <td>...</td>\n      <td>...</td>\n      <td>...</td>\n    </tr>\n    <tr>\n      <th>1052</th>\n      <td>0.003222</td>\n      <td>0.012016</td>\n      <td>-0.026779</td>\n      <td>-0.062622</td>\n      <td>-0.029129</td>\n      <td>-0.013229</td>\n      <td>-0.036713</td>\n      <td>0.031189</td>\n      <td>-0.044830</td>\n      <td>-0.008881</td>\n      <td>...</td>\n      <td>-0.004864</td>\n      <td>-0.006489</td>\n      <td>0.029816</td>\n      <td>0.028076</td>\n      <td>0.011002</td>\n      <td>-0.025818</td>\n      <td>-0.019547</td>\n      <td>Knave</td>\n      <td>6</td>\n      <td>4</td>\n    </tr>\n    <tr>\n      <th>1053</th>\n      <td>-0.017761</td>\n      <td>0.020966</td>\n      <td>-0.022141</td>\n      <td>-0.068909</td>\n      <td>-0.021332</td>\n      <td>0.077820</td>\n      <td>0.061707</td>\n      <td>0.007278</td>\n      <td>-0.046021</td>\n      <td>-0.044373</td>\n      <td>...</td>\n      <td>0.009666</td>\n      <td>-0.001984</td>\n      <td>0.058655</td>\n      <td>0.011986</td>\n      <td>0.012474</td>\n      <td>-0.026489</td>\n      <td>-0.018188</td>\n      <td>Disinterestedness</td>\n      <td>6</td>\n      <td>4</td>\n    </tr>\n    <tr>\n      <th>1054</th>\n      <td>0.010719</td>\n      <td>0.049469</td>\n      <td>-0.036987</td>\n      <td>-0.062286</td>\n      <td>0.003099</td>\n      <td>0.019135</td>\n      <td>0.003527</td>\n      <td>-0.003384</td>\n      <td>-0.029724</td>\n      <td>0.024185</td>\n      <td>...</td>\n      <td>-0.005856</td>\n      <td>0.006557</td>\n      <td>0.037598</td>\n      <td>0.008789</td>\n      <td>0.003222</td>\n      <td>-0.040863</td>\n      <td>-0.024185</td>\n      <td>Selfishness</td>\n      <td>6</td>\n      <td>4</td>\n    </tr>\n    <tr>\n      <th>1055</th>\n      <td>0.020142</td>\n      <td>0.006626</td>\n      <td>-0.035675</td>\n      <td>-0.046814</td>\n      <td>-0.005482</td>\n      <td>0.024155</td>\n      <td>0.011139</td>\n      <td>-0.030060</td>\n      <td>0.010170</td>\n      <td>-0.009857</td>\n      <td>...</td>\n      <td>-0.014580</td>\n      <td>0.026886</td>\n      <td>0.042694</td>\n      <td>0.005581</td>\n      <td>-0.009171</td>\n      <td>-0.081665</td>\n      <td>-0.013771</td>\n      <td>Virtue</td>\n      <td>6</td>\n      <td>4</td>\n    </tr>\n    <tr>\n      <th>1056</th>\n      <td>0.003523</td>\n      <td>-0.028534</td>\n      <td>-0.035370</td>\n      <td>-0.047882</td>\n      <td>0.015419</td>\n      <td>-0.011162</td>\n      <td>0.028427</td>\n      <td>-0.001828</td>\n      <td>-0.008820</td>\n      <td>0.002476</td>\n      <td>...</td>\n      <td>0.006496</td>\n      <td>0.024887</td>\n      <td>0.026566</td>\n      <td>-0.003654</td>\n      <td>-0.018295</td>\n      <td>-0.044769</td>\n      <td>-0.010315</td>\n      <td>Vice</td>\n      <td>6</td>\n      <td>4</td>\n    </tr>\n  </tbody>\n</table>\n<p>1057 rows × 771 columns</p>\n</div>"
     },
     "execution_count": 8,
     "metadata": {},
     "output_type": "execute_result"
    }
   ],
   "source": [
    "#retrieve the embeddings and the words from the collection\n",
    "embeddings = collection.get(include=[\"embeddings\", \"documents\"])['embeddings']\n",
    "words = collection.get(include=[\"embeddings\", \"documents\"])['documents']\n",
    "\n",
    "classification = pd.DataFrame(embeddings)\n",
    "\n",
    "classification['word'] = words\n",
    "\n",
    "#drop duplicates\n",
    "classification = classification.drop_duplicates(subset='word')\n",
    "\n",
    "#merge the classification with the original dataframe to add the class and sec_div columns\n",
    "classification = classification.merge(df, on='word')\n",
    "\n",
    "#show the classification\n",
    "classification"
   ]
  },
  {
   "cell_type": "markdown",
   "source": [
    "## Classification on the CLASS layer\n",
    "\n",
    "After the classification dataframe is created, we are able to begin the classification process on CLASS level."
   ],
   "metadata": {
    "collapsed": false
   },
   "id": "7b571807b9210383"
  },
  {
   "cell_type": "markdown",
   "source": [
    "The data is prepared for the classification by dropping the word, class, and sec_div columns and the X and y are created then data is split into training and testing sets. "
   ],
   "metadata": {
    "collapsed": false
   },
   "id": "74a9771c7f43ff21"
  },
  {
   "cell_type": "code",
   "execution_count": 9,
   "id": "970ce4a9f7f7bc65",
   "metadata": {
    "collapsed": false,
    "ExecuteTime": {
     "end_time": "2024-02-24T13:12:57.384417100Z",
     "start_time": "2024-02-24T13:12:57.368605700Z"
    }
   },
   "outputs": [],
   "source": [
    "#prepare the data for the classification\n",
    "X = classification.drop(['word', 'class', 'sec_div'], axis=1)\n",
    "\n",
    "y = classification['class']-1\n",
    "\n",
    "X_train, X_test, y_train, y_test = train_test_split(X, y, test_size=0.2, random_state=1)"
   ]
  },
  {
   "cell_type": "markdown",
   "source": [
    "After that the logistic regression is performed to classify the words and the classification report is printed."
   ],
   "metadata": {
    "collapsed": false
   },
   "id": "ba0133ffc7702535"
  },
  {
   "cell_type": "code",
   "execution_count": 10,
   "id": "86d70f79e248f594",
   "metadata": {
    "collapsed": false,
    "ExecuteTime": {
     "end_time": "2024-02-24T13:12:58.188302200Z",
     "start_time": "2024-02-24T13:12:58.130976200Z"
    }
   },
   "outputs": [
    {
     "name": "stdout",
     "output_type": "stream",
     "text": [
      "              precision    recall  f1-score   support\n",
      "\n",
      "           0       0.66      0.66      0.66        41\n",
      "           1       0.75      0.50      0.60        30\n",
      "           2       0.57      0.52      0.54        25\n",
      "           3       0.58      0.54      0.56        28\n",
      "           4       0.61      0.69      0.65        49\n",
      "           5       0.67      0.79      0.73        39\n",
      "\n",
      "    accuracy                           0.64       212\n",
      "   macro avg       0.64      0.62      0.62       212\n",
      "weighted avg       0.64      0.64      0.63       212\n"
     ]
    }
   ],
   "source": [
    "# perform logistic regression to classify the words\n",
    "logisticRegr = LogisticRegression(max_iter=1000)\n",
    "\n",
    "logisticRegr.fit(X_train, y_train)\n",
    "\n",
    "predictions = logisticRegr.predict(X_test)\n",
    "\n",
    "print(classification_report(y_test, predictions))"
   ]
  },
  {
   "cell_type": "markdown",
   "source": [
    "We can see that the accuracy is 0.64, which is not very high. We can use optuna to optimize the hyperparameters of the logistic regression."
   ],
   "metadata": {
    "collapsed": false
   },
   "id": "81ae81200c47e28c"
  },
  {
   "cell_type": "code",
   "execution_count": 19,
   "id": "414156d59e88a8a1",
   "metadata": {
    "collapsed": false,
    "ExecuteTime": {
     "end_time": "2024-02-24T13:21:34.336023600Z",
     "start_time": "2024-02-24T13:21:29.857737300Z"
    }
   },
   "outputs": [
    {
     "name": "stderr",
     "output_type": "stream",
     "text": [
      "[I 2024-02-24 15:21:29,857] A new study created in memory with name: no-name-f70d9131-f002-40b5-b915-cd25875543a6\n",
      "C:\\Users\\Pumukl\\AppData\\Local\\Programs\\Python\\Python311\\Lib\\site-packages\\sklearn\\linear_model\\_logistic.py:1186: UserWarning: Setting penalty=None will ignore the C and l1_ratio parameters\n",
      "  warnings.warn(\n",
      "[I 2024-02-24 15:21:29,939] Trial 0 finished with value: 0.6037735849056604 and parameters: {'penalty': None, 'C': 0.025811986200456105}. Best is trial 0 with value: 0.6037735849056604.\n",
      "[I 2024-02-24 15:21:30,076] Trial 1 finished with value: 0.6462264150943396 and parameters: {'penalty': 'l2', 'C': 544.7446567924222}. Best is trial 1 with value: 0.6462264150943396.\n",
      "[I 2024-02-24 15:21:30,102] Trial 2 finished with value: 0.25 and parameters: {'penalty': 'l2', 'C': 0.04078442486190641}. Best is trial 1 with value: 0.6462264150943396.\n",
      "C:\\Users\\Pumukl\\AppData\\Local\\Programs\\Python\\Python311\\Lib\\site-packages\\sklearn\\linear_model\\_logistic.py:1186: UserWarning: Setting penalty=None will ignore the C and l1_ratio parameters\n",
      "  warnings.warn(\n",
      "[I 2024-02-24 15:21:30,180] Trial 3 finished with value: 0.6037735849056604 and parameters: {'penalty': None, 'C': 0.09456333437954717}. Best is trial 1 with value: 0.6462264150943396.\n",
      "C:\\Users\\Pumukl\\AppData\\Local\\Programs\\Python\\Python311\\Lib\\site-packages\\sklearn\\linear_model\\_logistic.py:1186: UserWarning: Setting penalty=None will ignore the C and l1_ratio parameters\n",
      "  warnings.warn(\n",
      "[I 2024-02-24 15:21:30,255] Trial 4 finished with value: 0.6037735849056604 and parameters: {'penalty': None, 'C': 0.00014646221153326517}. Best is trial 1 with value: 0.6462264150943396.\n",
      "C:\\Users\\Pumukl\\AppData\\Local\\Programs\\Python\\Python311\\Lib\\site-packages\\sklearn\\linear_model\\_logistic.py:1186: UserWarning: Setting penalty=None will ignore the C and l1_ratio parameters\n",
      "  warnings.warn(\n",
      "[I 2024-02-24 15:21:30,331] Trial 5 finished with value: 0.6037735849056604 and parameters: {'penalty': None, 'C': 21208.939162394985}. Best is trial 1 with value: 0.6462264150943396.\n",
      "[I 2024-02-24 15:21:30,366] Trial 6 finished with value: 0.23113207547169812 and parameters: {'penalty': 'l2', 'C': 1.33428758034716e-05}. Best is trial 1 with value: 0.6462264150943396.\n",
      "[I 2024-02-24 15:21:30,388] Trial 7 finished with value: 0.23113207547169812 and parameters: {'penalty': 'l2', 'C': 0.0017301583048767973}. Best is trial 1 with value: 0.6462264150943396.\n",
      "C:\\Users\\Pumukl\\AppData\\Local\\Programs\\Python\\Python311\\Lib\\site-packages\\sklearn\\linear_model\\_logistic.py:1186: UserWarning: Setting penalty=None will ignore the C and l1_ratio parameters\n",
      "  warnings.warn(\n",
      "[I 2024-02-24 15:21:30,463] Trial 8 finished with value: 0.6037735849056604 and parameters: {'penalty': None, 'C': 2.026607028818805}. Best is trial 1 with value: 0.6462264150943396.\n",
      "[I 2024-02-24 15:21:30,568] Trial 9 finished with value: 0.5943396226415094 and parameters: {'penalty': 'l2', 'C': 52671.34221150557}. Best is trial 1 with value: 0.6462264150943396.\n",
      "[I 2024-02-24 15:21:30,713] Trial 10 finished with value: 0.6509433962264151 and parameters: {'penalty': 'l2', 'C': 132.81359398828846}. Best is trial 10 with value: 0.6509433962264151.\n",
      "[I 2024-02-24 15:21:30,871] Trial 11 finished with value: 0.6462264150943396 and parameters: {'penalty': 'l2', 'C': 192.95436336777732}. Best is trial 10 with value: 0.6509433962264151.\n",
      "[I 2024-02-24 15:21:31,017] Trial 12 finished with value: 0.6556603773584906 and parameters: {'penalty': 'l2', 'C': 98.9141823389882}. Best is trial 12 with value: 0.6556603773584906.\n",
      "[I 2024-02-24 15:21:31,146] Trial 13 finished with value: 0.6745283018867925 and parameters: {'penalty': 'l2', 'C': 17.628723660275377}. Best is trial 13 with value: 0.6745283018867925.\n",
      "[I 2024-02-24 15:21:31,253] Trial 14 finished with value: 0.6745283018867925 and parameters: {'penalty': 'l2', 'C': 11.116846125294954}. Best is trial 13 with value: 0.6745283018867925.\n",
      "[I 2024-02-24 15:21:31,333] Trial 15 finished with value: 0.6839622641509434 and parameters: {'penalty': 'l2', 'C': 3.0180237482398953}. Best is trial 15 with value: 0.6839622641509434.\n",
      "[I 2024-02-24 15:21:31,422] Trial 16 finished with value: 0.6886792452830188 and parameters: {'penalty': 'l2', 'C': 5.449257421576762}. Best is trial 16 with value: 0.6886792452830188.\n",
      "[I 2024-02-24 15:21:31,468] Trial 17 finished with value: 0.6320754716981132 and parameters: {'penalty': 'l2', 'C': 0.5137174910478495}. Best is trial 16 with value: 0.6886792452830188.\n",
      "[I 2024-02-24 15:21:31,589] Trial 18 finished with value: 0.6367924528301887 and parameters: {'penalty': 'l2', 'C': 3158.228635488226}. Best is trial 16 with value: 0.6886792452830188.\n",
      "[I 2024-02-24 15:21:31,641] Trial 19 finished with value: 0.6367924528301887 and parameters: {'penalty': 'l2', 'C': 1.2129854363505366}. Best is trial 16 with value: 0.6886792452830188.\n",
      "[I 2024-02-24 15:21:31,732] Trial 20 finished with value: 0.6745283018867925 and parameters: {'penalty': 'l2', 'C': 8.170565190878284}. Best is trial 16 with value: 0.6886792452830188.\n",
      "[I 2024-02-24 15:21:31,852] Trial 21 finished with value: 0.6745283018867925 and parameters: {'penalty': 'l2', 'C': 20.387424465370355}. Best is trial 16 with value: 0.6886792452830188.\n",
      "[I 2024-02-24 15:21:31,884] Trial 22 finished with value: 0.5990566037735849 and parameters: {'penalty': 'l2', 'C': 0.21146411849978097}. Best is trial 16 with value: 0.6886792452830188.\n",
      "[I 2024-02-24 15:21:31,910] Trial 23 finished with value: 0.23113207547169812 and parameters: {'penalty': 'l2', 'C': 0.0034773460792848123}. Best is trial 16 with value: 0.6886792452830188.\n",
      "[I 2024-02-24 15:21:32,071] Trial 24 finished with value: 0.6320754716981132 and parameters: {'penalty': 'l2', 'C': 1843.297846434672}. Best is trial 16 with value: 0.6886792452830188.\n",
      "[I 2024-02-24 15:21:32,199] Trial 25 finished with value: 0.6698113207547169 and parameters: {'penalty': 'l2', 'C': 30.83171836504115}. Best is trial 16 with value: 0.6886792452830188.\n",
      "C:\\Users\\Pumukl\\AppData\\Local\\Programs\\Python\\Python311\\Lib\\site-packages\\sklearn\\linear_model\\_logistic.py:1186: UserWarning: Setting penalty=None will ignore the C and l1_ratio parameters\n",
      "  warnings.warn(\n",
      "[I 2024-02-24 15:21:32,280] Trial 26 finished with value: 0.6037735849056604 and parameters: {'penalty': None, 'C': 3.5059683210597683}. Best is trial 16 with value: 0.6886792452830188.\n",
      "[I 2024-02-24 15:21:32,326] Trial 27 finished with value: 0.6415094339622641 and parameters: {'penalty': 'l2', 'C': 0.7434164428425594}. Best is trial 16 with value: 0.6886792452830188.\n",
      "[I 2024-02-24 15:21:32,352] Trial 28 finished with value: 0.23113207547169812 and parameters: {'penalty': 'l2', 'C': 0.011833290333603362}. Best is trial 16 with value: 0.6886792452830188.\n",
      "C:\\Users\\Pumukl\\AppData\\Local\\Programs\\Python\\Python311\\Lib\\site-packages\\sklearn\\linear_model\\_logistic.py:1186: UserWarning: Setting penalty=None will ignore the C and l1_ratio parameters\n",
      "  warnings.warn(\n",
      "[I 2024-02-24 15:21:32,433] Trial 29 finished with value: 0.6037735849056604 and parameters: {'penalty': None, 'C': 29.88929148708229}. Best is trial 16 with value: 0.6886792452830188.\n",
      "[I 2024-02-24 15:21:32,571] Trial 30 finished with value: 0.6320754716981132 and parameters: {'penalty': 'l2', 'C': 1322.0243669571005}. Best is trial 16 with value: 0.6886792452830188.\n",
      "[I 2024-02-24 15:21:32,660] Trial 31 finished with value: 0.6886792452830188 and parameters: {'penalty': 'l2', 'C': 6.4482873685870175}. Best is trial 16 with value: 0.6886792452830188.\n",
      "[I 2024-02-24 15:21:32,722] Trial 32 finished with value: 0.6886792452830188 and parameters: {'penalty': 'l2', 'C': 4.065700102006385}. Best is trial 16 with value: 0.6886792452830188.\n",
      "[I 2024-02-24 15:21:32,803] Trial 33 finished with value: 0.6839622641509434 and parameters: {'penalty': 'l2', 'C': 3.2893232553312286}. Best is trial 16 with value: 0.6886792452830188.\n",
      "[I 2024-02-24 15:21:32,834] Trial 34 finished with value: 0.5660377358490566 and parameters: {'penalty': 'l2', 'C': 0.1765964956806838}. Best is trial 16 with value: 0.6886792452830188.\n",
      "[I 2024-02-24 15:21:32,862] Trial 35 finished with value: 0.2358490566037736 and parameters: {'penalty': 'l2', 'C': 0.03309765063040428}. Best is trial 16 with value: 0.6886792452830188.\n",
      "C:\\Users\\Pumukl\\AppData\\Local\\Programs\\Python\\Python311\\Lib\\site-packages\\sklearn\\linear_model\\_logistic.py:1186: UserWarning: Setting penalty=None will ignore the C and l1_ratio parameters\n",
      "  warnings.warn(\n",
      "[I 2024-02-24 15:21:32,942] Trial 36 finished with value: 0.6037735849056604 and parameters: {'penalty': None, 'C': 0.21481550906927138}. Best is trial 16 with value: 0.6886792452830188.\n",
      "[I 2024-02-24 15:21:33,116] Trial 37 finished with value: 0.6509433962264151 and parameters: {'penalty': 'l2', 'C': 400.5585993395585}. Best is trial 16 with value: 0.6886792452830188.\n",
      "[I 2024-02-24 15:21:33,256] Trial 38 finished with value: 0.6745283018867925 and parameters: {'penalty': 'l2', 'C': 60.44496458743557}. Best is trial 16 with value: 0.6886792452830188.\n",
      "C:\\Users\\Pumukl\\AppData\\Local\\Programs\\Python\\Python311\\Lib\\site-packages\\sklearn\\linear_model\\_logistic.py:1186: UserWarning: Setting penalty=None will ignore the C and l1_ratio parameters\n",
      "  warnings.warn(\n",
      "[I 2024-02-24 15:21:33,341] Trial 39 finished with value: 0.6037735849056604 and parameters: {'penalty': None, 'C': 3.2067121931893405}. Best is trial 16 with value: 0.6886792452830188.\n",
      "[I 2024-02-24 15:21:33,380] Trial 40 finished with value: 0.3915094339622642 and parameters: {'penalty': 'l2', 'C': 0.08338499708429888}. Best is trial 16 with value: 0.6886792452830188.\n",
      "[I 2024-02-24 15:21:33,472] Trial 41 finished with value: 0.6886792452830188 and parameters: {'penalty': 'l2', 'C': 5.158483401293687}. Best is trial 16 with value: 0.6886792452830188.\n",
      "[I 2024-02-24 15:21:33,558] Trial 42 finished with value: 0.6886792452830188 and parameters: {'penalty': 'l2', 'C': 5.846212446011164}. Best is trial 16 with value: 0.6886792452830188.\n",
      "[I 2024-02-24 15:21:33,608] Trial 43 finished with value: 0.6415094339622641 and parameters: {'penalty': 'l2', 'C': 0.5900499010774912}. Best is trial 16 with value: 0.6886792452830188.\n",
      "[I 2024-02-24 15:21:33,729] Trial 44 finished with value: 0.6462264150943396 and parameters: {'penalty': 'l2', 'C': 507.81666534299376}. Best is trial 16 with value: 0.6886792452830188.\n",
      "[I 2024-02-24 15:21:33,827] Trial 45 finished with value: 0.6698113207547169 and parameters: {'penalty': 'l2', 'C': 9.57459419627179}. Best is trial 16 with value: 0.6886792452830188.\n",
      "[I 2024-02-24 15:21:33,985] Trial 46 finished with value: 0.6650943396226415 and parameters: {'penalty': 'l2', 'C': 80.98336902251502}. Best is trial 16 with value: 0.6886792452830188.\n",
      "C:\\Users\\Pumukl\\AppData\\Local\\Programs\\Python\\Python311\\Lib\\site-packages\\sklearn\\linear_model\\_logistic.py:1186: UserWarning: Setting penalty=None will ignore the C and l1_ratio parameters\n",
      "  warnings.warn(\n",
      "[I 2024-02-24 15:21:34,066] Trial 47 finished with value: 0.6037735849056604 and parameters: {'penalty': None, 'C': 5.109810356177191}. Best is trial 16 with value: 0.6886792452830188.\n",
      "[I 2024-02-24 15:21:34,122] Trial 48 finished with value: 0.6367924528301887 and parameters: {'penalty': 'l2', 'C': 1.015810148649463}. Best is trial 16 with value: 0.6886792452830188.\n",
      "[I 2024-02-24 15:21:34,240] Trial 49 finished with value: 0.5990566037735849 and parameters: {'penalty': 'l2', 'C': 8928.997996675023}. Best is trial 16 with value: 0.6886792452830188.\n"
     ]
    },
    {
     "name": "stdout",
     "output_type": "stream",
     "text": [
      "{'penalty': 'l2', 'C': 5.449257421576762}\n",
      "              precision    recall  f1-score   support\n",
      "\n",
      "           0       0.78      0.71      0.74        41\n",
      "           1       0.81      0.70      0.75        30\n",
      "           2       0.64      0.64      0.64        25\n",
      "           3       0.54      0.54      0.54        28\n",
      "           4       0.67      0.69      0.68        49\n",
      "           5       0.69      0.79      0.74        39\n",
      "\n",
      "    accuracy                           0.69       212\n",
      "   macro avg       0.69      0.68      0.68       212\n",
      "weighted avg       0.69      0.69      0.69       212\n"
     ]
    }
   ],
   "source": [
    "# use optuna to optimize the hyperparameters of the logistic regression\n",
    "def objective_log(trial):\n",
    "    \n",
    "    # Define the hyperparameters to optimize\n",
    "    penalty = trial.suggest_categorical('penalty', ['l2', None])\n",
    "    \n",
    "    C = trial.suggest_float('C', 1e-5, 1e5, log=True)\n",
    "    \n",
    "    # Create the model\n",
    "    logisticRegr = LogisticRegression(penalty=penalty, C=C, max_iter=1000)\n",
    "    \n",
    "    # Fit the model\n",
    "    logisticRegr.fit(X_train, y_train)\n",
    "    \n",
    "    # Predict the model\n",
    "    predictions = logisticRegr.predict(X_test)\n",
    "    \n",
    "    # Return the accuracy\n",
    "    return classification_report(y_test, predictions, output_dict=True , zero_division=0)['accuracy']\n",
    "\n",
    "# Create the study\n",
    "study = optuna.create_study(direction='maximize')\n",
    "\n",
    "# Optimize the study\n",
    "study.optimize(objective_log, n_trials=50)\n",
    "\n",
    "#print the best parameters\n",
    "print(study.best_params)\n",
    "\n",
    "# Get the best parameters\n",
    "best_params = study.best_params\n",
    "\n",
    "#run the logistic regression with the best parameters\n",
    "logisticRegr = LogisticRegression(penalty=best_params['penalty'], C=best_params['C'], max_iter=1000)\n",
    "\n",
    "logisticRegr.fit(X_train, y_train)\n",
    "\n",
    "predictions = logisticRegr.predict(X_test)\n",
    "\n",
    "print(classification_report(y_test, predictions))"
   ]
  },
  {
   "cell_type": "markdown",
   "source": [
    "There is some improvement in the accuracy, from 0.64 to 0.69.\n",
    "\n",
    "Let's try to use other models to classify the words."
   ],
   "metadata": {
    "collapsed": false
   },
   "id": "126e8c7b9a855cc0"
  },
  {
   "cell_type": "markdown",
   "source": [
    "We move on with support vector machine (SVM) to classify the words"
   ],
   "metadata": {
    "collapsed": false
   },
   "id": "a9ebdead88b86cd1"
  },
  {
   "cell_type": "code",
   "execution_count": 12,
   "id": "83877787028355f",
   "metadata": {
    "collapsed": false,
    "ExecuteTime": {
     "end_time": "2024-02-24T13:13:06.771781300Z",
     "start_time": "2024-02-24T13:13:06.580383100Z"
    }
   },
   "outputs": [
    {
     "name": "stdout",
     "output_type": "stream",
     "text": [
      "              precision    recall  f1-score   support\n",
      "\n",
      "           0       0.68      0.61      0.64        41\n",
      "           1       0.80      0.53      0.64        30\n",
      "           2       0.61      0.68      0.64        25\n",
      "           3       0.61      0.50      0.55        28\n",
      "           4       0.61      0.78      0.68        49\n",
      "           5       0.69      0.74      0.72        39\n",
      "\n",
      "    accuracy                           0.66       212\n",
      "   macro avg       0.67      0.64      0.65       212\n",
      "weighted avg       0.66      0.66      0.65       212\n"
     ]
    }
   ],
   "source": [
    "# perform svm to classify the words\n",
    "svm = SVC()\n",
    "\n",
    "svm.fit(X_train, y_train)\n",
    "\n",
    "predictions = svm.predict(X_test)\n",
    "\n",
    "print(classification_report(y_test, predictions))"
   ]
  },
  {
   "cell_type": "markdown",
   "source": [
    "This is better than the logistic regression, but we can use optuna to optimize the hyperparameters of the SVM."
   ],
   "metadata": {
    "collapsed": false
   },
   "id": "633f63835d9adf17"
  },
  {
   "cell_type": "code",
   "execution_count": 17,
   "id": "497a5a463f8c7060",
   "metadata": {
    "collapsed": false,
    "ExecuteTime": {
     "end_time": "2024-02-24T13:20:02.790017Z",
     "start_time": "2024-02-24T13:19:53.885018900Z"
    }
   },
   "outputs": [
    {
     "name": "stderr",
     "output_type": "stream",
     "text": [
      "[I 2024-02-24 15:19:53,884] A new study created in memory with name: no-name-a4c134aa-a83f-4501-ba4f-8a3dcfa7adc0\n",
      "[I 2024-02-24 15:19:54,053] Trial 0 finished with value: 0.23113207547169812 and parameters: {'C': 7.383911021345929, 'kernel': 'sigmoid', 'degree': 3, 'gamma': 'auto'}. Best is trial 0 with value: 0.23113207547169812.\n",
      "[I 2024-02-24 15:19:54,197] Trial 1 finished with value: 0.23113207547169812 and parameters: {'C': 1.9890683490482823e-05, 'kernel': 'linear', 'degree': 8, 'gamma': 'auto'}. Best is trial 0 with value: 0.23113207547169812.\n",
      "[I 2024-02-24 15:19:54,346] Trial 2 finished with value: 0.23113207547169812 and parameters: {'C': 3550.4214778294036, 'kernel': 'poly', 'degree': 3, 'gamma': 'auto'}. Best is trial 0 with value: 0.23113207547169812.\n",
      "[I 2024-02-24 15:19:54,470] Trial 3 finished with value: 0.6179245283018868 and parameters: {'C': 110.20925536699872, 'kernel': 'linear', 'degree': 8, 'gamma': 'auto'}. Best is trial 3 with value: 0.6179245283018868.\n",
      "[I 2024-02-24 15:19:54,594] Trial 4 finished with value: 0.6179245283018868 and parameters: {'C': 96132.6948418836, 'kernel': 'linear', 'degree': 6, 'gamma': 'auto'}. Best is trial 3 with value: 0.6179245283018868.\n",
      "[I 2024-02-24 15:19:54,758] Trial 5 finished with value: 0.23113207547169812 and parameters: {'C': 4.162669862745351, 'kernel': 'sigmoid', 'degree': 1, 'gamma': 'auto'}. Best is trial 3 with value: 0.6179245283018868.\n",
      "[I 2024-02-24 15:19:54,924] Trial 6 finished with value: 0.6226415094339622 and parameters: {'C': 14181.639427116339, 'kernel': 'rbf', 'degree': 2, 'gamma': 'auto'}. Best is trial 6 with value: 0.6226415094339622.\n",
      "[I 2024-02-24 15:19:55,125] Trial 7 finished with value: 0.23113207547169812 and parameters: {'C': 0.000714227098332259, 'kernel': 'rbf', 'degree': 7, 'gamma': 'scale'}. Best is trial 6 with value: 0.6226415094339622.\n",
      "[I 2024-02-24 15:19:55,306] Trial 8 finished with value: 0.5424528301886793 and parameters: {'C': 5736.8860627836, 'kernel': 'sigmoid', 'degree': 1, 'gamma': 'scale'}. Best is trial 6 with value: 0.6226415094339622.\n",
      "[I 2024-02-24 15:19:55,478] Trial 9 finished with value: 0.7075471698113207 and parameters: {'C': 2.1001201151035334, 'kernel': 'rbf', 'degree': 8, 'gamma': 'scale'}. Best is trial 9 with value: 0.7075471698113207.\n",
      "[I 2024-02-24 15:19:55,693] Trial 10 finished with value: 0.23113207547169812 and parameters: {'C': 0.017128951654045526, 'kernel': 'rbf', 'degree': 10, 'gamma': 'scale'}. Best is trial 9 with value: 0.7075471698113207.\n",
      "[I 2024-02-24 15:19:55,904] Trial 11 finished with value: 0.23113207547169812 and parameters: {'C': 0.07104499985558754, 'kernel': 'rbf', 'degree': 4, 'gamma': 'scale'}. Best is trial 9 with value: 0.7075471698113207.\n",
      "[I 2024-02-24 15:19:56,118] Trial 12 finished with value: 0.660377358490566 and parameters: {'C': 379.72430309992444, 'kernel': 'rbf', 'degree': 10, 'gamma': 'scale'}. Best is trial 9 with value: 0.7075471698113207.\n",
      "[I 2024-02-24 15:19:56,332] Trial 13 finished with value: 0.660377358490566 and parameters: {'C': 111.84215637525985, 'kernel': 'rbf', 'degree': 10, 'gamma': 'scale'}. Best is trial 9 with value: 0.7075471698113207.\n",
      "[I 2024-02-24 15:19:56,513] Trial 14 finished with value: 0.6745283018867925 and parameters: {'C': 96.87252138416453, 'kernel': 'poly', 'degree': 9, 'gamma': 'scale'}. Best is trial 9 with value: 0.7075471698113207.\n",
      "[I 2024-02-24 15:19:56,684] Trial 15 finished with value: 0.25 and parameters: {'C': 0.24304526263982656, 'kernel': 'poly', 'degree': 8, 'gamma': 'scale'}. Best is trial 9 with value: 0.7075471698113207.\n",
      "[I 2024-02-24 15:19:56,859] Trial 16 finished with value: 0.7028301886792453 and parameters: {'C': 6.538447411810787, 'kernel': 'poly', 'degree': 6, 'gamma': 'scale'}. Best is trial 9 with value: 0.7075471698113207.\n",
      "[I 2024-02-24 15:19:57,029] Trial 17 finished with value: 0.23113207547169812 and parameters: {'C': 0.006839691248785011, 'kernel': 'poly', 'degree': 5, 'gamma': 'scale'}. Best is trial 9 with value: 0.7075471698113207.\n",
      "[I 2024-02-24 15:19:57,204] Trial 18 finished with value: 0.7075471698113207 and parameters: {'C': 2.2605638839366704, 'kernel': 'poly', 'degree': 6, 'gamma': 'scale'}. Best is trial 9 with value: 0.7075471698113207.\n",
      "[I 2024-02-24 15:19:57,380] Trial 19 finished with value: 0.7075471698113207 and parameters: {'C': 0.9804175647088382, 'kernel': 'poly', 'degree': 7, 'gamma': 'scale'}. Best is trial 9 with value: 0.7075471698113207.\n",
      "[I 2024-02-24 15:19:57,590] Trial 20 finished with value: 0.23113207547169812 and parameters: {'C': 0.0007965561494511081, 'kernel': 'rbf', 'degree': 7, 'gamma': 'scale'}. Best is trial 9 with value: 0.7075471698113207.\n",
      "[I 2024-02-24 15:19:57,754] Trial 21 finished with value: 0.6933962264150944 and parameters: {'C': 0.8113606447126035, 'kernel': 'poly', 'degree': 5, 'gamma': 'scale'}. Best is trial 9 with value: 0.7075471698113207.\n",
      "[I 2024-02-24 15:19:57,926] Trial 22 finished with value: 0.6556603773584906 and parameters: {'C': 0.6025301733048913, 'kernel': 'poly', 'degree': 7, 'gamma': 'scale'}. Best is trial 9 with value: 0.7075471698113207.\n",
      "[I 2024-02-24 15:19:58,102] Trial 23 finished with value: 0.7028301886792453 and parameters: {'C': 11.743307474912259, 'kernel': 'poly', 'degree': 6, 'gamma': 'scale'}. Best is trial 9 with value: 0.7075471698113207.\n",
      "[I 2024-02-24 15:19:58,279] Trial 24 finished with value: 0.23113207547169812 and parameters: {'C': 0.14924553602205515, 'kernel': 'poly', 'degree': 9, 'gamma': 'scale'}. Best is trial 9 with value: 0.7075471698113207.\n",
      "[I 2024-02-24 15:19:58,446] Trial 25 finished with value: 0.23113207547169812 and parameters: {'C': 0.022013565019391456, 'kernel': 'poly', 'degree': 5, 'gamma': 'scale'}. Best is trial 9 with value: 0.7075471698113207.\n",
      "[I 2024-02-24 15:19:58,578] Trial 26 finished with value: 0.6462264150943396 and parameters: {'C': 1.0872301045000832, 'kernel': 'linear', 'degree': 7, 'gamma': 'scale'}. Best is trial 9 with value: 0.7075471698113207.\n",
      "[I 2024-02-24 15:19:58,707] Trial 27 finished with value: 0.6698113207547169 and parameters: {'C': 22.419104934162014, 'kernel': 'sigmoid', 'degree': 9, 'gamma': 'scale'}. Best is trial 9 with value: 0.7075471698113207.\n",
      "[I 2024-02-24 15:19:58,889] Trial 28 finished with value: 0.6981132075471698 and parameters: {'C': 2.8022078066007134, 'kernel': 'poly', 'degree': 8, 'gamma': 'scale'}. Best is trial 9 with value: 0.7075471698113207.\n",
      "[I 2024-02-24 15:19:59,066] Trial 29 finished with value: 0.23113207547169812 and parameters: {'C': 0.004926943883776418, 'kernel': 'sigmoid', 'degree': 4, 'gamma': 'scale'}. Best is trial 9 with value: 0.7075471698113207.\n",
      "[I 2024-02-24 15:19:59,284] Trial 30 finished with value: 0.660377358490566 and parameters: {'C': 644.8398077220763, 'kernel': 'rbf', 'degree': 4, 'gamma': 'scale'}. Best is trial 9 with value: 0.7075471698113207.\n",
      "[I 2024-02-24 15:19:59,462] Trial 31 finished with value: 0.7028301886792453 and parameters: {'C': 24.71711521872377, 'kernel': 'poly', 'degree': 6, 'gamma': 'scale'}. Best is trial 9 with value: 0.7075471698113207.\n",
      "[I 2024-02-24 15:19:59,640] Trial 32 finished with value: 0.6933962264150944 and parameters: {'C': 3.9934573243513034, 'kernel': 'poly', 'degree': 7, 'gamma': 'scale'}. Best is trial 9 with value: 0.7075471698113207.\n",
      "[I 2024-02-24 15:19:59,817] Trial 33 finished with value: 0.7028301886792453 and parameters: {'C': 1.0906834615388157, 'kernel': 'poly', 'degree': 6, 'gamma': 'scale'}. Best is trial 9 with value: 0.7075471698113207.\n",
      "[I 2024-02-24 15:19:59,976] Trial 34 finished with value: 0.23113207547169812 and parameters: {'C': 0.07361551173756163, 'kernel': 'poly', 'degree': 8, 'gamma': 'auto'}. Best is trial 9 with value: 0.7075471698113207.\n",
      "[I 2024-02-24 15:20:00,104] Trial 35 finished with value: 0.6415094339622641 and parameters: {'C': 23.805763955725133, 'kernel': 'linear', 'degree': 6, 'gamma': 'auto'}. Best is trial 9 with value: 0.7075471698113207.\n",
      "[I 2024-02-24 15:20:00,290] Trial 36 finished with value: 0.6981132075471698 and parameters: {'C': 5.796600435613268, 'kernel': 'poly', 'degree': 8, 'gamma': 'scale'}. Best is trial 9 with value: 0.7075471698113207.\n",
      "[I 2024-02-24 15:20:00,442] Trial 37 finished with value: 0.6179245283018868 and parameters: {'C': 0.35466519207540703, 'kernel': 'linear', 'degree': 5, 'gamma': 'auto'}. Best is trial 9 with value: 0.7075471698113207.\n",
      "[I 2024-02-24 15:20:00,623] Trial 38 finished with value: 0.6933962264150944 and parameters: {'C': 74.69585696922606, 'kernel': 'poly', 'degree': 7, 'gamma': 'scale'}. Best is trial 9 with value: 0.7075471698113207.\n",
      "[I 2024-02-24 15:20:00,792] Trial 39 finished with value: 0.23113207547169812 and parameters: {'C': 2.3131700578309665e-05, 'kernel': 'sigmoid', 'degree': 6, 'gamma': 'auto'}. Best is trial 9 with value: 0.7075471698113207.\n",
      "[I 2024-02-24 15:20:01,004] Trial 40 finished with value: 0.660377358490566 and parameters: {'C': 907.244130009888, 'kernel': 'rbf', 'degree': 9, 'gamma': 'scale'}. Best is trial 9 with value: 0.7075471698113207.\n",
      "[I 2024-02-24 15:20:01,181] Trial 41 finished with value: 0.7028301886792453 and parameters: {'C': 13.441675030610867, 'kernel': 'poly', 'degree': 6, 'gamma': 'scale'}. Best is trial 9 with value: 0.7075471698113207.\n",
      "[I 2024-02-24 15:20:01,362] Trial 42 finished with value: 0.6933962264150944 and parameters: {'C': 3.0020838213398, 'kernel': 'poly', 'degree': 7, 'gamma': 'scale'}. Best is trial 9 with value: 0.7075471698113207.\n",
      "[I 2024-02-24 15:20:01,541] Trial 43 finished with value: 0.7122641509433962 and parameters: {'C': 1.8281599977692966, 'kernel': 'poly', 'degree': 6, 'gamma': 'scale'}. Best is trial 43 with value: 0.7122641509433962.\n",
      "[I 2024-02-24 15:20:01,714] Trial 44 finished with value: 0.7028301886792453 and parameters: {'C': 1.3588251763994328, 'kernel': 'poly', 'degree': 5, 'gamma': 'scale'}. Best is trial 43 with value: 0.7122641509433962.\n",
      "[I 2024-02-24 15:20:01,928] Trial 45 finished with value: 0.2358490566037736 and parameters: {'C': 0.1297649187128465, 'kernel': 'rbf', 'degree': 3, 'gamma': 'scale'}. Best is trial 43 with value: 0.7122641509433962.\n",
      "[I 2024-02-24 15:20:02,102] Trial 46 finished with value: 0.23113207547169812 and parameters: {'C': 0.034732156018254634, 'kernel': 'poly', 'degree': 8, 'gamma': 'scale'}. Best is trial 43 with value: 0.7122641509433962.\n",
      "[I 2024-02-24 15:20:02,240] Trial 47 finished with value: 0.6179245283018868 and parameters: {'C': 55.85404826206339, 'kernel': 'linear', 'degree': 7, 'gamma': 'auto'}. Best is trial 43 with value: 0.7122641509433962.\n",
      "[I 2024-02-24 15:20:02,455] Trial 48 finished with value: 0.660377358490566 and parameters: {'C': 201.43245042032098, 'kernel': 'rbf', 'degree': 4, 'gamma': 'scale'}. Best is trial 43 with value: 0.7122641509433962.\n",
      "[I 2024-02-24 15:20:02,611] Trial 49 finished with value: 0.6367924528301887 and parameters: {'C': 0.2883390876820827, 'kernel': 'poly', 'degree': 2, 'gamma': 'scale'}. Best is trial 43 with value: 0.7122641509433962.\n"
     ]
    },
    {
     "name": "stdout",
     "output_type": "stream",
     "text": [
      "              precision    recall  f1-score   support\n",
      "\n",
      "           0       0.67      0.71      0.69        41\n",
      "           1       0.83      0.67      0.74        30\n",
      "           2       0.74      0.80      0.77        25\n",
      "           3       0.65      0.61      0.63        28\n",
      "           4       0.69      0.71      0.70        49\n",
      "           5       0.73      0.77      0.75        39\n",
      "\n",
      "    accuracy                           0.71       212\n",
      "   macro avg       0.72      0.71      0.71       212\n",
      "weighted avg       0.72      0.71      0.71       212\n"
     ]
    }
   ],
   "source": [
    "# Create an optuna function to optimize the hyperparameters of the SVM\n",
    "def objective_svm(trial):\n",
    "    \n",
    "    # Define the hyperparameters to optimize\n",
    "    C = trial.suggest_float('C', 1e-5, 1e5, log=True)\n",
    "    kernel = trial.suggest_categorical('kernel', ['linear', 'poly', 'rbf', 'sigmoid'])\n",
    "    degree = trial.suggest_int('degree', 1, 10)\n",
    "    gamma = trial.suggest_categorical('gamma', ['scale', 'auto'])\n",
    "    \n",
    "    # Create the model\n",
    "    svm = SVC(C=C, kernel=kernel, degree=degree, gamma=gamma)\n",
    "    \n",
    "    # Fit the model\n",
    "    svm.fit(X_train, y_train)\n",
    "    \n",
    "    # Predict the model\n",
    "    predictions = svm.predict(X_test)\n",
    "    \n",
    "    # Return the accuracy\n",
    "    return classification_report(y_test, predictions,  output_dict=True, zero_division=0)['accuracy']\n",
    "\n",
    "# Create the study\n",
    "study = optuna.create_study(direction='maximize')\n",
    "\n",
    "# Optimize the study\n",
    "study.optimize(objective_svm, n_trials=50)\n",
    "\n",
    "# print the classification report with the best parameters\n",
    "best_params_svm = study.best_params\n",
    "\n",
    "svm = SVC(C=best_params_svm['C'], kernel=best_params_svm['kernel'], degree=best_params_svm['degree'], gamma=best_params_svm['gamma'])\n",
    "\n",
    "svm.fit(X_train, y_train)\n",
    "\n",
    "predictions = svm.predict(X_test)\n",
    "\n",
    "print(classification_report(y_test, predictions))"
   ]
  },
  {
   "cell_type": "markdown",
   "source": [
    "There is a significant improvement of the original accuracy of 0.66 to 0.71."
   ],
   "metadata": {
    "collapsed": false
   },
   "id": "b641f383e916b672"
  },
  {
   "cell_type": "markdown",
   "source": [
    "We move on with stochastic gradient descent (SGD) to classify the words with the default parameters."
   ],
   "metadata": {
    "collapsed": false
   },
   "id": "97e455b52233b5d1"
  },
  {
   "cell_type": "code",
   "execution_count": 14,
   "id": "c631bb16de3b9e97",
   "metadata": {
    "collapsed": false,
    "ExecuteTime": {
     "end_time": "2024-02-24T13:13:37.893644300Z",
     "start_time": "2024-02-24T13:13:37.730044600Z"
    }
   },
   "outputs": [
    {
     "name": "stdout",
     "output_type": "stream",
     "text": [
      "              precision    recall  f1-score   support\n",
      "\n",
      "           0       0.74      0.71      0.72        41\n",
      "           1       0.81      0.70      0.75        30\n",
      "           2       0.54      0.80      0.65        25\n",
      "           3       0.61      0.50      0.55        28\n",
      "           4       0.74      0.71      0.73        49\n",
      "           5       0.68      0.69      0.68        39\n",
      "\n",
      "    accuracy                           0.69       212\n",
      "   macro avg       0.69      0.69      0.68       212\n",
      "weighted avg       0.70      0.69      0.69       212\n"
     ]
    }
   ],
   "source": [
    "#perform SGD to classify the words\n",
    "sgd = SGDClassifier()\n",
    "\n",
    "sgd.fit(X_train, y_train)\n",
    "\n",
    "predictions = sgd.predict(X_test)\n",
    "\n",
    "print(classification_report(y_test, predictions))"
   ]
  },
  {
   "cell_type": "markdown",
   "source": [
    "The accuracy is 0.69, which is not very high. We can use optuna to optimize the hyperparameters of the SGD."
   ],
   "metadata": {
    "collapsed": false
   },
   "id": "10db58d8759f0db"
  },
  {
   "cell_type": "code",
   "execution_count": 18,
   "id": "4d739e8649ef4747",
   "metadata": {
    "collapsed": false,
    "ExecuteTime": {
     "end_time": "2024-02-24T13:21:18.089593Z",
     "start_time": "2024-02-24T13:20:44.057446500Z"
    }
   },
   "outputs": [
    {
     "name": "stderr",
     "output_type": "stream",
     "text": [
      "[I 2024-02-24 15:20:44,057] A new study created in memory with name: no-name-e63504f9-09aa-4ebc-b06d-32a99c147384\n",
      "[I 2024-02-24 15:20:44,973] Trial 0 finished with value: 0.6179245283018868 and parameters: {'loss': 'log_loss', 'penalty': 'l2', 'alpha': 8.869158359672956e-05, 'learning_rate': 'adaptive', 'eta0': 0.006292980805760247, 'l1_ratio': 0.7879974154984328}. Best is trial 0 with value: 0.6179245283018868.\n",
      "[I 2024-02-24 15:20:45,108] Trial 1 finished with value: 0.23113207547169812 and parameters: {'loss': 'perceptron', 'penalty': 'l1', 'alpha': 0.004898312514319803, 'learning_rate': 'invscaling', 'eta0': 0.0005620474353849702, 'l1_ratio': 0.7360326034538617}. Best is trial 0 with value: 0.6179245283018868.\n",
      "[I 2024-02-24 15:20:45,753] Trial 2 finished with value: 0.6226415094339622 and parameters: {'loss': 'log_loss', 'penalty': 'elasticnet', 'alpha': 0.0003702331750030169, 'learning_rate': 'optimal', 'eta0': 1.1230655325593459e-05, 'l1_ratio': 0.43099553993029105}. Best is trial 2 with value: 0.6226415094339622.\n",
      "[I 2024-02-24 15:20:45,896] Trial 3 finished with value: 0.5188679245283019 and parameters: {'loss': 'perceptron', 'penalty': 'l1', 'alpha': 0.00030819633528699077, 'learning_rate': 'constant', 'eta0': 0.028025263367847702, 'l1_ratio': 0.3875642760645881}. Best is trial 2 with value: 0.6226415094339622.\n",
      "[I 2024-02-24 15:20:46,768] Trial 4 finished with value: 0.23113207547169812 and parameters: {'loss': 'perceptron', 'penalty': 'l1', 'alpha': 0.0933456906570281, 'learning_rate': 'adaptive', 'eta0': 0.00026840817274505793, 'l1_ratio': 0.43669371210814034}. Best is trial 2 with value: 0.6226415094339622.\n",
      "[I 2024-02-24 15:20:47,049] Trial 5 finished with value: 0.23113207547169812 and parameters: {'loss': 'log_loss', 'penalty': 'elasticnet', 'alpha': 0.05236658701885484, 'learning_rate': 'optimal', 'eta0': 0.0003113937252058365, 'l1_ratio': 0.47639074675499116}. Best is trial 2 with value: 0.6226415094339622.\n",
      "[I 2024-02-24 15:20:47,543] Trial 6 finished with value: 0.23113207547169812 and parameters: {'loss': 'squared_hinge', 'penalty': 'elasticnet', 'alpha': 3.7713441916214135e-06, 'learning_rate': 'invscaling', 'eta0': 0.0019889750233825693, 'l1_ratio': 0.6350176067222667}. Best is trial 2 with value: 0.6226415094339622.\n",
      "[I 2024-02-24 15:20:47,975] Trial 7 finished with value: 0.6226415094339622 and parameters: {'loss': 'hinge', 'penalty': 'elasticnet', 'alpha': 0.000781250297715185, 'learning_rate': 'optimal', 'eta0': 0.0001563349240060829, 'l1_ratio': 0.8173900361277339}. Best is trial 2 with value: 0.6226415094339622.\n",
      "[I 2024-02-24 15:20:48,193] Trial 8 finished with value: 0.5754716981132075 and parameters: {'loss': 'squared_hinge', 'penalty': 'l2', 'alpha': 0.0676789996810588, 'learning_rate': 'constant', 'eta0': 0.0012169018556830488, 'l1_ratio': 0.7792127516095392}. Best is trial 2 with value: 0.6226415094339622.\n",
      "[I 2024-02-24 15:20:49,273] Trial 9 finished with value: 0.23113207547169812 and parameters: {'loss': 'squared_hinge', 'penalty': 'elasticnet', 'alpha': 0.009432094017613682, 'learning_rate': 'invscaling', 'eta0': 0.001727768028436311, 'l1_ratio': 0.6326769783254411}. Best is trial 2 with value: 0.6226415094339622.\n",
      "[I 2024-02-24 15:20:50,014] Trial 10 finished with value: 0.660377358490566 and parameters: {'loss': 'log_loss', 'penalty': 'elasticnet', 'alpha': 1.2134818657540837e-05, 'learning_rate': 'optimal', 'eta0': 1.0734141927426523e-05, 'l1_ratio': 0.08954376897925409}. Best is trial 10 with value: 0.660377358490566.\n",
      "[I 2024-02-24 15:20:50,871] Trial 11 finished with value: 0.6273584905660378 and parameters: {'loss': 'log_loss', 'penalty': 'elasticnet', 'alpha': 8.500192955033123e-06, 'learning_rate': 'optimal', 'eta0': 1.0589960388735084e-05, 'l1_ratio': 0.08918158248337482}. Best is trial 10 with value: 0.660377358490566.\n",
      "[I 2024-02-24 15:20:51,740] Trial 12 finished with value: 0.6462264150943396 and parameters: {'loss': 'log_loss', 'penalty': 'elasticnet', 'alpha': 2.6832261156318374e-06, 'learning_rate': 'optimal', 'eta0': 1.1826662744157275e-05, 'l1_ratio': 0.06197093065363637}. Best is trial 10 with value: 0.660377358490566.\n",
      "[I 2024-02-24 15:20:52,558] Trial 13 finished with value: 0.6037735849056604 and parameters: {'loss': 'log_loss', 'penalty': 'elasticnet', 'alpha': 1.08834153594978e-06, 'learning_rate': 'optimal', 'eta0': 4.8053065825285105e-05, 'l1_ratio': 0.026627771963838538}. Best is trial 10 with value: 0.660377358490566.\n",
      "[I 2024-02-24 15:20:53,290] Trial 14 finished with value: 0.6226415094339622 and parameters: {'loss': 'hinge', 'penalty': 'elasticnet', 'alpha': 2.8856251541688072e-05, 'learning_rate': 'optimal', 'eta0': 5.1261149721979155e-05, 'l1_ratio': 0.21555792254263076}. Best is trial 10 with value: 0.660377358490566.\n",
      "[I 2024-02-24 15:20:53,561] Trial 15 finished with value: 0.660377358490566 and parameters: {'loss': 'log_loss', 'penalty': 'l2', 'alpha': 1.4796619010893935e-05, 'learning_rate': 'optimal', 'eta0': 5.232933903952594e-05, 'l1_ratio': 0.24230888626093564}. Best is trial 10 with value: 0.660377358490566.\n",
      "[I 2024-02-24 15:20:53,798] Trial 16 finished with value: 0.5754716981132075 and parameters: {'loss': 'log_loss', 'penalty': 'l2', 'alpha': 2.1851189663453462e-05, 'learning_rate': 'optimal', 'eta0': 7.866520687512573e-05, 'l1_ratio': 0.27000871097416684}. Best is trial 10 with value: 0.660377358490566.\n",
      "[I 2024-02-24 15:20:54,700] Trial 17 finished with value: 0.23113207547169812 and parameters: {'loss': 'log_loss', 'penalty': 'l2', 'alpha': 5.801773407279978e-05, 'learning_rate': 'adaptive', 'eta0': 3.142928803578002e-05, 'l1_ratio': 0.9751902829123611}. Best is trial 10 with value: 0.660377358490566.\n",
      "[I 2024-02-24 15:20:55,024] Trial 18 finished with value: 0.5849056603773585 and parameters: {'loss': 'hinge', 'penalty': 'l2', 'alpha': 8.817666709253591e-06, 'learning_rate': 'constant', 'eta0': 2.664898232731697e-05, 'l1_ratio': 0.19993393499723824}. Best is trial 10 with value: 0.660377358490566.\n",
      "[I 2024-02-24 15:20:55,209] Trial 19 finished with value: 0.6839622641509434 and parameters: {'loss': 'log_loss', 'penalty': 'l2', 'alpha': 0.0001337233571249784, 'learning_rate': 'optimal', 'eta0': 0.07616596316693416, 'l1_ratio': 0.30846069705099327}. Best is trial 19 with value: 0.6839622641509434.\n",
      "[I 2024-02-24 15:20:55,368] Trial 20 finished with value: 0.6698113207547169 and parameters: {'loss': 'log_loss', 'penalty': 'l2', 'alpha': 0.00016100953120571374, 'learning_rate': 'optimal', 'eta0': 0.08253760195693005, 'l1_ratio': 0.344628075458683}. Best is trial 19 with value: 0.6839622641509434.\n",
      "[I 2024-02-24 15:20:55,550] Trial 21 finished with value: 0.6462264150943396 and parameters: {'loss': 'log_loss', 'penalty': 'l2', 'alpha': 0.0001536146805305894, 'learning_rate': 'optimal', 'eta0': 0.06928422277405617, 'l1_ratio': 0.37181145117863956}. Best is trial 19 with value: 0.6839622641509434.\n",
      "[I 2024-02-24 15:20:55,692] Trial 22 finished with value: 0.6179245283018868 and parameters: {'loss': 'log_loss', 'penalty': 'l2', 'alpha': 0.000877240734675964, 'learning_rate': 'optimal', 'eta0': 0.013849290548148607, 'l1_ratio': 0.1478182536623123}. Best is trial 19 with value: 0.6839622641509434.\n",
      "[I 2024-02-24 15:20:55,914] Trial 23 finished with value: 0.6698113207547169 and parameters: {'loss': 'log_loss', 'penalty': 'l2', 'alpha': 5.09063853971021e-05, 'learning_rate': 'optimal', 'eta0': 0.06586373223798211, 'l1_ratio': 0.3180426576805092}. Best is trial 19 with value: 0.6839622641509434.\n",
      "[I 2024-02-24 15:20:56,026] Trial 24 finished with value: 0.6320754716981132 and parameters: {'loss': 'log_loss', 'penalty': 'l2', 'alpha': 0.0028110222701048957, 'learning_rate': 'optimal', 'eta0': 0.09539541645082296, 'l1_ratio': 0.3282265504869037}. Best is trial 19 with value: 0.6839622641509434.\n",
      "[I 2024-02-24 15:20:56,225] Trial 25 finished with value: 0.6745283018867925 and parameters: {'loss': 'log_loss', 'penalty': 'l2', 'alpha': 6.597771999013005e-05, 'learning_rate': 'optimal', 'eta0': 0.03509163992652497, 'l1_ratio': 0.563385508765512}. Best is trial 19 with value: 0.6839622641509434.\n",
      "[I 2024-02-24 15:20:56,276] Trial 26 finished with value: 0.6132075471698113 and parameters: {'loss': 'perceptron', 'penalty': 'l2', 'alpha': 0.00018334485909061706, 'learning_rate': 'invscaling', 'eta0': 0.027237499584022648, 'l1_ratio': 0.5503391526664274}. Best is trial 19 with value: 0.6839622641509434.\n",
      "[I 2024-02-24 15:20:56,336] Trial 27 finished with value: 0.6462264150943396 and parameters: {'loss': 'hinge', 'penalty': 'l2', 'alpha': 0.0010114100288518635, 'learning_rate': 'constant', 'eta0': 0.0044595450387758554, 'l1_ratio': 0.5680599464454225}. Best is trial 19 with value: 0.6839622641509434.\n",
      "[I 2024-02-24 15:20:56,999] Trial 28 finished with value: 0.6745283018867925 and parameters: {'loss': 'squared_hinge', 'penalty': 'l2', 'alpha': 0.00011008558580386672, 'learning_rate': 'adaptive', 'eta0': 0.03845807665277665, 'l1_ratio': 0.5417320744404739}. Best is trial 19 with value: 0.6839622641509434.\n",
      "[I 2024-02-24 15:20:58,058] Trial 29 finished with value: 0.6650943396226415 and parameters: {'loss': 'squared_hinge', 'penalty': 'l2', 'alpha': 6.759106587718946e-05, 'learning_rate': 'adaptive', 'eta0': 0.0074803505793455205, 'l1_ratio': 0.6811020859249395}. Best is trial 19 with value: 0.6839622641509434.\n",
      "[I 2024-02-24 15:21:00,790] Trial 30 finished with value: 0.6650943396226415 and parameters: {'loss': 'squared_hinge', 'penalty': 'l1', 'alpha': 0.0004541132455801899, 'learning_rate': 'adaptive', 'eta0': 0.03194644186425191, 'l1_ratio': 0.514805235112823}. Best is trial 19 with value: 0.6839622641509434.\n",
      "[I 2024-02-24 15:21:01,475] Trial 31 finished with value: 0.6792452830188679 and parameters: {'loss': 'squared_hinge', 'penalty': 'l2', 'alpha': 0.00014228576129773378, 'learning_rate': 'adaptive', 'eta0': 0.045103993079661606, 'l1_ratio': 0.5786041034679642}. Best is trial 19 with value: 0.6839622641509434.\n",
      "[I 2024-02-24 15:21:02,150] Trial 32 finished with value: 0.6839622641509434 and parameters: {'loss': 'squared_hinge', 'penalty': 'l2', 'alpha': 8.749804068204586e-05, 'learning_rate': 'adaptive', 'eta0': 0.014351639449111647, 'l1_ratio': 0.5902337177377446}. Best is trial 19 with value: 0.6839622641509434.\n",
      "[I 2024-02-24 15:21:02,952] Trial 33 finished with value: 0.6886792452830188 and parameters: {'loss': 'squared_hinge', 'penalty': 'l2', 'alpha': 2.8205853574764996e-05, 'learning_rate': 'adaptive', 'eta0': 0.01332367456137524, 'l1_ratio': 0.6090438043687832}. Best is trial 33 with value: 0.6886792452830188.\n",
      "[I 2024-02-24 15:21:03,637] Trial 34 finished with value: 0.6839622641509434 and parameters: {'loss': 'squared_hinge', 'penalty': 'l2', 'alpha': 3.191083557991246e-05, 'learning_rate': 'adaptive', 'eta0': 0.014116772689209928, 'l1_ratio': 0.8747229375806669}. Best is trial 33 with value: 0.6886792452830188.\n",
      "[I 2024-02-24 15:21:05,128] Trial 35 finished with value: 0.6839622641509434 and parameters: {'loss': 'squared_hinge', 'penalty': 'l1', 'alpha': 3.642473746679224e-05, 'learning_rate': 'adaptive', 'eta0': 0.013597804739891832, 'l1_ratio': 0.8617102127981332}. Best is trial 33 with value: 0.6886792452830188.\n",
      "[I 2024-02-24 15:21:05,888] Trial 36 finished with value: 0.660377358490566 and parameters: {'loss': 'squared_hinge', 'penalty': 'l2', 'alpha': 5.214519730209483e-06, 'learning_rate': 'adaptive', 'eta0': 0.003406765736793633, 'l1_ratio': 0.9875768284460676}. Best is trial 33 with value: 0.6886792452830188.\n",
      "[I 2024-02-24 15:21:07,707] Trial 37 finished with value: 0.6698113207547169 and parameters: {'loss': 'squared_hinge', 'penalty': 'l1', 'alpha': 0.0002812144917788178, 'learning_rate': 'adaptive', 'eta0': 0.017111246374833182, 'l1_ratio': 0.709252851817552}. Best is trial 33 with value: 0.6886792452830188.\n",
      "[I 2024-02-24 15:21:07,872] Trial 38 finished with value: 0.6415094339622641 and parameters: {'loss': 'perceptron', 'penalty': 'l2', 'alpha': 2.5338445765170954e-05, 'learning_rate': 'adaptive', 'eta0': 0.007771054148935864, 'l1_ratio': 0.44963877725527135}. Best is trial 33 with value: 0.6886792452830188.\n",
      "[I 2024-02-24 15:21:08,650] Trial 39 finished with value: 0.6273584905660378 and parameters: {'loss': 'squared_hinge', 'penalty': 'l2', 'alpha': 0.0005149389933296016, 'learning_rate': 'adaptive', 'eta0': 0.0007619221632273141, 'l1_ratio': 0.8739181856829258}. Best is trial 33 with value: 0.6886792452830188.\n",
      "[I 2024-02-24 15:21:09,109] Trial 40 finished with value: 0.6650943396226415 and parameters: {'loss': 'squared_hinge', 'penalty': 'l2', 'alpha': 0.001741470818072404, 'learning_rate': 'adaptive', 'eta0': 0.019742000281575637, 'l1_ratio': 0.6361758591084703}. Best is trial 33 with value: 0.6886792452830188.\n",
      "[I 2024-02-24 15:21:10,678] Trial 41 finished with value: 0.6839622641509434 and parameters: {'loss': 'squared_hinge', 'penalty': 'l1', 'alpha': 2.738377986645066e-05, 'learning_rate': 'adaptive', 'eta0': 0.011763767743929125, 'l1_ratio': 0.9059077334606961}. Best is trial 33 with value: 0.6886792452830188.\n",
      "[I 2024-02-24 15:21:12,368] Trial 42 finished with value: 0.6462264150943396 and parameters: {'loss': 'squared_hinge', 'penalty': 'l1', 'alpha': 3.696781395599291e-05, 'learning_rate': 'adaptive', 'eta0': 0.0032373488093907473, 'l1_ratio': 0.7756826081087623}. Best is trial 33 with value: 0.6886792452830188.\n",
      "[I 2024-02-24 15:21:13,787] Trial 43 finished with value: 0.6745283018867925 and parameters: {'loss': 'squared_hinge', 'penalty': 'l1', 'alpha': 1.7619260861743863e-05, 'learning_rate': 'adaptive', 'eta0': 0.009634773309241113, 'l1_ratio': 0.8418569765295396}. Best is trial 33 with value: 0.6886792452830188.\n",
      "[I 2024-02-24 15:21:14,063] Trial 44 finished with value: 0.38207547169811323 and parameters: {'loss': 'squared_hinge', 'penalty': 'l1', 'alpha': 4.267021279783975e-05, 'learning_rate': 'invscaling', 'eta0': 0.023623758014035472, 'l1_ratio': 0.7382857815083153}. Best is trial 33 with value: 0.6886792452830188.\n",
      "[I 2024-02-24 15:21:15,582] Trial 45 finished with value: 0.6698113207547169 and parameters: {'loss': 'squared_hinge', 'penalty': 'l1', 'alpha': 8.71886759603934e-05, 'learning_rate': 'adaptive', 'eta0': 0.004727427335175098, 'l1_ratio': 0.9085586901344004}. Best is trial 33 with value: 0.6886792452830188.\n",
      "[I 2024-02-24 15:21:15,980] Trial 46 finished with value: 0.6226415094339622 and parameters: {'loss': 'perceptron', 'penalty': 'l1', 'alpha': 0.0002851553620832034, 'learning_rate': 'adaptive', 'eta0': 0.0021533770569448756, 'l1_ratio': 0.4120062129971176}. Best is trial 33 with value: 0.6886792452830188.\n",
      "[I 2024-02-24 15:21:16,347] Trial 47 finished with value: 0.6556603773584906 and parameters: {'loss': 'squared_hinge', 'penalty': 'l2', 'alpha': 5.6879904396064e-06, 'learning_rate': 'constant', 'eta0': 0.051355068448195346, 'l1_ratio': 0.6542660484031765}. Best is trial 33 with value: 0.6886792452830188.\n",
      "[I 2024-02-24 15:21:17,061] Trial 48 finished with value: 0.6037735849056604 and parameters: {'loss': 'squared_hinge', 'penalty': 'l2', 'alpha': 1.1059381974556579e-05, 'learning_rate': 'adaptive', 'eta0': 0.0003783770991291407, 'l1_ratio': 0.48198437885271367}. Best is trial 33 with value: 0.6886792452830188.\n",
      "[I 2024-02-24 15:21:17,443] Trial 49 finished with value: 0.23113207547169812 and parameters: {'loss': 'squared_hinge', 'penalty': 'l1', 'alpha': 0.0310904627014616, 'learning_rate': 'invscaling', 'eta0': 0.01569669752053049, 'l1_ratio': 0.8069840005321073}. Best is trial 33 with value: 0.6886792452830188.\n"
     ]
    },
    {
     "name": "stdout",
     "output_type": "stream",
     "text": [
      "              precision    recall  f1-score   support\n",
      "\n",
      "           0       0.78      0.68      0.73        41\n",
      "           1       0.81      0.73      0.77        30\n",
      "           2       0.64      0.72      0.68        25\n",
      "           3       0.52      0.54      0.53        28\n",
      "           4       0.74      0.69      0.72        49\n",
      "           5       0.65      0.77      0.71        39\n",
      "\n",
      "    accuracy                           0.69       212\n",
      "   macro avg       0.69      0.69      0.69       212\n",
      "weighted avg       0.70      0.69      0.69       212\n"
     ]
    }
   ],
   "source": [
    "# Create an optuna function to optimize the hyperparameters of the SGD\n",
    "def objective_sgd(trial):\n",
    "    # Define the hyperparameters to optimize\n",
    "    loss = trial.suggest_categorical('loss', ['hinge', 'log_loss', 'squared_hinge', 'perceptron'])\n",
    "    penalty = trial.suggest_categorical('penalty', ['l2', 'l1', 'elasticnet'])\n",
    "    alpha = trial.suggest_float('alpha', 1e-6, 1e-1, log=True)\n",
    "    learning_rate = trial.suggest_categorical('learning_rate', ['constant', 'optimal', 'invscaling', 'adaptive'])\n",
    "    eta0 = trial.suggest_float('eta0', 1e-5, 1e-1, log=True)  # Only relevant for certain learning rates\n",
    "    l1_ratio = trial.suggest_float('l1_ratio', 0, 1)\n",
    "    \n",
    "    # Create the model\n",
    "    sgd = SGDClassifier(loss=loss, penalty=penalty, alpha=alpha, learning_rate=learning_rate, eta0=eta0, l1_ratio=l1_ratio)\n",
    "    \n",
    "    # Fit the model\n",
    "    sgd.fit(X_train, y_train)\n",
    "    \n",
    "    # Predict the model\n",
    "    predictions = sgd.predict(X_test)\n",
    "    \n",
    "    # Return the accuracy\n",
    "    return classification_report(y_test, predictions, output_dict=True, zero_division=0)['accuracy']\n",
    "\n",
    "# Create the study\n",
    "study = optuna.create_study(direction='maximize')\n",
    "\n",
    "# Optimize the study\n",
    "study.optimize(objective_sgd, n_trials=50)\n",
    "\n",
    "# Get the best parameters\n",
    "best_params = study.best_params\n",
    "\n",
    "#create the classification with the best parameters\n",
    "sgd = SGDClassifier(loss=best_params['loss'], penalty=best_params['penalty'], alpha=best_params['alpha'], learning_rate=best_params['learning_rate'], eta0=best_params['eta0'], l1_ratio=best_params['l1_ratio'])\n",
    "\n",
    "sgd.fit(X_train, y_train)\n",
    "\n",
    "predictions = sgd.predict(X_test)\n",
    "\n",
    "print(classification_report(y_test, predictions))"
   ]
  },
  {
   "cell_type": "markdown",
   "source": [
    "The accuracy is 0.69, which is the same as the default parameters with some small improvements in the macro avg"
   ],
   "metadata": {
    "collapsed": false
   },
   "id": "4e7d7690bdbea0ee"
  },
  {
   "cell_type": "markdown",
   "source": [
    "Continue with random forest"
   ],
   "metadata": {
    "collapsed": false
   },
   "id": "bfd86905129e0dec"
  },
  {
   "cell_type": "code",
   "execution_count": 16,
   "id": "cc6415bd68d0ddd6",
   "metadata": {
    "collapsed": false,
    "ExecuteTime": {
     "end_time": "2024-02-24T13:09:06.383474700Z",
     "start_time": "2024-02-24T13:09:04.992803300Z"
    }
   },
   "outputs": [
    {
     "name": "stdout",
     "output_type": "stream",
     "text": [
      "              precision    recall  f1-score   support\n",
      "\n",
      "           0       0.59      0.59      0.59        41\n",
      "           1       0.65      0.37      0.47        30\n",
      "           2       0.58      0.60      0.59        25\n",
      "           3       0.54      0.46      0.50        28\n",
      "           4       0.56      0.73      0.64        49\n",
      "           5       0.62      0.64      0.63        39\n",
      "\n",
      "    accuracy                           0.58       212\n",
      "   macro avg       0.59      0.57      0.57       212\n",
      "weighted avg       0.59      0.58      0.58       212\n"
     ]
    }
   ],
   "source": [
    "# Perform random forest to classify the words\n",
    "rf = RandomForestClassifier()\n",
    "\n",
    "rf.fit(X_train, y_train)\n",
    "\n",
    "predictions = rf.predict(X_test)\n",
    "\n",
    "print(classification_report(y_test, predictions))"
   ]
  },
  {
   "cell_type": "markdown",
   "source": [
    "the value of the accuracy is 0.58 is significantly lower than the other models, lets check if we can optimize the hyperparameters of the random forest."
   ],
   "metadata": {
    "collapsed": false
   },
   "id": "18b027c41895582f"
  },
  {
   "cell_type": "code",
   "execution_count": 21,
   "id": "dec92db426865cb1",
   "metadata": {
    "collapsed": false,
    "ExecuteTime": {
     "end_time": "2024-02-24T13:24:28.184810100Z",
     "start_time": "2024-02-24T13:23:31.794061900Z"
    }
   },
   "outputs": [
    {
     "name": "stderr",
     "output_type": "stream",
     "text": [
      "[I 2024-02-24 15:23:31,794] A new study created in memory with name: no-name-3a35ac53-d06f-4180-bcf1-cfa16d65a5f4\n",
      "[I 2024-02-24 15:23:34,453] Trial 0 finished with value: 0.589622641509434 and parameters: {'n_estimators': 137, 'criterion': 'entropy', 'max_depth': 19, 'min_samples_split': 4, 'min_samples_leaf': 7, 'max_features': 13}. Best is trial 0 with value: 0.589622641509434.\n",
      "[I 2024-02-24 15:23:34,952] Trial 1 finished with value: 0.5707547169811321 and parameters: {'n_estimators': 48, 'criterion': 'gini', 'max_depth': 22, 'min_samples_split': 7, 'min_samples_leaf': 8, 'max_features': 22}. Best is trial 0 with value: 0.589622641509434.\n",
      "[I 2024-02-24 15:23:37,513] Trial 2 finished with value: 0.5943396226415094 and parameters: {'n_estimators': 190, 'criterion': 'gini', 'max_depth': 24, 'min_samples_split': 9, 'min_samples_leaf': 5, 'max_features': 18}. Best is trial 2 with value: 0.5943396226415094.\n",
      "[I 2024-02-24 15:23:37,683] Trial 3 finished with value: 0.44339622641509435 and parameters: {'n_estimators': 6, 'criterion': 'entropy', 'max_depth': 5, 'min_samples_split': 3, 'min_samples_leaf': 9, 'max_features': 38}. Best is trial 2 with value: 0.5943396226415094.\n",
      "[I 2024-02-24 15:23:40,670] Trial 4 finished with value: 0.5801886792452831 and parameters: {'n_estimators': 148, 'criterion': 'gini', 'max_depth': 24, 'min_samples_split': 2, 'min_samples_leaf': 9, 'max_features': 39}. Best is trial 2 with value: 0.5943396226415094.\n",
      "[I 2024-02-24 15:23:44,892] Trial 5 finished with value: 0.5849056603773585 and parameters: {'n_estimators': 189, 'criterion': 'entropy', 'max_depth': 13, 'min_samples_split': 6, 'min_samples_leaf': 10, 'max_features': 26}. Best is trial 2 with value: 0.5943396226415094.\n",
      "[I 2024-02-24 15:23:47,601] Trial 6 finished with value: 0.5849056603773585 and parameters: {'n_estimators': 79, 'criterion': 'entropy', 'max_depth': 8, 'min_samples_split': 5, 'min_samples_leaf': 9, 'max_features': 50}. Best is trial 2 with value: 0.5943396226415094.\n",
      "[I 2024-02-24 15:23:49,130] Trial 7 finished with value: 0.5660377358490566 and parameters: {'n_estimators': 103, 'criterion': 'gini', 'max_depth': 13, 'min_samples_split': 6, 'min_samples_leaf': 10, 'max_features': 44}. Best is trial 2 with value: 0.5943396226415094.\n",
      "[I 2024-02-24 15:23:49,642] Trial 8 finished with value: 0.5566037735849056 and parameters: {'n_estimators': 46, 'criterion': 'entropy', 'max_depth': 13, 'min_samples_split': 9, 'min_samples_leaf': 7, 'max_features': 13}. Best is trial 2 with value: 0.5943396226415094.\n",
      "[I 2024-02-24 15:23:49,857] Trial 9 finished with value: 0.42924528301886794 and parameters: {'n_estimators': 27, 'criterion': 'entropy', 'max_depth': 2, 'min_samples_split': 4, 'min_samples_leaf': 3, 'max_features': 24}. Best is trial 2 with value: 0.5943396226415094.\n",
      "[I 2024-02-24 15:23:50,186] Trial 10 finished with value: 0.5566037735849056 and parameters: {'n_estimators': 200, 'criterion': 'gini', 'max_depth': 32, 'min_samples_split': 10, 'min_samples_leaf': 4, 'max_features': 1}. Best is trial 2 with value: 0.5943396226415094.\n",
      "[I 2024-02-24 15:23:50,812] Trial 11 finished with value: 0.5754716981132075 and parameters: {'n_estimators': 148, 'criterion': 'gini', 'max_depth': 23, 'min_samples_split': 8, 'min_samples_leaf': 6, 'max_features': 8}. Best is trial 2 with value: 0.5943396226415094.\n",
      "[I 2024-02-24 15:23:51,911] Trial 12 finished with value: 0.6179245283018868 and parameters: {'n_estimators': 154, 'criterion': 'gini', 'max_depth': 29, 'min_samples_split': 4, 'min_samples_leaf': 1, 'max_features': 12}. Best is trial 12 with value: 0.6179245283018868.\n",
      "[I 2024-02-24 15:23:53,512] Trial 13 finished with value: 0.6226415094339622 and parameters: {'n_estimators': 170, 'criterion': 'gini', 'max_depth': 30, 'min_samples_split': 8, 'min_samples_leaf': 1, 'max_features': 18}. Best is trial 13 with value: 0.6226415094339622.\n",
      "[I 2024-02-24 15:23:55,383] Trial 14 finished with value: 0.589622641509434 and parameters: {'n_estimators': 119, 'criterion': 'gini', 'max_depth': 32, 'min_samples_split': 7, 'min_samples_leaf': 1, 'max_features': 32}. Best is trial 13 with value: 0.6226415094339622.\n",
      "[I 2024-02-24 15:23:55,956] Trial 15 finished with value: 0.5566037735849056 and parameters: {'n_estimators': 170, 'criterion': 'gini', 'max_depth': 28, 'min_samples_split': 5, 'min_samples_leaf': 1, 'max_features': 4}. Best is trial 13 with value: 0.6226415094339622.\n",
      "[I 2024-02-24 15:23:57,262] Trial 16 finished with value: 0.6226415094339622 and parameters: {'n_estimators': 169, 'criterion': 'gini', 'max_depth': 29, 'min_samples_split': 2, 'min_samples_leaf': 2, 'max_features': 14}. Best is trial 13 with value: 0.6226415094339622.\n",
      "[I 2024-02-24 15:23:58,740] Trial 17 finished with value: 0.6320754716981132 and parameters: {'n_estimators': 168, 'criterion': 'gini', 'max_depth': 28, 'min_samples_split': 8, 'min_samples_leaf': 3, 'max_features': 18}. Best is trial 17 with value: 0.6320754716981132.\n",
      "[I 2024-02-24 15:24:00,347] Trial 18 finished with value: 0.6226415094339622 and parameters: {'n_estimators': 117, 'criterion': 'gini', 'max_depth': 18, 'min_samples_split': 8, 'min_samples_leaf': 3, 'max_features': 30}. Best is trial 17 with value: 0.6320754716981132.\n",
      "[I 2024-02-24 15:24:01,122] Trial 19 finished with value: 0.5660377358490566 and parameters: {'n_estimators': 83, 'criterion': 'gini', 'max_depth': 27, 'min_samples_split': 8, 'min_samples_leaf': 3, 'max_features': 19}. Best is trial 17 with value: 0.6320754716981132.\n",
      "[I 2024-02-24 15:24:03,253] Trial 20 finished with value: 0.6037735849056604 and parameters: {'n_estimators': 169, 'criterion': 'gini', 'max_depth': 26, 'min_samples_split': 10, 'min_samples_leaf': 4, 'max_features': 29}. Best is trial 17 with value: 0.6320754716981132.\n",
      "[I 2024-02-24 15:24:04,763] Trial 21 finished with value: 0.6037735849056604 and parameters: {'n_estimators': 172, 'criterion': 'gini', 'max_depth': 30, 'min_samples_split': 7, 'min_samples_leaf': 2, 'max_features': 17}. Best is trial 17 with value: 0.6320754716981132.\n",
      "[I 2024-02-24 15:24:05,444] Trial 22 finished with value: 0.5849056603773585 and parameters: {'n_estimators': 132, 'criterion': 'gini', 'max_depth': 21, 'min_samples_split': 2, 'min_samples_leaf': 2, 'max_features': 8}. Best is trial 17 with value: 0.6320754716981132.\n",
      "[I 2024-02-24 15:24:07,294] Trial 23 finished with value: 0.6273584905660378 and parameters: {'n_estimators': 177, 'criterion': 'gini', 'max_depth': 26, 'min_samples_split': 9, 'min_samples_leaf': 2, 'max_features': 21}. Best is trial 17 with value: 0.6320754716981132.\n",
      "[I 2024-02-24 15:24:09,124] Trial 24 finished with value: 0.6415094339622641 and parameters: {'n_estimators': 189, 'criterion': 'gini', 'max_depth': 26, 'min_samples_split': 9, 'min_samples_leaf': 4, 'max_features': 21}. Best is trial 24 with value: 0.6415094339622641.\n",
      "[I 2024-02-24 15:24:11,092] Trial 25 finished with value: 0.6273584905660378 and parameters: {'n_estimators': 188, 'criterion': 'gini', 'max_depth': 26, 'min_samples_split': 9, 'min_samples_leaf': 4, 'max_features': 23}. Best is trial 24 with value: 0.6415094339622641.\n",
      "[I 2024-02-24 15:24:13,761] Trial 26 finished with value: 0.6226415094339622 and parameters: {'n_estimators': 196, 'criterion': 'gini', 'max_depth': 21, 'min_samples_split': 10, 'min_samples_leaf': 5, 'max_features': 33}. Best is trial 24 with value: 0.6415094339622641.\n",
      "[I 2024-02-24 15:24:15,743] Trial 27 finished with value: 0.6084905660377359 and parameters: {'n_estimators': 158, 'criterion': 'gini', 'max_depth': 26, 'min_samples_split': 9, 'min_samples_leaf': 3, 'max_features': 27}. Best is trial 24 with value: 0.6415094339622641.\n",
      "[I 2024-02-24 15:24:17,427] Trial 28 finished with value: 0.6367924528301887 and parameters: {'n_estimators': 183, 'criterion': 'gini', 'max_depth': 19, 'min_samples_split': 9, 'min_samples_leaf': 5, 'max_features': 21}. Best is trial 24 with value: 0.6415094339622641.\n",
      "[I 2024-02-24 15:24:18,592] Trial 29 finished with value: 0.5660377358490566 and parameters: {'n_estimators': 134, 'criterion': 'entropy', 'max_depth': 16, 'min_samples_split': 10, 'min_samples_leaf': 5, 'max_features': 9}. Best is trial 24 with value: 0.6415094339622641.\n",
      "[I 2024-02-24 15:24:19,781] Trial 30 finished with value: 0.6084905660377359 and parameters: {'n_estimators': 179, 'criterion': 'gini', 'max_depth': 17, 'min_samples_split': 7, 'min_samples_leaf': 6, 'max_features': 15}. Best is trial 24 with value: 0.6415094339622641.\n",
      "[I 2024-02-24 15:24:21,525] Trial 31 finished with value: 0.5849056603773585 and parameters: {'n_estimators': 182, 'criterion': 'gini', 'max_depth': 19, 'min_samples_split': 9, 'min_samples_leaf': 4, 'max_features': 21}. Best is trial 24 with value: 0.6415094339622641.\n",
      "[I 2024-02-24 15:24:23,168] Trial 32 finished with value: 0.6273584905660378 and parameters: {'n_estimators': 159, 'criterion': 'gini', 'max_depth': 24, 'min_samples_split': 8, 'min_samples_leaf': 2, 'max_features': 21}. Best is trial 24 with value: 0.6415094339622641.\n",
      "[I 2024-02-24 15:24:25,258] Trial 33 finished with value: 0.6273584905660378 and parameters: {'n_estimators': 198, 'criterion': 'gini', 'max_depth': 15, 'min_samples_split': 9, 'min_samples_leaf': 5, 'max_features': 25}. Best is trial 24 with value: 0.6415094339622641.\n",
      "[I 2024-02-24 15:24:26,411] Trial 34 finished with value: 0.589622641509434 and parameters: {'n_estimators': 142, 'criterion': 'gini', 'max_depth': 21, 'min_samples_split': 9, 'min_samples_leaf': 7, 'max_features': 20}. Best is trial 24 with value: 0.6415094339622641.\n"
     ]
    },
    {
     "name": "stdout",
     "output_type": "stream",
     "text": [
      "              precision    recall  f1-score   support\n",
      "\n",
      "           0       0.60      0.63      0.62        41\n",
      "           1       0.93      0.43      0.59        30\n",
      "           2       0.62      0.52      0.57        25\n",
      "           3       0.55      0.39      0.46        28\n",
      "           4       0.51      0.71      0.60        49\n",
      "           5       0.63      0.74      0.68        39\n",
      "\n",
      "    accuracy                           0.60       212\n",
      "   macro avg       0.64      0.57      0.59       212\n",
      "weighted avg       0.63      0.60      0.59       212\n"
     ]
    }
   ],
   "source": [
    "# Create an optuna function to optimize the hyperparameters of the random forest\n",
    "def objective_rf(trial):\n",
    "    # Define the hyperparameters to optimize\n",
    "    n_estimators = trial.suggest_int('n_estimators', 2, 200)\n",
    "    criterion = trial.suggest_categorical('criterion', ['gini', 'entropy'])\n",
    "    max_depth = trial.suggest_int('max_depth', 2, 32)\n",
    "    min_samples_split = trial.suggest_int('min_samples_split', 2, 10)\n",
    "    min_samples_leaf = trial.suggest_int('min_samples_leaf', 1, 10)\n",
    "    max_features = trial.suggest_int('max_features', 1, 50)\n",
    "    \n",
    "    # Create the model\n",
    "    rf = RandomForestClassifier(n_estimators=n_estimators, criterion=criterion, max_depth=max_depth, min_samples_split=min_samples_split, min_samples_leaf=min_samples_leaf, max_features=max_features)\n",
    "    \n",
    "    # Fit the model\n",
    "    rf.fit(X_train, y_train)\n",
    "    \n",
    "    # Predict the model\n",
    "    predictions = rf.predict(X_test)\n",
    "    \n",
    "    # Return the accuracy\n",
    "    return classification_report(y_test, predictions, output_dict=True, zero_division=0)['accuracy']\n",
    "\n",
    "# Create the study\n",
    "study = optuna.create_study(direction='maximize')\n",
    "\n",
    "# Optimize the study\n",
    "study.optimize(objective_rf, n_trials=35)\n",
    "\n",
    "# Get the best parameters\n",
    "best_params = study.best_params\n",
    "\n",
    "# Create the random forest with the best parameters\n",
    "rf = RandomForestClassifier(n_estimators=best_params['n_estimators'], criterion=best_params['criterion'], max_depth=best_params['max_depth'], min_samples_split=best_params['min_samples_split'], min_samples_leaf=best_params['min_samples_leaf'], max_features=best_params['max_features'])\n",
    "\n",
    "rf.fit(X_train, y_train)\n",
    "\n",
    "predictions = rf.predict(X_test)\n",
    "\n",
    "print(classification_report(y_test, predictions))"
   ]
  },
  {
   "cell_type": "markdown",
   "source": [
    "That was not much of an improvement."
   ],
   "metadata": {
    "collapsed": false
   },
   "id": "31e332b3532c8ffb"
  },
  {
   "cell_type": "markdown",
   "source": [
    "Continue with xgboost"
   ],
   "metadata": {
    "collapsed": false
   },
   "id": "5418a05d87218e8f"
  },
  {
   "cell_type": "code",
   "execution_count": 18,
   "id": "1245365777b8cf43",
   "metadata": {
    "collapsed": false,
    "ExecuteTime": {
     "end_time": "2024-02-24T13:10:12.943406700Z",
     "start_time": "2024-02-24T13:10:11.825072Z"
    }
   },
   "outputs": [
    {
     "name": "stdout",
     "output_type": "stream",
     "text": [
      "              precision    recall  f1-score   support\n",
      "\n",
      "           0       0.47      0.49      0.48        41\n",
      "           1       0.60      0.30      0.40        30\n",
      "           2       0.49      0.68      0.57        25\n",
      "           3       0.47      0.32      0.38        28\n",
      "           4       0.52      0.63      0.57        49\n",
      "           5       0.60      0.62      0.61        39\n",
      "\n",
      "    accuracy                           0.52       212\n",
      "   macro avg       0.52      0.51      0.50       212\n",
      "weighted avg       0.52      0.52      0.51       212\n"
     ]
    }
   ],
   "source": [
    "#perform xgboost to classify the words\n",
    "xg_reg = xgb.XGBClassifier(objective ='reg:logistic', colsample_bytree = 0.3, learning_rate = 0.1,\n",
    "                max_depth = 5, alpha = 10, n_estimators = 10)\n",
    "\n",
    "xg_reg.fit(X_train, y_train)\n",
    "\n",
    "predictions = xg_reg.predict(X_test)\n",
    "\n",
    "print(classification_report(y_test, predictions))"
   ]
  },
  {
   "cell_type": "markdown",
   "source": [
    "these are the lowest results so far, moving on with catboost"
   ],
   "metadata": {
    "collapsed": false
   },
   "id": "a1090a0b2113af6d"
  },
  {
   "cell_type": "code",
   "execution_count": 19,
   "id": "1967b333bb39a5de",
   "metadata": {
    "collapsed": false,
    "ExecuteTime": {
     "end_time": "2024-02-24T13:10:39.981640700Z",
     "start_time": "2024-02-24T13:10:12.943406700Z"
    }
   },
   "outputs": [
    {
     "name": "stdout",
     "output_type": "stream",
     "text": [
      "Learning rate set to 0.062714\n",
      "0:\tlearn: 1.7636051\ttotal: 52.5ms\tremaining: 52.5s\n",
      "1:\tlearn: 1.7363956\ttotal: 82.6ms\tremaining: 41.2s\n",
      "2:\tlearn: 1.7107153\ttotal: 111ms\tremaining: 36.8s\n",
      "3:\tlearn: 1.6845616\ttotal: 140ms\tremaining: 34.8s\n",
      "4:\tlearn: 1.6581248\ttotal: 169ms\tremaining: 33.6s\n",
      "5:\tlearn: 1.6343432\ttotal: 197ms\tremaining: 32.6s\n",
      "6:\tlearn: 1.6110658\ttotal: 224ms\tremaining: 31.8s\n",
      "7:\tlearn: 1.5885057\ttotal: 253ms\tremaining: 31.4s\n",
      "8:\tlearn: 1.5687516\ttotal: 283ms\tremaining: 31.2s\n",
      "9:\tlearn: 1.5482964\ttotal: 312ms\tremaining: 30.9s\n",
      "10:\tlearn: 1.5271912\ttotal: 341ms\tremaining: 30.7s\n",
      "11:\tlearn: 1.5059656\ttotal: 371ms\tremaining: 30.5s\n",
      "12:\tlearn: 1.4851258\ttotal: 400ms\tremaining: 30.4s\n",
      "13:\tlearn: 1.4649072\ttotal: 429ms\tremaining: 30.2s\n",
      "14:\tlearn: 1.4459413\ttotal: 459ms\tremaining: 30.1s\n",
      "15:\tlearn: 1.4262279\ttotal: 487ms\tremaining: 29.9s\n",
      "16:\tlearn: 1.4079109\ttotal: 517ms\tremaining: 29.9s\n",
      "17:\tlearn: 1.3894144\ttotal: 546ms\tremaining: 29.8s\n",
      "18:\tlearn: 1.3725280\ttotal: 576ms\tremaining: 29.7s\n",
      "19:\tlearn: 1.3555491\ttotal: 605ms\tremaining: 29.6s\n",
      "20:\tlearn: 1.3399634\ttotal: 634ms\tremaining: 29.6s\n",
      "21:\tlearn: 1.3244265\ttotal: 663ms\tremaining: 29.5s\n",
      "22:\tlearn: 1.3088749\ttotal: 692ms\tremaining: 29.4s\n",
      "23:\tlearn: 1.2925489\ttotal: 722ms\tremaining: 29.4s\n",
      "24:\tlearn: 1.2765590\ttotal: 751ms\tremaining: 29.3s\n",
      "25:\tlearn: 1.2619167\ttotal: 780ms\tremaining: 29.2s\n",
      "26:\tlearn: 1.2483372\ttotal: 808ms\tremaining: 29.1s\n",
      "27:\tlearn: 1.2335094\ttotal: 836ms\tremaining: 29s\n",
      "28:\tlearn: 1.2183669\ttotal: 864ms\tremaining: 28.9s\n",
      "29:\tlearn: 1.2039999\ttotal: 893ms\tremaining: 28.9s\n",
      "30:\tlearn: 1.1906276\ttotal: 921ms\tremaining: 28.8s\n",
      "31:\tlearn: 1.1763865\ttotal: 949ms\tremaining: 28.7s\n",
      "32:\tlearn: 1.1658275\ttotal: 975ms\tremaining: 28.6s\n",
      "33:\tlearn: 1.1539135\ttotal: 1s\tremaining: 28.5s\n",
      "34:\tlearn: 1.1406627\ttotal: 1.03s\tremaining: 28.5s\n",
      "35:\tlearn: 1.1284236\ttotal: 1.06s\tremaining: 28.4s\n",
      "36:\tlearn: 1.1166777\ttotal: 1.09s\tremaining: 28.3s\n",
      "37:\tlearn: 1.1051373\ttotal: 1.12s\tremaining: 28.3s\n",
      "38:\tlearn: 1.0936723\ttotal: 1.14s\tremaining: 28.2s\n",
      "39:\tlearn: 1.0811609\ttotal: 1.17s\tremaining: 28.1s\n",
      "40:\tlearn: 1.0701745\ttotal: 1.2s\tremaining: 28.1s\n",
      "41:\tlearn: 1.0588506\ttotal: 1.23s\tremaining: 28.1s\n",
      "42:\tlearn: 1.0485873\ttotal: 1.26s\tremaining: 28s\n",
      "43:\tlearn: 1.0386259\ttotal: 1.29s\tremaining: 28s\n",
      "44:\tlearn: 1.0279225\ttotal: 1.31s\tremaining: 27.9s\n",
      "45:\tlearn: 1.0168393\ttotal: 1.34s\tremaining: 27.9s\n",
      "46:\tlearn: 1.0069771\ttotal: 1.37s\tremaining: 27.8s\n",
      "47:\tlearn: 0.9962842\ttotal: 1.4s\tremaining: 27.8s\n",
      "48:\tlearn: 0.9868261\ttotal: 1.43s\tremaining: 27.7s\n",
      "49:\tlearn: 0.9772582\ttotal: 1.46s\tremaining: 27.7s\n",
      "50:\tlearn: 0.9674624\ttotal: 1.49s\tremaining: 27.7s\n",
      "51:\tlearn: 0.9571870\ttotal: 1.52s\tremaining: 27.6s\n",
      "52:\tlearn: 0.9473854\ttotal: 1.55s\tremaining: 27.6s\n",
      "53:\tlearn: 0.9369160\ttotal: 1.58s\tremaining: 27.6s\n",
      "54:\tlearn: 0.9289207\ttotal: 1.61s\tremaining: 27.6s\n",
      "55:\tlearn: 0.9208317\ttotal: 1.64s\tremaining: 27.6s\n",
      "56:\tlearn: 0.9115129\ttotal: 1.67s\tremaining: 27.6s\n",
      "57:\tlearn: 0.9029752\ttotal: 1.69s\tremaining: 27.5s\n",
      "58:\tlearn: 0.8963074\ttotal: 1.72s\tremaining: 27.4s\n",
      "59:\tlearn: 0.8882198\ttotal: 1.75s\tremaining: 27.4s\n",
      "60:\tlearn: 0.8793749\ttotal: 1.78s\tremaining: 27.4s\n",
      "61:\tlearn: 0.8718984\ttotal: 1.81s\tremaining: 27.4s\n",
      "62:\tlearn: 0.8645727\ttotal: 1.84s\tremaining: 27.3s\n",
      "63:\tlearn: 0.8562481\ttotal: 1.87s\tremaining: 27.3s\n",
      "64:\tlearn: 0.8485079\ttotal: 1.9s\tremaining: 27.3s\n",
      "65:\tlearn: 0.8404742\ttotal: 1.93s\tremaining: 27.3s\n",
      "66:\tlearn: 0.8333479\ttotal: 1.96s\tremaining: 27.2s\n",
      "67:\tlearn: 0.8262102\ttotal: 1.98s\tremaining: 27.2s\n",
      "68:\tlearn: 0.8190014\ttotal: 2.01s\tremaining: 27.2s\n",
      "69:\tlearn: 0.8127273\ttotal: 2.04s\tremaining: 27.1s\n",
      "70:\tlearn: 0.8043730\ttotal: 2.07s\tremaining: 27.1s\n",
      "71:\tlearn: 0.7970811\ttotal: 2.1s\tremaining: 27.1s\n",
      "72:\tlearn: 0.7900727\ttotal: 2.13s\tremaining: 27s\n",
      "73:\tlearn: 0.7833744\ttotal: 2.16s\tremaining: 27s\n",
      "74:\tlearn: 0.7766792\ttotal: 2.18s\tremaining: 26.9s\n",
      "75:\tlearn: 0.7699087\ttotal: 2.21s\tremaining: 26.9s\n",
      "76:\tlearn: 0.7635542\ttotal: 2.24s\tremaining: 26.8s\n",
      "77:\tlearn: 0.7571991\ttotal: 2.27s\tremaining: 26.8s\n",
      "78:\tlearn: 0.7506490\ttotal: 2.29s\tremaining: 26.8s\n",
      "79:\tlearn: 0.7444671\ttotal: 2.32s\tremaining: 26.7s\n",
      "80:\tlearn: 0.7387521\ttotal: 2.35s\tremaining: 26.7s\n",
      "81:\tlearn: 0.7323210\ttotal: 2.38s\tremaining: 26.6s\n",
      "82:\tlearn: 0.7266680\ttotal: 2.4s\tremaining: 26.6s\n",
      "83:\tlearn: 0.7210214\ttotal: 2.43s\tremaining: 26.5s\n",
      "84:\tlearn: 0.7145515\ttotal: 2.46s\tremaining: 26.5s\n",
      "85:\tlearn: 0.7087015\ttotal: 2.48s\tremaining: 26.4s\n",
      "86:\tlearn: 0.7040907\ttotal: 2.51s\tremaining: 26.4s\n",
      "87:\tlearn: 0.6977572\ttotal: 2.54s\tremaining: 26.3s\n",
      "88:\tlearn: 0.6917385\ttotal: 2.57s\tremaining: 26.3s\n",
      "89:\tlearn: 0.6851419\ttotal: 2.6s\tremaining: 26.3s\n",
      "90:\tlearn: 0.6798325\ttotal: 2.63s\tremaining: 26.2s\n",
      "91:\tlearn: 0.6750023\ttotal: 2.65s\tremaining: 26.2s\n",
      "92:\tlearn: 0.6696143\ttotal: 2.68s\tremaining: 26.2s\n",
      "93:\tlearn: 0.6640607\ttotal: 2.71s\tremaining: 26.1s\n",
      "94:\tlearn: 0.6594105\ttotal: 2.74s\tremaining: 26.1s\n",
      "95:\tlearn: 0.6537413\ttotal: 2.77s\tremaining: 26.1s\n",
      "96:\tlearn: 0.6483076\ttotal: 2.8s\tremaining: 26s\n",
      "97:\tlearn: 0.6431813\ttotal: 2.82s\tremaining: 26s\n",
      "98:\tlearn: 0.6370369\ttotal: 2.85s\tremaining: 26s\n",
      "99:\tlearn: 0.6315597\ttotal: 2.88s\tremaining: 25.9s\n",
      "100:\tlearn: 0.6264990\ttotal: 2.91s\tremaining: 25.9s\n",
      "101:\tlearn: 0.6213076\ttotal: 2.94s\tremaining: 25.9s\n",
      "102:\tlearn: 0.6161134\ttotal: 2.97s\tremaining: 25.8s\n",
      "103:\tlearn: 0.6114613\ttotal: 3s\tremaining: 25.8s\n",
      "104:\tlearn: 0.6072199\ttotal: 3.02s\tremaining: 25.8s\n",
      "105:\tlearn: 0.6021727\ttotal: 3.05s\tremaining: 25.8s\n",
      "106:\tlearn: 0.5977055\ttotal: 3.08s\tremaining: 25.7s\n",
      "107:\tlearn: 0.5931029\ttotal: 3.1s\tremaining: 25.6s\n",
      "108:\tlearn: 0.5874476\ttotal: 3.13s\tremaining: 25.6s\n",
      "109:\tlearn: 0.5827814\ttotal: 3.16s\tremaining: 25.6s\n",
      "110:\tlearn: 0.5785586\ttotal: 3.18s\tremaining: 25.5s\n",
      "111:\tlearn: 0.5734701\ttotal: 3.21s\tremaining: 25.5s\n",
      "112:\tlearn: 0.5687203\ttotal: 3.24s\tremaining: 25.5s\n",
      "113:\tlearn: 0.5652197\ttotal: 3.27s\tremaining: 25.4s\n",
      "114:\tlearn: 0.5616315\ttotal: 3.3s\tremaining: 25.4s\n",
      "115:\tlearn: 0.5573788\ttotal: 3.32s\tremaining: 25.3s\n",
      "116:\tlearn: 0.5530258\ttotal: 3.35s\tremaining: 25.3s\n",
      "117:\tlearn: 0.5486323\ttotal: 3.38s\tremaining: 25.3s\n",
      "118:\tlearn: 0.5443623\ttotal: 3.4s\tremaining: 25.2s\n",
      "119:\tlearn: 0.5404515\ttotal: 3.43s\tremaining: 25.2s\n",
      "120:\tlearn: 0.5365894\ttotal: 3.46s\tremaining: 25.1s\n",
      "121:\tlearn: 0.5331003\ttotal: 3.49s\tremaining: 25.1s\n",
      "122:\tlearn: 0.5294247\ttotal: 3.51s\tremaining: 25.1s\n",
      "123:\tlearn: 0.5264964\ttotal: 3.54s\tremaining: 25s\n",
      "124:\tlearn: 0.5227427\ttotal: 3.57s\tremaining: 25s\n",
      "125:\tlearn: 0.5185395\ttotal: 3.6s\tremaining: 24.9s\n",
      "126:\tlearn: 0.5155073\ttotal: 3.62s\tremaining: 24.9s\n",
      "127:\tlearn: 0.5120300\ttotal: 3.65s\tremaining: 24.8s\n",
      "128:\tlearn: 0.5090438\ttotal: 3.67s\tremaining: 24.8s\n",
      "129:\tlearn: 0.5058488\ttotal: 3.7s\tremaining: 24.8s\n",
      "130:\tlearn: 0.5026157\ttotal: 3.73s\tremaining: 24.7s\n",
      "131:\tlearn: 0.4994406\ttotal: 3.75s\tremaining: 24.7s\n",
      "132:\tlearn: 0.4964477\ttotal: 3.78s\tremaining: 24.7s\n",
      "133:\tlearn: 0.4925848\ttotal: 3.81s\tremaining: 24.6s\n",
      "134:\tlearn: 0.4889196\ttotal: 3.84s\tremaining: 24.6s\n",
      "135:\tlearn: 0.4856174\ttotal: 3.86s\tremaining: 24.6s\n",
      "136:\tlearn: 0.4830549\ttotal: 3.89s\tremaining: 24.5s\n",
      "137:\tlearn: 0.4794613\ttotal: 3.92s\tremaining: 24.5s\n",
      "138:\tlearn: 0.4759971\ttotal: 3.95s\tremaining: 24.5s\n",
      "139:\tlearn: 0.4729353\ttotal: 3.98s\tremaining: 24.4s\n",
      "140:\tlearn: 0.4702979\ttotal: 4s\tremaining: 24.4s\n",
      "141:\tlearn: 0.4682771\ttotal: 4.03s\tremaining: 24.4s\n",
      "142:\tlearn: 0.4651442\ttotal: 4.06s\tremaining: 24.3s\n",
      "143:\tlearn: 0.4621117\ttotal: 4.09s\tremaining: 24.3s\n",
      "144:\tlearn: 0.4590961\ttotal: 4.12s\tremaining: 24.3s\n",
      "145:\tlearn: 0.4554232\ttotal: 4.14s\tremaining: 24.2s\n",
      "146:\tlearn: 0.4526623\ttotal: 4.17s\tremaining: 24.2s\n",
      "147:\tlearn: 0.4499530\ttotal: 4.2s\tremaining: 24.2s\n",
      "148:\tlearn: 0.4473381\ttotal: 4.23s\tremaining: 24.1s\n",
      "149:\tlearn: 0.4444488\ttotal: 4.25s\tremaining: 24.1s\n",
      "150:\tlearn: 0.4419166\ttotal: 4.28s\tremaining: 24.1s\n",
      "151:\tlearn: 0.4386842\ttotal: 4.31s\tremaining: 24s\n",
      "152:\tlearn: 0.4355439\ttotal: 4.33s\tremaining: 24s\n",
      "153:\tlearn: 0.4328384\ttotal: 4.36s\tremaining: 24s\n",
      "154:\tlearn: 0.4300533\ttotal: 4.39s\tremaining: 23.9s\n",
      "155:\tlearn: 0.4277749\ttotal: 4.41s\tremaining: 23.9s\n",
      "156:\tlearn: 0.4255147\ttotal: 4.44s\tremaining: 23.8s\n",
      "157:\tlearn: 0.4226019\ttotal: 4.47s\tremaining: 23.8s\n",
      "158:\tlearn: 0.4200130\ttotal: 4.49s\tremaining: 23.8s\n",
      "159:\tlearn: 0.4171134\ttotal: 4.52s\tremaining: 23.7s\n",
      "160:\tlearn: 0.4145011\ttotal: 4.55s\tremaining: 23.7s\n",
      "161:\tlearn: 0.4123492\ttotal: 4.58s\tremaining: 23.7s\n",
      "162:\tlearn: 0.4097094\ttotal: 4.6s\tremaining: 23.6s\n",
      "163:\tlearn: 0.4071135\ttotal: 4.63s\tremaining: 23.6s\n",
      "164:\tlearn: 0.4047155\ttotal: 4.65s\tremaining: 23.6s\n",
      "165:\tlearn: 0.4020718\ttotal: 4.68s\tremaining: 23.5s\n",
      "166:\tlearn: 0.3999654\ttotal: 4.71s\tremaining: 23.5s\n",
      "167:\tlearn: 0.3973039\ttotal: 4.73s\tremaining: 23.4s\n",
      "168:\tlearn: 0.3951090\ttotal: 4.76s\tremaining: 23.4s\n",
      "169:\tlearn: 0.3924981\ttotal: 4.79s\tremaining: 23.4s\n",
      "170:\tlearn: 0.3902383\ttotal: 4.82s\tremaining: 23.4s\n",
      "171:\tlearn: 0.3878441\ttotal: 4.84s\tremaining: 23.3s\n",
      "172:\tlearn: 0.3854314\ttotal: 4.87s\tremaining: 23.3s\n",
      "173:\tlearn: 0.3838798\ttotal: 4.89s\tremaining: 23.2s\n",
      "174:\tlearn: 0.3815872\ttotal: 4.92s\tremaining: 23.2s\n",
      "175:\tlearn: 0.3788676\ttotal: 4.95s\tremaining: 23.2s\n",
      "176:\tlearn: 0.3770368\ttotal: 4.97s\tremaining: 23.1s\n",
      "177:\tlearn: 0.3752032\ttotal: 5s\tremaining: 23.1s\n",
      "178:\tlearn: 0.3730446\ttotal: 5.02s\tremaining: 23s\n",
      "179:\tlearn: 0.3707594\ttotal: 5.05s\tremaining: 23s\n",
      "180:\tlearn: 0.3686212\ttotal: 5.07s\tremaining: 23s\n",
      "181:\tlearn: 0.3667521\ttotal: 5.1s\tremaining: 22.9s\n",
      "182:\tlearn: 0.3651158\ttotal: 5.12s\tremaining: 22.9s\n",
      "183:\tlearn: 0.3633140\ttotal: 5.15s\tremaining: 22.8s\n",
      "184:\tlearn: 0.3613344\ttotal: 5.17s\tremaining: 22.8s\n",
      "185:\tlearn: 0.3593722\ttotal: 5.2s\tremaining: 22.8s\n",
      "186:\tlearn: 0.3569387\ttotal: 5.23s\tremaining: 22.8s\n",
      "187:\tlearn: 0.3546512\ttotal: 5.26s\tremaining: 22.7s\n",
      "188:\tlearn: 0.3524851\ttotal: 5.29s\tremaining: 22.7s\n",
      "189:\tlearn: 0.3502929\ttotal: 5.31s\tremaining: 22.6s\n",
      "190:\tlearn: 0.3488231\ttotal: 5.33s\tremaining: 22.6s\n",
      "191:\tlearn: 0.3469263\ttotal: 5.36s\tremaining: 22.6s\n",
      "192:\tlearn: 0.3446111\ttotal: 5.39s\tremaining: 22.5s\n",
      "193:\tlearn: 0.3428426\ttotal: 5.42s\tremaining: 22.5s\n",
      "194:\tlearn: 0.3408549\ttotal: 5.44s\tremaining: 22.5s\n",
      "195:\tlearn: 0.3390377\ttotal: 5.47s\tremaining: 22.4s\n",
      "196:\tlearn: 0.3374475\ttotal: 5.49s\tremaining: 22.4s\n",
      "197:\tlearn: 0.3357643\ttotal: 5.52s\tremaining: 22.4s\n",
      "198:\tlearn: 0.3342150\ttotal: 5.54s\tremaining: 22.3s\n",
      "199:\tlearn: 0.3318278\ttotal: 5.57s\tremaining: 22.3s\n",
      "200:\tlearn: 0.3303154\ttotal: 5.59s\tremaining: 22.2s\n",
      "201:\tlearn: 0.3286834\ttotal: 5.62s\tremaining: 22.2s\n",
      "202:\tlearn: 0.3275277\ttotal: 5.65s\tremaining: 22.2s\n",
      "203:\tlearn: 0.3256418\ttotal: 5.67s\tremaining: 22.1s\n",
      "204:\tlearn: 0.3238090\ttotal: 5.7s\tremaining: 22.1s\n",
      "205:\tlearn: 0.3221489\ttotal: 5.73s\tremaining: 22.1s\n",
      "206:\tlearn: 0.3202936\ttotal: 5.75s\tremaining: 22s\n",
      "207:\tlearn: 0.3187748\ttotal: 5.78s\tremaining: 22s\n",
      "208:\tlearn: 0.3170847\ttotal: 5.81s\tremaining: 22s\n",
      "209:\tlearn: 0.3154243\ttotal: 5.84s\tremaining: 22s\n",
      "210:\tlearn: 0.3134059\ttotal: 5.86s\tremaining: 21.9s\n",
      "211:\tlearn: 0.3118780\ttotal: 5.89s\tremaining: 21.9s\n",
      "212:\tlearn: 0.3102606\ttotal: 5.91s\tremaining: 21.9s\n",
      "213:\tlearn: 0.3089670\ttotal: 5.94s\tremaining: 21.8s\n",
      "214:\tlearn: 0.3071627\ttotal: 5.97s\tremaining: 21.8s\n",
      "215:\tlearn: 0.3058108\ttotal: 5.99s\tremaining: 21.7s\n",
      "216:\tlearn: 0.3046215\ttotal: 6.01s\tremaining: 21.7s\n",
      "217:\tlearn: 0.3032810\ttotal: 6.04s\tremaining: 21.7s\n",
      "218:\tlearn: 0.3017845\ttotal: 6.07s\tremaining: 21.6s\n",
      "219:\tlearn: 0.3003173\ttotal: 6.09s\tremaining: 21.6s\n",
      "220:\tlearn: 0.2984799\ttotal: 6.12s\tremaining: 21.6s\n",
      "221:\tlearn: 0.2969037\ttotal: 6.14s\tremaining: 21.5s\n",
      "222:\tlearn: 0.2949375\ttotal: 6.17s\tremaining: 21.5s\n",
      "223:\tlearn: 0.2934123\ttotal: 6.2s\tremaining: 21.5s\n",
      "224:\tlearn: 0.2924148\ttotal: 6.22s\tremaining: 21.4s\n",
      "225:\tlearn: 0.2907623\ttotal: 6.25s\tremaining: 21.4s\n",
      "226:\tlearn: 0.2893280\ttotal: 6.28s\tremaining: 21.4s\n",
      "227:\tlearn: 0.2876261\ttotal: 6.31s\tremaining: 21.4s\n",
      "228:\tlearn: 0.2861832\ttotal: 6.33s\tremaining: 21.3s\n",
      "229:\tlearn: 0.2847669\ttotal: 6.36s\tremaining: 21.3s\n",
      "230:\tlearn: 0.2835033\ttotal: 6.39s\tremaining: 21.3s\n",
      "231:\tlearn: 0.2822825\ttotal: 6.41s\tremaining: 21.2s\n",
      "232:\tlearn: 0.2807925\ttotal: 6.44s\tremaining: 21.2s\n",
      "233:\tlearn: 0.2790064\ttotal: 6.47s\tremaining: 21.2s\n",
      "234:\tlearn: 0.2778643\ttotal: 6.49s\tremaining: 21.1s\n",
      "235:\tlearn: 0.2765744\ttotal: 6.52s\tremaining: 21.1s\n",
      "236:\tlearn: 0.2751687\ttotal: 6.54s\tremaining: 21.1s\n",
      "237:\tlearn: 0.2742038\ttotal: 6.57s\tremaining: 21s\n",
      "238:\tlearn: 0.2729987\ttotal: 6.59s\tremaining: 21s\n",
      "239:\tlearn: 0.2717301\ttotal: 6.62s\tremaining: 20.9s\n",
      "240:\tlearn: 0.2705713\ttotal: 6.64s\tremaining: 20.9s\n",
      "241:\tlearn: 0.2692751\ttotal: 6.67s\tremaining: 20.9s\n",
      "242:\tlearn: 0.2677843\ttotal: 6.69s\tremaining: 20.9s\n",
      "243:\tlearn: 0.2664710\ttotal: 6.72s\tremaining: 20.8s\n",
      "244:\tlearn: 0.2652381\ttotal: 6.75s\tremaining: 20.8s\n",
      "245:\tlearn: 0.2639369\ttotal: 6.77s\tremaining: 20.8s\n",
      "246:\tlearn: 0.2630010\ttotal: 6.8s\tremaining: 20.7s\n",
      "247:\tlearn: 0.2618420\ttotal: 6.82s\tremaining: 20.7s\n",
      "248:\tlearn: 0.2603598\ttotal: 6.85s\tremaining: 20.7s\n",
      "249:\tlearn: 0.2591058\ttotal: 6.88s\tremaining: 20.6s\n",
      "250:\tlearn: 0.2581430\ttotal: 6.9s\tremaining: 20.6s\n",
      "251:\tlearn: 0.2566744\ttotal: 6.93s\tremaining: 20.6s\n",
      "252:\tlearn: 0.2555156\ttotal: 6.96s\tremaining: 20.6s\n",
      "253:\tlearn: 0.2541262\ttotal: 6.99s\tremaining: 20.5s\n",
      "254:\tlearn: 0.2529987\ttotal: 7.02s\tremaining: 20.5s\n",
      "255:\tlearn: 0.2523237\ttotal: 7.04s\tremaining: 20.5s\n",
      "256:\tlearn: 0.2511529\ttotal: 7.07s\tremaining: 20.4s\n",
      "257:\tlearn: 0.2500357\ttotal: 7.09s\tremaining: 20.4s\n",
      "258:\tlearn: 0.2487578\ttotal: 7.12s\tremaining: 20.4s\n",
      "259:\tlearn: 0.2477261\ttotal: 7.14s\tremaining: 20.3s\n",
      "260:\tlearn: 0.2467740\ttotal: 7.17s\tremaining: 20.3s\n",
      "261:\tlearn: 0.2460827\ttotal: 7.2s\tremaining: 20.3s\n",
      "262:\tlearn: 0.2453042\ttotal: 7.22s\tremaining: 20.2s\n",
      "263:\tlearn: 0.2441700\ttotal: 7.25s\tremaining: 20.2s\n",
      "264:\tlearn: 0.2432343\ttotal: 7.28s\tremaining: 20.2s\n",
      "265:\tlearn: 0.2422352\ttotal: 7.3s\tremaining: 20.1s\n",
      "266:\tlearn: 0.2411820\ttotal: 7.32s\tremaining: 20.1s\n",
      "267:\tlearn: 0.2400258\ttotal: 7.35s\tremaining: 20.1s\n",
      "268:\tlearn: 0.2388947\ttotal: 7.37s\tremaining: 20s\n",
      "269:\tlearn: 0.2377607\ttotal: 7.4s\tremaining: 20s\n",
      "270:\tlearn: 0.2367723\ttotal: 7.42s\tremaining: 20s\n",
      "271:\tlearn: 0.2359037\ttotal: 7.45s\tremaining: 19.9s\n",
      "272:\tlearn: 0.2348766\ttotal: 7.47s\tremaining: 19.9s\n",
      "273:\tlearn: 0.2337435\ttotal: 7.5s\tremaining: 19.9s\n",
      "274:\tlearn: 0.2325252\ttotal: 7.53s\tremaining: 19.9s\n",
      "275:\tlearn: 0.2316170\ttotal: 7.55s\tremaining: 19.8s\n",
      "276:\tlearn: 0.2305695\ttotal: 7.58s\tremaining: 19.8s\n",
      "277:\tlearn: 0.2295408\ttotal: 7.61s\tremaining: 19.8s\n",
      "278:\tlearn: 0.2285366\ttotal: 7.63s\tremaining: 19.7s\n",
      "279:\tlearn: 0.2274667\ttotal: 7.66s\tremaining: 19.7s\n",
      "280:\tlearn: 0.2263754\ttotal: 7.69s\tremaining: 19.7s\n",
      "281:\tlearn: 0.2252917\ttotal: 7.71s\tremaining: 19.6s\n",
      "282:\tlearn: 0.2243255\ttotal: 7.74s\tremaining: 19.6s\n",
      "283:\tlearn: 0.2235358\ttotal: 7.76s\tremaining: 19.6s\n",
      "284:\tlearn: 0.2226895\ttotal: 7.79s\tremaining: 19.5s\n",
      "285:\tlearn: 0.2217758\ttotal: 7.81s\tremaining: 19.5s\n",
      "286:\tlearn: 0.2208736\ttotal: 7.84s\tremaining: 19.5s\n",
      "287:\tlearn: 0.2200080\ttotal: 7.86s\tremaining: 19.4s\n",
      "288:\tlearn: 0.2193020\ttotal: 7.89s\tremaining: 19.4s\n",
      "289:\tlearn: 0.2182547\ttotal: 7.91s\tremaining: 19.4s\n",
      "290:\tlearn: 0.2174782\ttotal: 7.93s\tremaining: 19.3s\n",
      "291:\tlearn: 0.2167371\ttotal: 7.96s\tremaining: 19.3s\n",
      "292:\tlearn: 0.2158960\ttotal: 7.99s\tremaining: 19.3s\n",
      "293:\tlearn: 0.2148197\ttotal: 8.01s\tremaining: 19.2s\n",
      "294:\tlearn: 0.2143057\ttotal: 8.04s\tremaining: 19.2s\n",
      "295:\tlearn: 0.2135759\ttotal: 8.06s\tremaining: 19.2s\n",
      "296:\tlearn: 0.2128114\ttotal: 8.09s\tremaining: 19.1s\n",
      "297:\tlearn: 0.2119919\ttotal: 8.11s\tremaining: 19.1s\n",
      "298:\tlearn: 0.2109310\ttotal: 8.14s\tremaining: 19.1s\n",
      "299:\tlearn: 0.2101547\ttotal: 8.16s\tremaining: 19.1s\n",
      "300:\tlearn: 0.2092743\ttotal: 8.19s\tremaining: 19s\n",
      "301:\tlearn: 0.2083818\ttotal: 8.22s\tremaining: 19s\n",
      "302:\tlearn: 0.2076938\ttotal: 8.24s\tremaining: 19s\n",
      "303:\tlearn: 0.2069999\ttotal: 8.27s\tremaining: 18.9s\n",
      "304:\tlearn: 0.2062402\ttotal: 8.3s\tremaining: 18.9s\n",
      "305:\tlearn: 0.2054808\ttotal: 8.32s\tremaining: 18.9s\n",
      "306:\tlearn: 0.2048660\ttotal: 8.35s\tremaining: 18.8s\n",
      "307:\tlearn: 0.2039135\ttotal: 8.37s\tremaining: 18.8s\n",
      "308:\tlearn: 0.2032232\ttotal: 8.4s\tremaining: 18.8s\n",
      "309:\tlearn: 0.2025708\ttotal: 8.42s\tremaining: 18.7s\n",
      "310:\tlearn: 0.2017368\ttotal: 8.45s\tremaining: 18.7s\n",
      "311:\tlearn: 0.2008398\ttotal: 8.48s\tremaining: 18.7s\n",
      "312:\tlearn: 0.2003674\ttotal: 8.5s\tremaining: 18.7s\n",
      "313:\tlearn: 0.1995895\ttotal: 8.52s\tremaining: 18.6s\n",
      "314:\tlearn: 0.1989963\ttotal: 8.55s\tremaining: 18.6s\n",
      "315:\tlearn: 0.1982923\ttotal: 8.57s\tremaining: 18.6s\n",
      "316:\tlearn: 0.1977446\ttotal: 8.6s\tremaining: 18.5s\n",
      "317:\tlearn: 0.1967791\ttotal: 8.63s\tremaining: 18.5s\n",
      "318:\tlearn: 0.1959274\ttotal: 8.65s\tremaining: 18.5s\n",
      "319:\tlearn: 0.1951750\ttotal: 8.68s\tremaining: 18.4s\n",
      "320:\tlearn: 0.1943745\ttotal: 8.71s\tremaining: 18.4s\n",
      "321:\tlearn: 0.1935096\ttotal: 8.73s\tremaining: 18.4s\n",
      "322:\tlearn: 0.1929726\ttotal: 8.75s\tremaining: 18.3s\n",
      "323:\tlearn: 0.1924210\ttotal: 8.78s\tremaining: 18.3s\n",
      "324:\tlearn: 0.1917449\ttotal: 8.8s\tremaining: 18.3s\n",
      "325:\tlearn: 0.1908461\ttotal: 8.83s\tremaining: 18.2s\n",
      "326:\tlearn: 0.1901005\ttotal: 8.85s\tremaining: 18.2s\n",
      "327:\tlearn: 0.1894933\ttotal: 8.88s\tremaining: 18.2s\n",
      "328:\tlearn: 0.1886416\ttotal: 8.91s\tremaining: 18.2s\n",
      "329:\tlearn: 0.1877575\ttotal: 8.93s\tremaining: 18.1s\n",
      "330:\tlearn: 0.1870188\ttotal: 8.96s\tremaining: 18.1s\n",
      "331:\tlearn: 0.1863117\ttotal: 8.98s\tremaining: 18.1s\n",
      "332:\tlearn: 0.1857587\ttotal: 9.01s\tremaining: 18.1s\n",
      "333:\tlearn: 0.1852431\ttotal: 9.04s\tremaining: 18s\n",
      "334:\tlearn: 0.1845409\ttotal: 9.06s\tremaining: 18s\n",
      "335:\tlearn: 0.1840309\ttotal: 9.09s\tremaining: 18s\n",
      "336:\tlearn: 0.1835117\ttotal: 9.11s\tremaining: 17.9s\n",
      "337:\tlearn: 0.1828981\ttotal: 9.14s\tremaining: 17.9s\n",
      "338:\tlearn: 0.1822043\ttotal: 9.16s\tremaining: 17.9s\n",
      "339:\tlearn: 0.1817078\ttotal: 9.19s\tremaining: 17.8s\n",
      "340:\tlearn: 0.1809939\ttotal: 9.21s\tremaining: 17.8s\n",
      "341:\tlearn: 0.1805198\ttotal: 9.24s\tremaining: 17.8s\n",
      "342:\tlearn: 0.1796758\ttotal: 9.27s\tremaining: 17.7s\n",
      "343:\tlearn: 0.1787701\ttotal: 9.29s\tremaining: 17.7s\n",
      "344:\tlearn: 0.1781882\ttotal: 9.32s\tremaining: 17.7s\n",
      "345:\tlearn: 0.1775902\ttotal: 9.35s\tremaining: 17.7s\n",
      "346:\tlearn: 0.1770176\ttotal: 9.37s\tremaining: 17.6s\n",
      "347:\tlearn: 0.1765146\ttotal: 9.4s\tremaining: 17.6s\n",
      "348:\tlearn: 0.1758162\ttotal: 9.42s\tremaining: 17.6s\n",
      "349:\tlearn: 0.1753973\ttotal: 9.45s\tremaining: 17.5s\n",
      "350:\tlearn: 0.1747878\ttotal: 9.47s\tremaining: 17.5s\n",
      "351:\tlearn: 0.1741448\ttotal: 9.5s\tremaining: 17.5s\n",
      "352:\tlearn: 0.1735747\ttotal: 9.52s\tremaining: 17.5s\n",
      "353:\tlearn: 0.1728650\ttotal: 9.55s\tremaining: 17.4s\n",
      "354:\tlearn: 0.1721247\ttotal: 9.58s\tremaining: 17.4s\n",
      "355:\tlearn: 0.1715332\ttotal: 9.6s\tremaining: 17.4s\n",
      "356:\tlearn: 0.1708981\ttotal: 9.63s\tremaining: 17.3s\n",
      "357:\tlearn: 0.1703752\ttotal: 9.65s\tremaining: 17.3s\n",
      "358:\tlearn: 0.1697287\ttotal: 9.68s\tremaining: 17.3s\n",
      "359:\tlearn: 0.1691755\ttotal: 9.7s\tremaining: 17.2s\n",
      "360:\tlearn: 0.1685623\ttotal: 9.73s\tremaining: 17.2s\n",
      "361:\tlearn: 0.1679944\ttotal: 9.75s\tremaining: 17.2s\n",
      "362:\tlearn: 0.1675562\ttotal: 9.78s\tremaining: 17.2s\n",
      "363:\tlearn: 0.1670092\ttotal: 9.8s\tremaining: 17.1s\n",
      "364:\tlearn: 0.1666030\ttotal: 9.83s\tremaining: 17.1s\n",
      "365:\tlearn: 0.1661277\ttotal: 9.85s\tremaining: 17.1s\n",
      "366:\tlearn: 0.1656089\ttotal: 9.88s\tremaining: 17s\n",
      "367:\tlearn: 0.1649973\ttotal: 9.9s\tremaining: 17s\n",
      "368:\tlearn: 0.1646537\ttotal: 9.93s\tremaining: 17s\n",
      "369:\tlearn: 0.1640472\ttotal: 9.95s\tremaining: 16.9s\n",
      "370:\tlearn: 0.1635896\ttotal: 9.97s\tremaining: 16.9s\n",
      "371:\tlearn: 0.1629696\ttotal: 10s\tremaining: 16.9s\n",
      "372:\tlearn: 0.1622950\ttotal: 10s\tremaining: 16.9s\n",
      "373:\tlearn: 0.1616850\ttotal: 10.1s\tremaining: 16.8s\n",
      "374:\tlearn: 0.1611372\ttotal: 10.1s\tremaining: 16.8s\n",
      "375:\tlearn: 0.1606303\ttotal: 10.1s\tremaining: 16.8s\n",
      "376:\tlearn: 0.1601890\ttotal: 10.1s\tremaining: 16.7s\n",
      "377:\tlearn: 0.1594980\ttotal: 10.2s\tremaining: 16.7s\n",
      "378:\tlearn: 0.1588802\ttotal: 10.2s\tremaining: 16.7s\n",
      "379:\tlearn: 0.1583434\ttotal: 10.2s\tremaining: 16.7s\n",
      "380:\tlearn: 0.1579441\ttotal: 10.2s\tremaining: 16.6s\n",
      "381:\tlearn: 0.1576382\ttotal: 10.3s\tremaining: 16.6s\n",
      "382:\tlearn: 0.1570896\ttotal: 10.3s\tremaining: 16.6s\n",
      "383:\tlearn: 0.1566048\ttotal: 10.3s\tremaining: 16.5s\n",
      "384:\tlearn: 0.1560795\ttotal: 10.3s\tremaining: 16.5s\n",
      "385:\tlearn: 0.1555131\ttotal: 10.4s\tremaining: 16.5s\n",
      "386:\tlearn: 0.1550146\ttotal: 10.4s\tremaining: 16.5s\n",
      "387:\tlearn: 0.1545022\ttotal: 10.4s\tremaining: 16.4s\n",
      "388:\tlearn: 0.1540939\ttotal: 10.4s\tremaining: 16.4s\n",
      "389:\tlearn: 0.1535958\ttotal: 10.5s\tremaining: 16.4s\n",
      "390:\tlearn: 0.1530542\ttotal: 10.5s\tremaining: 16.3s\n",
      "391:\tlearn: 0.1525704\ttotal: 10.5s\tremaining: 16.3s\n",
      "392:\tlearn: 0.1520940\ttotal: 10.5s\tremaining: 16.3s\n",
      "393:\tlearn: 0.1517340\ttotal: 10.6s\tremaining: 16.3s\n",
      "394:\tlearn: 0.1511671\ttotal: 10.6s\tremaining: 16.2s\n",
      "395:\tlearn: 0.1507824\ttotal: 10.6s\tremaining: 16.2s\n",
      "396:\tlearn: 0.1503448\ttotal: 10.6s\tremaining: 16.2s\n",
      "397:\tlearn: 0.1499794\ttotal: 10.7s\tremaining: 16.1s\n",
      "398:\tlearn: 0.1495404\ttotal: 10.7s\tremaining: 16.1s\n",
      "399:\tlearn: 0.1490751\ttotal: 10.7s\tremaining: 16.1s\n",
      "400:\tlearn: 0.1486973\ttotal: 10.7s\tremaining: 16.1s\n",
      "401:\tlearn: 0.1482597\ttotal: 10.8s\tremaining: 16s\n",
      "402:\tlearn: 0.1477377\ttotal: 10.8s\tremaining: 16s\n",
      "403:\tlearn: 0.1472145\ttotal: 10.8s\tremaining: 16s\n",
      "404:\tlearn: 0.1468931\ttotal: 10.8s\tremaining: 15.9s\n",
      "405:\tlearn: 0.1466566\ttotal: 10.9s\tremaining: 15.9s\n",
      "406:\tlearn: 0.1461848\ttotal: 10.9s\tremaining: 15.9s\n",
      "407:\tlearn: 0.1458342\ttotal: 10.9s\tremaining: 15.9s\n",
      "408:\tlearn: 0.1454269\ttotal: 11s\tremaining: 15.8s\n",
      "409:\tlearn: 0.1450816\ttotal: 11s\tremaining: 15.8s\n",
      "410:\tlearn: 0.1447148\ttotal: 11s\tremaining: 15.8s\n",
      "411:\tlearn: 0.1444104\ttotal: 11s\tremaining: 15.7s\n",
      "412:\tlearn: 0.1439485\ttotal: 11.1s\tremaining: 15.7s\n",
      "413:\tlearn: 0.1434817\ttotal: 11.1s\tremaining: 15.7s\n",
      "414:\tlearn: 0.1429874\ttotal: 11.1s\tremaining: 15.7s\n",
      "415:\tlearn: 0.1425060\ttotal: 11.1s\tremaining: 15.6s\n",
      "416:\tlearn: 0.1421854\ttotal: 11.2s\tremaining: 15.6s\n",
      "417:\tlearn: 0.1417072\ttotal: 11.2s\tremaining: 15.6s\n",
      "418:\tlearn: 0.1413847\ttotal: 11.2s\tremaining: 15.5s\n",
      "419:\tlearn: 0.1409560\ttotal: 11.2s\tremaining: 15.5s\n",
      "420:\tlearn: 0.1406691\ttotal: 11.3s\tremaining: 15.5s\n",
      "421:\tlearn: 0.1403181\ttotal: 11.3s\tremaining: 15.4s\n",
      "422:\tlearn: 0.1400063\ttotal: 11.3s\tremaining: 15.4s\n",
      "423:\tlearn: 0.1396115\ttotal: 11.3s\tremaining: 15.4s\n",
      "424:\tlearn: 0.1391088\ttotal: 11.4s\tremaining: 15.4s\n",
      "425:\tlearn: 0.1385814\ttotal: 11.4s\tremaining: 15.3s\n",
      "426:\tlearn: 0.1383416\ttotal: 11.4s\tremaining: 15.3s\n",
      "427:\tlearn: 0.1379732\ttotal: 11.4s\tremaining: 15.3s\n",
      "428:\tlearn: 0.1376884\ttotal: 11.5s\tremaining: 15.2s\n",
      "429:\tlearn: 0.1375108\ttotal: 11.5s\tremaining: 15.2s\n",
      "430:\tlearn: 0.1371515\ttotal: 11.5s\tremaining: 15.2s\n",
      "431:\tlearn: 0.1368962\ttotal: 11.5s\tremaining: 15.2s\n",
      "432:\tlearn: 0.1365775\ttotal: 11.6s\tremaining: 15.1s\n",
      "433:\tlearn: 0.1361371\ttotal: 11.6s\tremaining: 15.1s\n",
      "434:\tlearn: 0.1358018\ttotal: 11.6s\tremaining: 15.1s\n",
      "435:\tlearn: 0.1353072\ttotal: 11.6s\tremaining: 15s\n",
      "436:\tlearn: 0.1350473\ttotal: 11.7s\tremaining: 15s\n",
      "437:\tlearn: 0.1346135\ttotal: 11.7s\tremaining: 15s\n",
      "438:\tlearn: 0.1342373\ttotal: 11.7s\tremaining: 15s\n",
      "439:\tlearn: 0.1337454\ttotal: 11.7s\tremaining: 14.9s\n",
      "440:\tlearn: 0.1334778\ttotal: 11.8s\tremaining: 14.9s\n",
      "441:\tlearn: 0.1330461\ttotal: 11.8s\tremaining: 14.9s\n",
      "442:\tlearn: 0.1327593\ttotal: 11.8s\tremaining: 14.9s\n",
      "443:\tlearn: 0.1323501\ttotal: 11.8s\tremaining: 14.8s\n",
      "444:\tlearn: 0.1319592\ttotal: 11.9s\tremaining: 14.8s\n",
      "445:\tlearn: 0.1315764\ttotal: 11.9s\tremaining: 14.8s\n",
      "446:\tlearn: 0.1312927\ttotal: 11.9s\tremaining: 14.7s\n",
      "447:\tlearn: 0.1308685\ttotal: 11.9s\tremaining: 14.7s\n",
      "448:\tlearn: 0.1305790\ttotal: 12s\tremaining: 14.7s\n",
      "449:\tlearn: 0.1301656\ttotal: 12s\tremaining: 14.7s\n",
      "450:\tlearn: 0.1298604\ttotal: 12s\tremaining: 14.6s\n",
      "451:\tlearn: 0.1295589\ttotal: 12s\tremaining: 14.6s\n",
      "452:\tlearn: 0.1292043\ttotal: 12.1s\tremaining: 14.6s\n",
      "453:\tlearn: 0.1289644\ttotal: 12.1s\tremaining: 14.5s\n",
      "454:\tlearn: 0.1286274\ttotal: 12.1s\tremaining: 14.5s\n",
      "455:\tlearn: 0.1281941\ttotal: 12.1s\tremaining: 14.5s\n",
      "456:\tlearn: 0.1279472\ttotal: 12.2s\tremaining: 14.4s\n",
      "457:\tlearn: 0.1275186\ttotal: 12.2s\tremaining: 14.4s\n",
      "458:\tlearn: 0.1271018\ttotal: 12.2s\tremaining: 14.4s\n",
      "459:\tlearn: 0.1268697\ttotal: 12.2s\tremaining: 14.4s\n",
      "460:\tlearn: 0.1265722\ttotal: 12.3s\tremaining: 14.3s\n",
      "461:\tlearn: 0.1262560\ttotal: 12.3s\tremaining: 14.3s\n",
      "462:\tlearn: 0.1260832\ttotal: 12.3s\tremaining: 14.3s\n",
      "463:\tlearn: 0.1257734\ttotal: 12.3s\tremaining: 14.2s\n",
      "464:\tlearn: 0.1253755\ttotal: 12.4s\tremaining: 14.2s\n",
      "465:\tlearn: 0.1251233\ttotal: 12.4s\tremaining: 14.2s\n",
      "466:\tlearn: 0.1247526\ttotal: 12.4s\tremaining: 14.2s\n",
      "467:\tlearn: 0.1245068\ttotal: 12.4s\tremaining: 14.1s\n",
      "468:\tlearn: 0.1242637\ttotal: 12.5s\tremaining: 14.1s\n",
      "469:\tlearn: 0.1239824\ttotal: 12.5s\tremaining: 14.1s\n",
      "470:\tlearn: 0.1238285\ttotal: 12.5s\tremaining: 14s\n",
      "471:\tlearn: 0.1235614\ttotal: 12.5s\tremaining: 14s\n",
      "472:\tlearn: 0.1232433\ttotal: 12.6s\tremaining: 14s\n",
      "473:\tlearn: 0.1228792\ttotal: 12.6s\tremaining: 14s\n",
      "474:\tlearn: 0.1226278\ttotal: 12.6s\tremaining: 13.9s\n",
      "475:\tlearn: 0.1222959\ttotal: 12.6s\tremaining: 13.9s\n",
      "476:\tlearn: 0.1219688\ttotal: 12.6s\tremaining: 13.9s\n",
      "477:\tlearn: 0.1216527\ttotal: 12.7s\tremaining: 13.8s\n",
      "478:\tlearn: 0.1213686\ttotal: 12.7s\tremaining: 13.8s\n",
      "479:\tlearn: 0.1211485\ttotal: 12.7s\tremaining: 13.8s\n",
      "480:\tlearn: 0.1207674\ttotal: 12.7s\tremaining: 13.8s\n",
      "481:\tlearn: 0.1205457\ttotal: 12.8s\tremaining: 13.7s\n",
      "482:\tlearn: 0.1202055\ttotal: 12.8s\tremaining: 13.7s\n",
      "483:\tlearn: 0.1199143\ttotal: 12.8s\tremaining: 13.7s\n",
      "484:\tlearn: 0.1195636\ttotal: 12.8s\tremaining: 13.6s\n",
      "485:\tlearn: 0.1193061\ttotal: 12.9s\tremaining: 13.6s\n",
      "486:\tlearn: 0.1189699\ttotal: 12.9s\tremaining: 13.6s\n",
      "487:\tlearn: 0.1186476\ttotal: 12.9s\tremaining: 13.6s\n",
      "488:\tlearn: 0.1182523\ttotal: 13s\tremaining: 13.5s\n",
      "489:\tlearn: 0.1178896\ttotal: 13s\tremaining: 13.5s\n",
      "490:\tlearn: 0.1175187\ttotal: 13s\tremaining: 13.5s\n",
      "491:\tlearn: 0.1173036\ttotal: 13s\tremaining: 13.4s\n",
      "492:\tlearn: 0.1170381\ttotal: 13.1s\tremaining: 13.4s\n",
      "493:\tlearn: 0.1168539\ttotal: 13.1s\tremaining: 13.4s\n",
      "494:\tlearn: 0.1165269\ttotal: 13.1s\tremaining: 13.4s\n",
      "495:\tlearn: 0.1163089\ttotal: 13.1s\tremaining: 13.3s\n",
      "496:\tlearn: 0.1160205\ttotal: 13.2s\tremaining: 13.3s\n",
      "497:\tlearn: 0.1157083\ttotal: 13.2s\tremaining: 13.3s\n",
      "498:\tlearn: 0.1154058\ttotal: 13.2s\tremaining: 13.3s\n",
      "499:\tlearn: 0.1151163\ttotal: 13.2s\tremaining: 13.2s\n",
      "500:\tlearn: 0.1149406\ttotal: 13.2s\tremaining: 13.2s\n",
      "501:\tlearn: 0.1147084\ttotal: 13.3s\tremaining: 13.2s\n",
      "502:\tlearn: 0.1144224\ttotal: 13.3s\tremaining: 13.1s\n",
      "503:\tlearn: 0.1141703\ttotal: 13.3s\tremaining: 13.1s\n",
      "504:\tlearn: 0.1139406\ttotal: 13.3s\tremaining: 13.1s\n",
      "505:\tlearn: 0.1136287\ttotal: 13.4s\tremaining: 13.1s\n",
      "506:\tlearn: 0.1133791\ttotal: 13.4s\tremaining: 13s\n",
      "507:\tlearn: 0.1131942\ttotal: 13.4s\tremaining: 13s\n",
      "508:\tlearn: 0.1129524\ttotal: 13.4s\tremaining: 13s\n",
      "509:\tlearn: 0.1127922\ttotal: 13.5s\tremaining: 12.9s\n",
      "510:\tlearn: 0.1125378\ttotal: 13.5s\tremaining: 12.9s\n",
      "511:\tlearn: 0.1122694\ttotal: 13.5s\tremaining: 12.9s\n",
      "512:\tlearn: 0.1121338\ttotal: 13.5s\tremaining: 12.9s\n",
      "513:\tlearn: 0.1119041\ttotal: 13.6s\tremaining: 12.8s\n",
      "514:\tlearn: 0.1116126\ttotal: 13.6s\tremaining: 12.8s\n",
      "515:\tlearn: 0.1113518\ttotal: 13.6s\tremaining: 12.8s\n",
      "516:\tlearn: 0.1111100\ttotal: 13.6s\tremaining: 12.7s\n",
      "517:\tlearn: 0.1108756\ttotal: 13.7s\tremaining: 12.7s\n",
      "518:\tlearn: 0.1106757\ttotal: 13.7s\tremaining: 12.7s\n",
      "519:\tlearn: 0.1104060\ttotal: 13.7s\tremaining: 12.7s\n",
      "520:\tlearn: 0.1101952\ttotal: 13.7s\tremaining: 12.6s\n",
      "521:\tlearn: 0.1100098\ttotal: 13.8s\tremaining: 12.6s\n",
      "522:\tlearn: 0.1097501\ttotal: 13.8s\tremaining: 12.6s\n",
      "523:\tlearn: 0.1094518\ttotal: 13.8s\tremaining: 12.5s\n",
      "524:\tlearn: 0.1093335\ttotal: 13.8s\tremaining: 12.5s\n",
      "525:\tlearn: 0.1091275\ttotal: 13.9s\tremaining: 12.5s\n",
      "526:\tlearn: 0.1089198\ttotal: 13.9s\tremaining: 12.5s\n",
      "527:\tlearn: 0.1085914\ttotal: 13.9s\tremaining: 12.4s\n",
      "528:\tlearn: 0.1083678\ttotal: 13.9s\tremaining: 12.4s\n",
      "529:\tlearn: 0.1082069\ttotal: 14s\tremaining: 12.4s\n",
      "530:\tlearn: 0.1080946\ttotal: 14s\tremaining: 12.3s\n",
      "531:\tlearn: 0.1078725\ttotal: 14s\tremaining: 12.3s\n",
      "532:\tlearn: 0.1076972\ttotal: 14s\tremaining: 12.3s\n",
      "533:\tlearn: 0.1074854\ttotal: 14.1s\tremaining: 12.3s\n",
      "534:\tlearn: 0.1073377\ttotal: 14.1s\tremaining: 12.2s\n",
      "535:\tlearn: 0.1071858\ttotal: 14.1s\tremaining: 12.2s\n",
      "536:\tlearn: 0.1069187\ttotal: 14.1s\tremaining: 12.2s\n",
      "537:\tlearn: 0.1066744\ttotal: 14.1s\tremaining: 12.2s\n",
      "538:\tlearn: 0.1065288\ttotal: 14.2s\tremaining: 12.1s\n",
      "539:\tlearn: 0.1063255\ttotal: 14.2s\tremaining: 12.1s\n",
      "540:\tlearn: 0.1060385\ttotal: 14.2s\tremaining: 12.1s\n",
      "541:\tlearn: 0.1057614\ttotal: 14.3s\tremaining: 12s\n",
      "542:\tlearn: 0.1055635\ttotal: 14.3s\tremaining: 12s\n",
      "543:\tlearn: 0.1054280\ttotal: 14.3s\tremaining: 12s\n",
      "544:\tlearn: 0.1051791\ttotal: 14.3s\tremaining: 12s\n",
      "545:\tlearn: 0.1049908\ttotal: 14.3s\tremaining: 11.9s\n",
      "546:\tlearn: 0.1047482\ttotal: 14.4s\tremaining: 11.9s\n",
      "547:\tlearn: 0.1044757\ttotal: 14.4s\tremaining: 11.9s\n",
      "548:\tlearn: 0.1042096\ttotal: 14.4s\tremaining: 11.8s\n",
      "549:\tlearn: 0.1040058\ttotal: 14.4s\tremaining: 11.8s\n",
      "550:\tlearn: 0.1038367\ttotal: 14.5s\tremaining: 11.8s\n",
      "551:\tlearn: 0.1035590\ttotal: 14.5s\tremaining: 11.8s\n",
      "552:\tlearn: 0.1033057\ttotal: 14.5s\tremaining: 11.7s\n",
      "553:\tlearn: 0.1031123\ttotal: 14.5s\tremaining: 11.7s\n",
      "554:\tlearn: 0.1030508\ttotal: 14.6s\tremaining: 11.7s\n",
      "555:\tlearn: 0.1028982\ttotal: 14.6s\tremaining: 11.6s\n",
      "556:\tlearn: 0.1026802\ttotal: 14.6s\tremaining: 11.6s\n",
      "557:\tlearn: 0.1025489\ttotal: 14.6s\tremaining: 11.6s\n",
      "558:\tlearn: 0.1023759\ttotal: 14.7s\tremaining: 11.6s\n",
      "559:\tlearn: 0.1020685\ttotal: 14.7s\tremaining: 11.5s\n",
      "560:\tlearn: 0.1018873\ttotal: 14.7s\tremaining: 11.5s\n",
      "561:\tlearn: 0.1016671\ttotal: 14.7s\tremaining: 11.5s\n",
      "562:\tlearn: 0.1014845\ttotal: 14.8s\tremaining: 11.5s\n",
      "563:\tlearn: 0.1013255\ttotal: 14.8s\tremaining: 11.4s\n",
      "564:\tlearn: 0.1012323\ttotal: 14.8s\tremaining: 11.4s\n",
      "565:\tlearn: 0.1010683\ttotal: 14.8s\tremaining: 11.4s\n",
      "566:\tlearn: 0.1009286\ttotal: 14.8s\tremaining: 11.3s\n",
      "567:\tlearn: 0.1007354\ttotal: 14.9s\tremaining: 11.3s\n",
      "568:\tlearn: 0.1004543\ttotal: 14.9s\tremaining: 11.3s\n",
      "569:\tlearn: 0.1002146\ttotal: 14.9s\tremaining: 11.3s\n",
      "570:\tlearn: 0.1000421\ttotal: 14.9s\tremaining: 11.2s\n",
      "571:\tlearn: 0.0998057\ttotal: 15s\tremaining: 11.2s\n",
      "572:\tlearn: 0.0996694\ttotal: 15s\tremaining: 11.2s\n",
      "573:\tlearn: 0.0994322\ttotal: 15s\tremaining: 11.1s\n",
      "574:\tlearn: 0.0992932\ttotal: 15s\tremaining: 11.1s\n",
      "575:\tlearn: 0.0991077\ttotal: 15.1s\tremaining: 11.1s\n",
      "576:\tlearn: 0.0989408\ttotal: 15.1s\tremaining: 11.1s\n",
      "577:\tlearn: 0.0987945\ttotal: 15.1s\tremaining: 11s\n",
      "578:\tlearn: 0.0985674\ttotal: 15.1s\tremaining: 11s\n",
      "579:\tlearn: 0.0983696\ttotal: 15.2s\tremaining: 11s\n",
      "580:\tlearn: 0.0982076\ttotal: 15.2s\tremaining: 10.9s\n",
      "581:\tlearn: 0.0980194\ttotal: 15.2s\tremaining: 10.9s\n",
      "582:\tlearn: 0.0978521\ttotal: 15.2s\tremaining: 10.9s\n",
      "583:\tlearn: 0.0977559\ttotal: 15.3s\tremaining: 10.9s\n",
      "584:\tlearn: 0.0975566\ttotal: 15.3s\tremaining: 10.8s\n",
      "585:\tlearn: 0.0974143\ttotal: 15.3s\tremaining: 10.8s\n",
      "586:\tlearn: 0.0972766\ttotal: 15.3s\tremaining: 10.8s\n",
      "587:\tlearn: 0.0971137\ttotal: 15.4s\tremaining: 10.8s\n",
      "588:\tlearn: 0.0969945\ttotal: 15.4s\tremaining: 10.7s\n",
      "589:\tlearn: 0.0968973\ttotal: 15.4s\tremaining: 10.7s\n",
      "590:\tlearn: 0.0966988\ttotal: 15.4s\tremaining: 10.7s\n",
      "591:\tlearn: 0.0964748\ttotal: 15.4s\tremaining: 10.6s\n",
      "592:\tlearn: 0.0962346\ttotal: 15.5s\tremaining: 10.6s\n",
      "593:\tlearn: 0.0961239\ttotal: 15.5s\tremaining: 10.6s\n",
      "594:\tlearn: 0.0960025\ttotal: 15.5s\tremaining: 10.6s\n",
      "595:\tlearn: 0.0957569\ttotal: 15.5s\tremaining: 10.5s\n",
      "596:\tlearn: 0.0955641\ttotal: 15.6s\tremaining: 10.5s\n",
      "597:\tlearn: 0.0953686\ttotal: 15.6s\tremaining: 10.5s\n",
      "598:\tlearn: 0.0952709\ttotal: 15.6s\tremaining: 10.5s\n",
      "599:\tlearn: 0.0950812\ttotal: 15.6s\tremaining: 10.4s\n",
      "600:\tlearn: 0.0948898\ttotal: 15.7s\tremaining: 10.4s\n",
      "601:\tlearn: 0.0947866\ttotal: 15.7s\tremaining: 10.4s\n",
      "602:\tlearn: 0.0945908\ttotal: 15.7s\tremaining: 10.3s\n",
      "603:\tlearn: 0.0944098\ttotal: 15.7s\tremaining: 10.3s\n",
      "604:\tlearn: 0.0942760\ttotal: 15.8s\tremaining: 10.3s\n",
      "605:\tlearn: 0.0941540\ttotal: 15.8s\tremaining: 10.3s\n",
      "606:\tlearn: 0.0940002\ttotal: 15.8s\tremaining: 10.2s\n",
      "607:\tlearn: 0.0938753\ttotal: 15.8s\tremaining: 10.2s\n",
      "608:\tlearn: 0.0936527\ttotal: 15.9s\tremaining: 10.2s\n",
      "609:\tlearn: 0.0934431\ttotal: 15.9s\tremaining: 10.2s\n",
      "610:\tlearn: 0.0933006\ttotal: 15.9s\tremaining: 10.1s\n",
      "611:\tlearn: 0.0931810\ttotal: 15.9s\tremaining: 10.1s\n",
      "612:\tlearn: 0.0930662\ttotal: 16s\tremaining: 10.1s\n",
      "613:\tlearn: 0.0928735\ttotal: 16s\tremaining: 10s\n",
      "614:\tlearn: 0.0927505\ttotal: 16s\tremaining: 10s\n",
      "615:\tlearn: 0.0926332\ttotal: 16s\tremaining: 9.99s\n",
      "616:\tlearn: 0.0924120\ttotal: 16.1s\tremaining: 9.97s\n",
      "617:\tlearn: 0.0922600\ttotal: 16.1s\tremaining: 9.94s\n",
      "618:\tlearn: 0.0920876\ttotal: 16.1s\tremaining: 9.91s\n",
      "619:\tlearn: 0.0918549\ttotal: 16.1s\tremaining: 9.89s\n",
      "620:\tlearn: 0.0917582\ttotal: 16.2s\tremaining: 9.86s\n",
      "621:\tlearn: 0.0916672\ttotal: 16.2s\tremaining: 9.83s\n",
      "622:\tlearn: 0.0915398\ttotal: 16.2s\tremaining: 9.81s\n",
      "623:\tlearn: 0.0914083\ttotal: 16.2s\tremaining: 9.78s\n",
      "624:\tlearn: 0.0912533\ttotal: 16.3s\tremaining: 9.75s\n",
      "625:\tlearn: 0.0911160\ttotal: 16.3s\tremaining: 9.72s\n",
      "626:\tlearn: 0.0910439\ttotal: 16.3s\tremaining: 9.69s\n",
      "627:\tlearn: 0.0908765\ttotal: 16.3s\tremaining: 9.67s\n",
      "628:\tlearn: 0.0906781\ttotal: 16.3s\tremaining: 9.64s\n",
      "629:\tlearn: 0.0905231\ttotal: 16.4s\tremaining: 9.61s\n",
      "630:\tlearn: 0.0903589\ttotal: 16.4s\tremaining: 9.59s\n",
      "631:\tlearn: 0.0901950\ttotal: 16.4s\tremaining: 9.56s\n",
      "632:\tlearn: 0.0901005\ttotal: 16.4s\tremaining: 9.53s\n",
      "633:\tlearn: 0.0899944\ttotal: 16.5s\tremaining: 9.5s\n",
      "634:\tlearn: 0.0898929\ttotal: 16.5s\tremaining: 9.47s\n",
      "635:\tlearn: 0.0897399\ttotal: 16.5s\tremaining: 9.45s\n",
      "636:\tlearn: 0.0896460\ttotal: 16.5s\tremaining: 9.42s\n",
      "637:\tlearn: 0.0894534\ttotal: 16.6s\tremaining: 9.39s\n",
      "638:\tlearn: 0.0892440\ttotal: 16.6s\tremaining: 9.37s\n",
      "639:\tlearn: 0.0890632\ttotal: 16.6s\tremaining: 9.34s\n",
      "640:\tlearn: 0.0889867\ttotal: 16.6s\tremaining: 9.31s\n",
      "641:\tlearn: 0.0887701\ttotal: 16.6s\tremaining: 9.28s\n",
      "642:\tlearn: 0.0886281\ttotal: 16.7s\tremaining: 9.26s\n",
      "643:\tlearn: 0.0885031\ttotal: 16.7s\tremaining: 9.23s\n",
      "644:\tlearn: 0.0883185\ttotal: 16.7s\tremaining: 9.2s\n",
      "645:\tlearn: 0.0881780\ttotal: 16.7s\tremaining: 9.18s\n",
      "646:\tlearn: 0.0880886\ttotal: 16.8s\tremaining: 9.15s\n",
      "647:\tlearn: 0.0879718\ttotal: 16.8s\tremaining: 9.12s\n",
      "648:\tlearn: 0.0878373\ttotal: 16.8s\tremaining: 9.1s\n",
      "649:\tlearn: 0.0876661\ttotal: 16.9s\tremaining: 9.08s\n",
      "650:\tlearn: 0.0875151\ttotal: 16.9s\tremaining: 9.05s\n",
      "651:\tlearn: 0.0873307\ttotal: 16.9s\tremaining: 9.03s\n",
      "652:\tlearn: 0.0871792\ttotal: 16.9s\tremaining: 9s\n",
      "653:\tlearn: 0.0870507\ttotal: 17s\tremaining: 8.97s\n",
      "654:\tlearn: 0.0869669\ttotal: 17s\tremaining: 8.95s\n",
      "655:\tlearn: 0.0868500\ttotal: 17s\tremaining: 8.92s\n",
      "656:\tlearn: 0.0867114\ttotal: 17s\tremaining: 8.89s\n",
      "657:\tlearn: 0.0866567\ttotal: 17.1s\tremaining: 8.87s\n",
      "658:\tlearn: 0.0865297\ttotal: 17.1s\tremaining: 8.84s\n",
      "659:\tlearn: 0.0864603\ttotal: 17.1s\tremaining: 8.81s\n",
      "660:\tlearn: 0.0863221\ttotal: 17.1s\tremaining: 8.79s\n",
      "661:\tlearn: 0.0862173\ttotal: 17.2s\tremaining: 8.76s\n",
      "662:\tlearn: 0.0861216\ttotal: 17.2s\tremaining: 8.73s\n",
      "663:\tlearn: 0.0860610\ttotal: 17.2s\tremaining: 8.7s\n",
      "664:\tlearn: 0.0859091\ttotal: 17.2s\tremaining: 8.68s\n",
      "665:\tlearn: 0.0858294\ttotal: 17.2s\tremaining: 8.65s\n",
      "666:\tlearn: 0.0856458\ttotal: 17.3s\tremaining: 8.62s\n",
      "667:\tlearn: 0.0855166\ttotal: 17.3s\tremaining: 8.6s\n",
      "668:\tlearn: 0.0853538\ttotal: 17.3s\tremaining: 8.57s\n",
      "669:\tlearn: 0.0852646\ttotal: 17.3s\tremaining: 8.54s\n",
      "670:\tlearn: 0.0851761\ttotal: 17.4s\tremaining: 8.51s\n",
      "671:\tlearn: 0.0849751\ttotal: 17.4s\tremaining: 8.49s\n",
      "672:\tlearn: 0.0849021\ttotal: 17.4s\tremaining: 8.46s\n",
      "673:\tlearn: 0.0847666\ttotal: 17.4s\tremaining: 8.43s\n",
      "674:\tlearn: 0.0846846\ttotal: 17.5s\tremaining: 8.4s\n",
      "675:\tlearn: 0.0846124\ttotal: 17.5s\tremaining: 8.38s\n",
      "676:\tlearn: 0.0845239\ttotal: 17.5s\tremaining: 8.35s\n",
      "677:\tlearn: 0.0844145\ttotal: 17.5s\tremaining: 8.32s\n",
      "678:\tlearn: 0.0843297\ttotal: 17.5s\tremaining: 8.29s\n",
      "679:\tlearn: 0.0842638\ttotal: 17.6s\tremaining: 8.27s\n",
      "680:\tlearn: 0.0841189\ttotal: 17.6s\tremaining: 8.24s\n",
      "681:\tlearn: 0.0840506\ttotal: 17.6s\tremaining: 8.21s\n",
      "682:\tlearn: 0.0839058\ttotal: 17.6s\tremaining: 8.19s\n",
      "683:\tlearn: 0.0838065\ttotal: 17.7s\tremaining: 8.16s\n",
      "684:\tlearn: 0.0837677\ttotal: 17.7s\tremaining: 8.13s\n",
      "685:\tlearn: 0.0836049\ttotal: 17.7s\tremaining: 8.11s\n",
      "686:\tlearn: 0.0835294\ttotal: 17.8s\tremaining: 8.09s\n",
      "687:\tlearn: 0.0834010\ttotal: 17.8s\tremaining: 8.06s\n",
      "688:\tlearn: 0.0833389\ttotal: 17.8s\tremaining: 8.04s\n",
      "689:\tlearn: 0.0832698\ttotal: 17.8s\tremaining: 8.01s\n",
      "690:\tlearn: 0.0831196\ttotal: 17.8s\tremaining: 7.98s\n",
      "691:\tlearn: 0.0830065\ttotal: 17.9s\tremaining: 7.95s\n",
      "692:\tlearn: 0.0828481\ttotal: 17.9s\tremaining: 7.93s\n",
      "693:\tlearn: 0.0827444\ttotal: 17.9s\tremaining: 7.9s\n",
      "694:\tlearn: 0.0826447\ttotal: 17.9s\tremaining: 7.88s\n",
      "695:\tlearn: 0.0825332\ttotal: 18s\tremaining: 7.85s\n",
      "696:\tlearn: 0.0824511\ttotal: 18s\tremaining: 7.82s\n",
      "697:\tlearn: 0.0822892\ttotal: 18s\tremaining: 7.79s\n",
      "698:\tlearn: 0.0821993\ttotal: 18s\tremaining: 7.77s\n",
      "699:\tlearn: 0.0820977\ttotal: 18.1s\tremaining: 7.74s\n",
      "700:\tlearn: 0.0820021\ttotal: 18.1s\tremaining: 7.71s\n",
      "701:\tlearn: 0.0819070\ttotal: 18.1s\tremaining: 7.69s\n",
      "702:\tlearn: 0.0818001\ttotal: 18.1s\tremaining: 7.66s\n",
      "703:\tlearn: 0.0816930\ttotal: 18.2s\tremaining: 7.64s\n",
      "704:\tlearn: 0.0815459\ttotal: 18.2s\tremaining: 7.61s\n",
      "705:\tlearn: 0.0814305\ttotal: 18.2s\tremaining: 7.58s\n",
      "706:\tlearn: 0.0813116\ttotal: 18.2s\tremaining: 7.56s\n",
      "707:\tlearn: 0.0812370\ttotal: 18.3s\tremaining: 7.54s\n",
      "708:\tlearn: 0.0810787\ttotal: 18.3s\tremaining: 7.51s\n",
      "709:\tlearn: 0.0809354\ttotal: 18.3s\tremaining: 7.49s\n",
      "710:\tlearn: 0.0808698\ttotal: 18.4s\tremaining: 7.46s\n",
      "711:\tlearn: 0.0807292\ttotal: 18.4s\tremaining: 7.43s\n",
      "712:\tlearn: 0.0806160\ttotal: 18.4s\tremaining: 7.41s\n",
      "713:\tlearn: 0.0805903\ttotal: 18.4s\tremaining: 7.38s\n",
      "714:\tlearn: 0.0804655\ttotal: 18.5s\tremaining: 7.36s\n",
      "715:\tlearn: 0.0802982\ttotal: 18.5s\tremaining: 7.33s\n",
      "716:\tlearn: 0.0801408\ttotal: 18.5s\tremaining: 7.3s\n",
      "717:\tlearn: 0.0800583\ttotal: 18.5s\tremaining: 7.28s\n",
      "718:\tlearn: 0.0799800\ttotal: 18.5s\tremaining: 7.25s\n",
      "719:\tlearn: 0.0798780\ttotal: 18.6s\tremaining: 7.22s\n",
      "720:\tlearn: 0.0797356\ttotal: 18.6s\tremaining: 7.2s\n",
      "721:\tlearn: 0.0796276\ttotal: 18.6s\tremaining: 7.17s\n",
      "722:\tlearn: 0.0795477\ttotal: 18.6s\tremaining: 7.14s\n",
      "723:\tlearn: 0.0793590\ttotal: 18.7s\tremaining: 7.12s\n",
      "724:\tlearn: 0.0792287\ttotal: 18.7s\tremaining: 7.09s\n",
      "725:\tlearn: 0.0790901\ttotal: 18.7s\tremaining: 7.07s\n",
      "726:\tlearn: 0.0789701\ttotal: 18.8s\tremaining: 7.04s\n",
      "727:\tlearn: 0.0788734\ttotal: 18.8s\tremaining: 7.01s\n",
      "728:\tlearn: 0.0787271\ttotal: 18.8s\tremaining: 6.99s\n",
      "729:\tlearn: 0.0786177\ttotal: 18.8s\tremaining: 6.96s\n",
      "730:\tlearn: 0.0785811\ttotal: 18.9s\tremaining: 6.94s\n",
      "731:\tlearn: 0.0784627\ttotal: 18.9s\tremaining: 6.91s\n",
      "732:\tlearn: 0.0783633\ttotal: 18.9s\tremaining: 6.88s\n",
      "733:\tlearn: 0.0782440\ttotal: 18.9s\tremaining: 6.86s\n",
      "734:\tlearn: 0.0781008\ttotal: 19s\tremaining: 6.83s\n",
      "735:\tlearn: 0.0780304\ttotal: 19s\tremaining: 6.81s\n",
      "736:\tlearn: 0.0779065\ttotal: 19s\tremaining: 6.78s\n",
      "737:\tlearn: 0.0777834\ttotal: 19s\tremaining: 6.75s\n",
      "738:\tlearn: 0.0776842\ttotal: 19.1s\tremaining: 6.73s\n",
      "739:\tlearn: 0.0776072\ttotal: 19.1s\tremaining: 6.7s\n",
      "740:\tlearn: 0.0775363\ttotal: 19.1s\tremaining: 6.68s\n",
      "741:\tlearn: 0.0774678\ttotal: 19.1s\tremaining: 6.65s\n",
      "742:\tlearn: 0.0773252\ttotal: 19.1s\tremaining: 6.62s\n",
      "743:\tlearn: 0.0772238\ttotal: 19.2s\tremaining: 6.6s\n",
      "744:\tlearn: 0.0771247\ttotal: 19.2s\tremaining: 6.57s\n",
      "745:\tlearn: 0.0770852\ttotal: 19.2s\tremaining: 6.54s\n",
      "746:\tlearn: 0.0769581\ttotal: 19.2s\tremaining: 6.52s\n",
      "747:\tlearn: 0.0768615\ttotal: 19.3s\tremaining: 6.49s\n",
      "748:\tlearn: 0.0767428\ttotal: 19.3s\tremaining: 6.46s\n",
      "749:\tlearn: 0.0766727\ttotal: 19.3s\tremaining: 6.44s\n",
      "750:\tlearn: 0.0765625\ttotal: 19.3s\tremaining: 6.41s\n",
      "751:\tlearn: 0.0765086\ttotal: 19.4s\tremaining: 6.39s\n",
      "752:\tlearn: 0.0764477\ttotal: 19.4s\tremaining: 6.36s\n",
      "753:\tlearn: 0.0764020\ttotal: 19.4s\tremaining: 6.33s\n",
      "754:\tlearn: 0.0763052\ttotal: 19.4s\tremaining: 6.31s\n",
      "755:\tlearn: 0.0762779\ttotal: 19.5s\tremaining: 6.28s\n",
      "756:\tlearn: 0.0762351\ttotal: 19.5s\tremaining: 6.25s\n",
      "757:\tlearn: 0.0761608\ttotal: 19.5s\tremaining: 6.23s\n",
      "758:\tlearn: 0.0761132\ttotal: 19.5s\tremaining: 6.2s\n",
      "759:\tlearn: 0.0760314\ttotal: 19.6s\tremaining: 6.17s\n",
      "760:\tlearn: 0.0759271\ttotal: 19.6s\tremaining: 6.15s\n",
      "761:\tlearn: 0.0758452\ttotal: 19.6s\tremaining: 6.12s\n",
      "762:\tlearn: 0.0757697\ttotal: 19.6s\tremaining: 6.09s\n",
      "763:\tlearn: 0.0756706\ttotal: 19.6s\tremaining: 6.07s\n",
      "764:\tlearn: 0.0755517\ttotal: 19.7s\tremaining: 6.04s\n",
      "765:\tlearn: 0.0754155\ttotal: 19.7s\tremaining: 6.02s\n",
      "766:\tlearn: 0.0752988\ttotal: 19.7s\tremaining: 5.99s\n",
      "767:\tlearn: 0.0752120\ttotal: 19.7s\tremaining: 5.96s\n",
      "768:\tlearn: 0.0750788\ttotal: 19.8s\tremaining: 5.94s\n",
      "769:\tlearn: 0.0749706\ttotal: 19.8s\tremaining: 5.91s\n",
      "770:\tlearn: 0.0749175\ttotal: 19.8s\tremaining: 5.89s\n",
      "771:\tlearn: 0.0748281\ttotal: 19.8s\tremaining: 5.86s\n",
      "772:\tlearn: 0.0747364\ttotal: 19.9s\tremaining: 5.83s\n",
      "773:\tlearn: 0.0746370\ttotal: 19.9s\tremaining: 5.81s\n",
      "774:\tlearn: 0.0745467\ttotal: 19.9s\tremaining: 5.78s\n",
      "775:\tlearn: 0.0744982\ttotal: 19.9s\tremaining: 5.76s\n",
      "776:\tlearn: 0.0744001\ttotal: 20s\tremaining: 5.73s\n",
      "777:\tlearn: 0.0743202\ttotal: 20s\tremaining: 5.7s\n",
      "778:\tlearn: 0.0742235\ttotal: 20s\tremaining: 5.68s\n",
      "779:\tlearn: 0.0740916\ttotal: 20s\tremaining: 5.65s\n",
      "780:\tlearn: 0.0740175\ttotal: 20.1s\tremaining: 5.63s\n",
      "781:\tlearn: 0.0739657\ttotal: 20.1s\tremaining: 5.6s\n",
      "782:\tlearn: 0.0738349\ttotal: 20.1s\tremaining: 5.57s\n",
      "783:\tlearn: 0.0737861\ttotal: 20.1s\tremaining: 5.55s\n",
      "784:\tlearn: 0.0736468\ttotal: 20.2s\tremaining: 5.52s\n",
      "785:\tlearn: 0.0735616\ttotal: 20.2s\tremaining: 5.5s\n",
      "786:\tlearn: 0.0734978\ttotal: 20.2s\tremaining: 5.47s\n",
      "787:\tlearn: 0.0734408\ttotal: 20.2s\tremaining: 5.44s\n",
      "788:\tlearn: 0.0733351\ttotal: 20.3s\tremaining: 5.42s\n",
      "789:\tlearn: 0.0732338\ttotal: 20.3s\tremaining: 5.39s\n",
      "790:\tlearn: 0.0731447\ttotal: 20.3s\tremaining: 5.37s\n",
      "791:\tlearn: 0.0730718\ttotal: 20.3s\tremaining: 5.34s\n",
      "792:\tlearn: 0.0730544\ttotal: 20.4s\tremaining: 5.31s\n",
      "793:\tlearn: 0.0730253\ttotal: 20.4s\tremaining: 5.29s\n",
      "794:\tlearn: 0.0729131\ttotal: 20.4s\tremaining: 5.26s\n",
      "795:\tlearn: 0.0728475\ttotal: 20.4s\tremaining: 5.24s\n",
      "796:\tlearn: 0.0727271\ttotal: 20.5s\tremaining: 5.21s\n",
      "797:\tlearn: 0.0726895\ttotal: 20.5s\tremaining: 5.18s\n",
      "798:\tlearn: 0.0726202\ttotal: 20.5s\tremaining: 5.16s\n",
      "799:\tlearn: 0.0725599\ttotal: 20.5s\tremaining: 5.13s\n",
      "800:\tlearn: 0.0724763\ttotal: 20.6s\tremaining: 5.11s\n",
      "801:\tlearn: 0.0723502\ttotal: 20.6s\tremaining: 5.08s\n",
      "802:\tlearn: 0.0722320\ttotal: 20.6s\tremaining: 5.05s\n",
      "803:\tlearn: 0.0721837\ttotal: 20.6s\tremaining: 5.03s\n",
      "804:\tlearn: 0.0721023\ttotal: 20.6s\tremaining: 5s\n",
      "805:\tlearn: 0.0720378\ttotal: 20.7s\tremaining: 4.97s\n",
      "806:\tlearn: 0.0719316\ttotal: 20.7s\tremaining: 4.95s\n",
      "807:\tlearn: 0.0718632\ttotal: 20.7s\tremaining: 4.92s\n",
      "808:\tlearn: 0.0717666\ttotal: 20.7s\tremaining: 4.9s\n",
      "809:\tlearn: 0.0717197\ttotal: 20.8s\tremaining: 4.87s\n",
      "810:\tlearn: 0.0716909\ttotal: 20.8s\tremaining: 4.85s\n",
      "811:\tlearn: 0.0716525\ttotal: 20.8s\tremaining: 4.82s\n",
      "812:\tlearn: 0.0715868\ttotal: 20.8s\tremaining: 4.79s\n",
      "813:\tlearn: 0.0715350\ttotal: 20.9s\tremaining: 4.77s\n",
      "814:\tlearn: 0.0714471\ttotal: 20.9s\tremaining: 4.74s\n",
      "815:\tlearn: 0.0713807\ttotal: 20.9s\tremaining: 4.72s\n",
      "816:\tlearn: 0.0712941\ttotal: 20.9s\tremaining: 4.69s\n",
      "817:\tlearn: 0.0712397\ttotal: 21s\tremaining: 4.67s\n",
      "818:\tlearn: 0.0711069\ttotal: 21s\tremaining: 4.64s\n",
      "819:\tlearn: 0.0710397\ttotal: 21s\tremaining: 4.61s\n",
      "820:\tlearn: 0.0709477\ttotal: 21.1s\tremaining: 4.59s\n",
      "821:\tlearn: 0.0708668\ttotal: 21.1s\tremaining: 4.56s\n",
      "822:\tlearn: 0.0708290\ttotal: 21.1s\tremaining: 4.54s\n",
      "823:\tlearn: 0.0707954\ttotal: 21.1s\tremaining: 4.51s\n",
      "824:\tlearn: 0.0707591\ttotal: 21.1s\tremaining: 4.49s\n",
      "825:\tlearn: 0.0706893\ttotal: 21.2s\tremaining: 4.46s\n",
      "826:\tlearn: 0.0706331\ttotal: 21.2s\tremaining: 4.43s\n",
      "827:\tlearn: 0.0705277\ttotal: 21.2s\tremaining: 4.41s\n",
      "828:\tlearn: 0.0704391\ttotal: 21.3s\tremaining: 4.39s\n",
      "829:\tlearn: 0.0703534\ttotal: 21.3s\tremaining: 4.36s\n",
      "830:\tlearn: 0.0703070\ttotal: 21.3s\tremaining: 4.33s\n",
      "831:\tlearn: 0.0702758\ttotal: 21.3s\tremaining: 4.31s\n",
      "832:\tlearn: 0.0702009\ttotal: 21.4s\tremaining: 4.28s\n",
      "833:\tlearn: 0.0701365\ttotal: 21.4s\tremaining: 4.26s\n",
      "834:\tlearn: 0.0700332\ttotal: 21.4s\tremaining: 4.23s\n",
      "835:\tlearn: 0.0699987\ttotal: 21.4s\tremaining: 4.21s\n",
      "836:\tlearn: 0.0698666\ttotal: 21.5s\tremaining: 4.18s\n",
      "837:\tlearn: 0.0697981\ttotal: 21.5s\tremaining: 4.15s\n",
      "838:\tlearn: 0.0697571\ttotal: 21.5s\tremaining: 4.13s\n",
      "839:\tlearn: 0.0696744\ttotal: 21.5s\tremaining: 4.1s\n",
      "840:\tlearn: 0.0696271\ttotal: 21.6s\tremaining: 4.08s\n",
      "841:\tlearn: 0.0695691\ttotal: 21.6s\tremaining: 4.05s\n",
      "842:\tlearn: 0.0694699\ttotal: 21.6s\tremaining: 4.02s\n",
      "843:\tlearn: 0.0693844\ttotal: 21.6s\tremaining: 4s\n",
      "844:\tlearn: 0.0693058\ttotal: 21.7s\tremaining: 3.97s\n",
      "845:\tlearn: 0.0692467\ttotal: 21.7s\tremaining: 3.95s\n",
      "846:\tlearn: 0.0691704\ttotal: 21.7s\tremaining: 3.92s\n",
      "847:\tlearn: 0.0691159\ttotal: 21.7s\tremaining: 3.89s\n",
      "848:\tlearn: 0.0690179\ttotal: 21.7s\tremaining: 3.87s\n",
      "849:\tlearn: 0.0689315\ttotal: 21.8s\tremaining: 3.84s\n",
      "850:\tlearn: 0.0688910\ttotal: 21.8s\tremaining: 3.82s\n",
      "851:\tlearn: 0.0688539\ttotal: 21.8s\tremaining: 3.79s\n",
      "852:\tlearn: 0.0688191\ttotal: 21.8s\tremaining: 3.76s\n",
      "853:\tlearn: 0.0687091\ttotal: 21.9s\tremaining: 3.74s\n",
      "854:\tlearn: 0.0686675\ttotal: 21.9s\tremaining: 3.71s\n",
      "855:\tlearn: 0.0685958\ttotal: 21.9s\tremaining: 3.69s\n",
      "856:\tlearn: 0.0684925\ttotal: 21.9s\tremaining: 3.66s\n",
      "857:\tlearn: 0.0684510\ttotal: 22s\tremaining: 3.64s\n",
      "858:\tlearn: 0.0683477\ttotal: 22s\tremaining: 3.61s\n",
      "859:\tlearn: 0.0682488\ttotal: 22s\tremaining: 3.58s\n",
      "860:\tlearn: 0.0681763\ttotal: 22s\tremaining: 3.56s\n",
      "861:\tlearn: 0.0681273\ttotal: 22.1s\tremaining: 3.53s\n",
      "862:\tlearn: 0.0680772\ttotal: 22.1s\tremaining: 3.51s\n",
      "863:\tlearn: 0.0680014\ttotal: 22.1s\tremaining: 3.48s\n",
      "864:\tlearn: 0.0679677\ttotal: 22.1s\tremaining: 3.46s\n",
      "865:\tlearn: 0.0678943\ttotal: 22.2s\tremaining: 3.43s\n",
      "866:\tlearn: 0.0678294\ttotal: 22.2s\tremaining: 3.4s\n",
      "867:\tlearn: 0.0677632\ttotal: 22.2s\tremaining: 3.38s\n",
      "868:\tlearn: 0.0676742\ttotal: 22.2s\tremaining: 3.35s\n",
      "869:\tlearn: 0.0675925\ttotal: 22.3s\tremaining: 3.33s\n",
      "870:\tlearn: 0.0675238\ttotal: 22.3s\tremaining: 3.3s\n",
      "871:\tlearn: 0.0674835\ttotal: 22.3s\tremaining: 3.28s\n",
      "872:\tlearn: 0.0674031\ttotal: 22.3s\tremaining: 3.25s\n",
      "873:\tlearn: 0.0673502\ttotal: 22.4s\tremaining: 3.23s\n",
      "874:\tlearn: 0.0672740\ttotal: 22.4s\tremaining: 3.2s\n",
      "875:\tlearn: 0.0671895\ttotal: 22.4s\tremaining: 3.17s\n",
      "876:\tlearn: 0.0671265\ttotal: 22.5s\tremaining: 3.15s\n",
      "877:\tlearn: 0.0670630\ttotal: 22.5s\tremaining: 3.12s\n",
      "878:\tlearn: 0.0669879\ttotal: 22.5s\tremaining: 3.1s\n",
      "879:\tlearn: 0.0669069\ttotal: 22.5s\tremaining: 3.07s\n",
      "880:\tlearn: 0.0668425\ttotal: 22.6s\tremaining: 3.05s\n",
      "881:\tlearn: 0.0667704\ttotal: 22.6s\tremaining: 3.02s\n",
      "882:\tlearn: 0.0667031\ttotal: 22.6s\tremaining: 3s\n",
      "883:\tlearn: 0.0666170\ttotal: 22.6s\tremaining: 2.97s\n",
      "884:\tlearn: 0.0665527\ttotal: 22.7s\tremaining: 2.94s\n",
      "885:\tlearn: 0.0664773\ttotal: 22.7s\tremaining: 2.92s\n",
      "886:\tlearn: 0.0664487\ttotal: 22.7s\tremaining: 2.9s\n",
      "887:\tlearn: 0.0663905\ttotal: 22.8s\tremaining: 2.87s\n",
      "888:\tlearn: 0.0663290\ttotal: 22.8s\tremaining: 2.84s\n",
      "889:\tlearn: 0.0662838\ttotal: 22.8s\tremaining: 2.82s\n",
      "890:\tlearn: 0.0662329\ttotal: 22.8s\tremaining: 2.79s\n",
      "891:\tlearn: 0.0662142\ttotal: 22.9s\tremaining: 2.77s\n",
      "892:\tlearn: 0.0661759\ttotal: 22.9s\tremaining: 2.74s\n",
      "893:\tlearn: 0.0661442\ttotal: 22.9s\tremaining: 2.72s\n",
      "894:\tlearn: 0.0660951\ttotal: 22.9s\tremaining: 2.69s\n",
      "895:\tlearn: 0.0660332\ttotal: 23s\tremaining: 2.67s\n",
      "896:\tlearn: 0.0660020\ttotal: 23s\tremaining: 2.64s\n",
      "897:\tlearn: 0.0659428\ttotal: 23s\tremaining: 2.61s\n",
      "898:\tlearn: 0.0658741\ttotal: 23s\tremaining: 2.59s\n",
      "899:\tlearn: 0.0657990\ttotal: 23.1s\tremaining: 2.56s\n",
      "900:\tlearn: 0.0657481\ttotal: 23.1s\tremaining: 2.54s\n",
      "901:\tlearn: 0.0657074\ttotal: 23.1s\tremaining: 2.51s\n",
      "902:\tlearn: 0.0656456\ttotal: 23.1s\tremaining: 2.48s\n",
      "903:\tlearn: 0.0655422\ttotal: 23.2s\tremaining: 2.46s\n",
      "904:\tlearn: 0.0654988\ttotal: 23.2s\tremaining: 2.43s\n",
      "905:\tlearn: 0.0654501\ttotal: 23.2s\tremaining: 2.41s\n",
      "906:\tlearn: 0.0653599\ttotal: 23.2s\tremaining: 2.38s\n",
      "907:\tlearn: 0.0652977\ttotal: 23.3s\tremaining: 2.36s\n",
      "908:\tlearn: 0.0652573\ttotal: 23.3s\tremaining: 2.33s\n",
      "909:\tlearn: 0.0651747\ttotal: 23.3s\tremaining: 2.31s\n",
      "910:\tlearn: 0.0651253\ttotal: 23.4s\tremaining: 2.28s\n",
      "911:\tlearn: 0.0650686\ttotal: 23.4s\tremaining: 2.26s\n",
      "912:\tlearn: 0.0650257\ttotal: 23.4s\tremaining: 2.23s\n",
      "913:\tlearn: 0.0649519\ttotal: 23.5s\tremaining: 2.21s\n",
      "914:\tlearn: 0.0648716\ttotal: 23.5s\tremaining: 2.18s\n",
      "915:\tlearn: 0.0647775\ttotal: 23.5s\tremaining: 2.16s\n",
      "916:\tlearn: 0.0647241\ttotal: 23.5s\tremaining: 2.13s\n",
      "917:\tlearn: 0.0646851\ttotal: 23.6s\tremaining: 2.1s\n",
      "918:\tlearn: 0.0646652\ttotal: 23.6s\tremaining: 2.08s\n",
      "919:\tlearn: 0.0645990\ttotal: 23.6s\tremaining: 2.05s\n",
      "920:\tlearn: 0.0644924\ttotal: 23.6s\tremaining: 2.03s\n",
      "921:\tlearn: 0.0644462\ttotal: 23.7s\tremaining: 2s\n",
      "922:\tlearn: 0.0644236\ttotal: 23.7s\tremaining: 1.98s\n",
      "923:\tlearn: 0.0643918\ttotal: 23.7s\tremaining: 1.95s\n",
      "924:\tlearn: 0.0643542\ttotal: 23.7s\tremaining: 1.92s\n",
      "925:\tlearn: 0.0642683\ttotal: 23.8s\tremaining: 1.9s\n",
      "926:\tlearn: 0.0642065\ttotal: 23.8s\tremaining: 1.87s\n",
      "927:\tlearn: 0.0641369\ttotal: 23.8s\tremaining: 1.85s\n",
      "928:\tlearn: 0.0640979\ttotal: 23.8s\tremaining: 1.82s\n",
      "929:\tlearn: 0.0640206\ttotal: 23.9s\tremaining: 1.8s\n",
      "930:\tlearn: 0.0639759\ttotal: 23.9s\tremaining: 1.77s\n",
      "931:\tlearn: 0.0639228\ttotal: 23.9s\tremaining: 1.74s\n",
      "932:\tlearn: 0.0638828\ttotal: 23.9s\tremaining: 1.72s\n",
      "933:\tlearn: 0.0638390\ttotal: 24s\tremaining: 1.69s\n",
      "934:\tlearn: 0.0637511\ttotal: 24s\tremaining: 1.67s\n",
      "935:\tlearn: 0.0637080\ttotal: 24s\tremaining: 1.64s\n",
      "936:\tlearn: 0.0636251\ttotal: 24s\tremaining: 1.61s\n",
      "937:\tlearn: 0.0635859\ttotal: 24.1s\tremaining: 1.59s\n",
      "938:\tlearn: 0.0635392\ttotal: 24.1s\tremaining: 1.56s\n",
      "939:\tlearn: 0.0634936\ttotal: 24.1s\tremaining: 1.54s\n",
      "940:\tlearn: 0.0634691\ttotal: 24.1s\tremaining: 1.51s\n",
      "941:\tlearn: 0.0634252\ttotal: 24.2s\tremaining: 1.49s\n",
      "942:\tlearn: 0.0633339\ttotal: 24.2s\tremaining: 1.46s\n",
      "943:\tlearn: 0.0632846\ttotal: 24.2s\tremaining: 1.44s\n",
      "944:\tlearn: 0.0631754\ttotal: 24.2s\tremaining: 1.41s\n",
      "945:\tlearn: 0.0631185\ttotal: 24.3s\tremaining: 1.38s\n",
      "946:\tlearn: 0.0630532\ttotal: 24.3s\tremaining: 1.36s\n",
      "947:\tlearn: 0.0629987\ttotal: 24.3s\tremaining: 1.33s\n",
      "948:\tlearn: 0.0629604\ttotal: 24.3s\tremaining: 1.31s\n",
      "949:\tlearn: 0.0628971\ttotal: 24.4s\tremaining: 1.28s\n",
      "950:\tlearn: 0.0628261\ttotal: 24.4s\tremaining: 1.26s\n",
      "951:\tlearn: 0.0627496\ttotal: 24.4s\tremaining: 1.23s\n",
      "952:\tlearn: 0.0627167\ttotal: 24.4s\tremaining: 1.2s\n",
      "953:\tlearn: 0.0626660\ttotal: 24.5s\tremaining: 1.18s\n",
      "954:\tlearn: 0.0626414\ttotal: 24.5s\tremaining: 1.15s\n",
      "955:\tlearn: 0.0626131\ttotal: 24.5s\tremaining: 1.13s\n",
      "956:\tlearn: 0.0625574\ttotal: 24.5s\tremaining: 1.1s\n",
      "957:\tlearn: 0.0625038\ttotal: 24.6s\tremaining: 1.08s\n",
      "958:\tlearn: 0.0624795\ttotal: 24.6s\tremaining: 1.05s\n",
      "959:\tlearn: 0.0624370\ttotal: 24.6s\tremaining: 1.02s\n",
      "960:\tlearn: 0.0623914\ttotal: 24.6s\tremaining: 999ms\n",
      "961:\tlearn: 0.0623751\ttotal: 24.6s\tremaining: 974ms\n",
      "962:\tlearn: 0.0623173\ttotal: 24.7s\tremaining: 948ms\n",
      "963:\tlearn: 0.0622771\ttotal: 24.7s\tremaining: 922ms\n",
      "964:\tlearn: 0.0622001\ttotal: 24.7s\tremaining: 897ms\n",
      "965:\tlearn: 0.0621173\ttotal: 24.7s\tremaining: 871ms\n",
      "966:\tlearn: 0.0620489\ttotal: 24.8s\tremaining: 845ms\n",
      "967:\tlearn: 0.0619913\ttotal: 24.8s\tremaining: 820ms\n",
      "968:\tlearn: 0.0619602\ttotal: 24.8s\tremaining: 794ms\n",
      "969:\tlearn: 0.0619012\ttotal: 24.8s\tremaining: 768ms\n",
      "970:\tlearn: 0.0618428\ttotal: 24.9s\tremaining: 743ms\n",
      "971:\tlearn: 0.0617606\ttotal: 24.9s\tremaining: 717ms\n",
      "972:\tlearn: 0.0617218\ttotal: 24.9s\tremaining: 691ms\n",
      "973:\tlearn: 0.0616966\ttotal: 24.9s\tremaining: 666ms\n",
      "974:\tlearn: 0.0616416\ttotal: 25s\tremaining: 640ms\n",
      "975:\tlearn: 0.0616147\ttotal: 25s\tremaining: 614ms\n",
      "976:\tlearn: 0.0615581\ttotal: 25s\tremaining: 589ms\n",
      "977:\tlearn: 0.0615058\ttotal: 25s\tremaining: 563ms\n",
      "978:\tlearn: 0.0614265\ttotal: 25.1s\tremaining: 538ms\n",
      "979:\tlearn: 0.0613898\ttotal: 25.1s\tremaining: 512ms\n",
      "980:\tlearn: 0.0613310\ttotal: 25.1s\tremaining: 486ms\n",
      "981:\tlearn: 0.0612768\ttotal: 25.1s\tremaining: 461ms\n",
      "982:\tlearn: 0.0612342\ttotal: 25.2s\tremaining: 435ms\n",
      "983:\tlearn: 0.0611796\ttotal: 25.2s\tremaining: 409ms\n",
      "984:\tlearn: 0.0611269\ttotal: 25.2s\tremaining: 384ms\n",
      "985:\tlearn: 0.0610748\ttotal: 25.2s\tremaining: 358ms\n",
      "986:\tlearn: 0.0610089\ttotal: 25.3s\tremaining: 333ms\n",
      "987:\tlearn: 0.0609760\ttotal: 25.3s\tremaining: 307ms\n",
      "988:\tlearn: 0.0609570\ttotal: 25.3s\tremaining: 281ms\n",
      "989:\tlearn: 0.0608999\ttotal: 25.3s\tremaining: 256ms\n",
      "990:\tlearn: 0.0608289\ttotal: 25.3s\tremaining: 230ms\n",
      "991:\tlearn: 0.0608029\ttotal: 25.4s\tremaining: 205ms\n",
      "992:\tlearn: 0.0607505\ttotal: 25.4s\tremaining: 179ms\n",
      "993:\tlearn: 0.0606929\ttotal: 25.4s\tremaining: 153ms\n",
      "994:\tlearn: 0.0606448\ttotal: 25.4s\tremaining: 128ms\n",
      "995:\tlearn: 0.0605881\ttotal: 25.5s\tremaining: 102ms\n",
      "996:\tlearn: 0.0605353\ttotal: 25.5s\tremaining: 76.7ms\n",
      "997:\tlearn: 0.0604959\ttotal: 25.5s\tremaining: 51.1ms\n",
      "998:\tlearn: 0.0604595\ttotal: 25.5s\tremaining: 25.6ms\n",
      "999:\tlearn: 0.0604439\ttotal: 25.6s\tremaining: 0us\n",
      "              precision    recall  f1-score   support\n",
      "\n",
      "           0       0.61      0.61      0.61        41\n",
      "           1       0.78      0.60      0.68        30\n",
      "           2       0.58      0.60      0.59        25\n",
      "           3       0.48      0.50      0.49        28\n",
      "           4       0.62      0.63      0.63        49\n",
      "           5       0.60      0.67      0.63        39\n",
      "\n",
      "    accuracy                           0.61       212\n",
      "   macro avg       0.61      0.60      0.60       212\n",
      "weighted avg       0.61      0.61      0.61       212\n"
     ]
    }
   ],
   "source": [
    "#perform catboost to classify the words\n",
    "cat = CatBoostClassifier(task_type='GPU')\n",
    "\n",
    "cat.fit(X_train, y_train)\n",
    "\n",
    "predictions = cat.predict(X_test)\n",
    "\n",
    "print(classification_report(y_test, predictions))"
   ]
  },
  {
   "cell_type": "markdown",
   "source": [
    "We get an accuracy of 0.61, which is not higher than the other models, even without optimization."
   ],
   "metadata": {
    "collapsed": false
   },
   "id": "646e5fc094006073"
  },
  {
   "cell_type": "markdown",
   "source": [
    "Finally we move on with neural networks\n",
    "\n",
    "We start by one-hot encoding both y training and y test labels to accommodate the 6-class output, and then proceed to build a sequential neural network model. The sequential architecture starts with a dense layer of 32 units with 'relu' activation, adapted for 768 input features, and incorporates L1 and L2 regularization to mitigate overfitting. Following this, batch normalization is applied to stabilize learning, succeeded by a substantial dropout rate of 0.6 to further prevent overfitting. Another 'relu' activated dense layer with 12 units also includes regularization, succeeded by batch normalization, leading in a softmax-activated dense layer for class prediction. The model employs the Adam optimizer and categorical crossentropy loss function, with accuracy as the performance metric.\n",
    " \n",
    "An EarlyStopping callback is integrated to cease training if no improvement in validation loss is observed for 10 epochs. The training process, is set for a maximum of 40 epochs with a batch size of 32 and utilizing 20% of the data for validation. Finaly the model's performance is evaluated on the test set, through the loss and accuracy metrics."
   ],
   "metadata": {
    "collapsed": false
   },
   "id": "c092cbdbacf423ba"
  },
  {
   "cell_type": "code",
   "execution_count": 149,
   "id": "2038bde37e6349a2",
   "metadata": {
    "collapsed": false,
    "ExecuteTime": {
     "end_time": "2024-02-24T13:48:12.138611900Z",
     "start_time": "2024-02-24T13:48:06.894374800Z"
    }
   },
   "outputs": [
    {
     "name": "stdout",
     "output_type": "stream",
     "text": [
      "Epoch 1/40\n",
      "22/22 [==============================] - 3s 14ms/step - loss: 3.3141 - accuracy: 0.1760 - val_loss: 2.9438 - val_accuracy: 0.1775\n",
      "Epoch 2/40\n",
      "22/22 [==============================] - 0s 4ms/step - loss: 2.9921 - accuracy: 0.2633 - val_loss: 2.8885 - val_accuracy: 0.1598\n",
      "Epoch 3/40\n",
      "22/22 [==============================] - 0s 3ms/step - loss: 2.7888 - accuracy: 0.3402 - val_loss: 2.8384 - val_accuracy: 0.1598\n",
      "Epoch 4/40\n",
      "22/22 [==============================] - 0s 3ms/step - loss: 2.6163 - accuracy: 0.3757 - val_loss: 2.7894 - val_accuracy: 0.1598\n",
      "Epoch 5/40\n",
      "22/22 [==============================] - 0s 3ms/step - loss: 2.5065 - accuracy: 0.3994 - val_loss: 2.7428 - val_accuracy: 0.1598\n",
      "Epoch 6/40\n",
      "22/22 [==============================] - 0s 3ms/step - loss: 2.4619 - accuracy: 0.4231 - val_loss: 2.6920 - val_accuracy: 0.1834\n",
      "Epoch 7/40\n",
      "22/22 [==============================] - 0s 3ms/step - loss: 2.3437 - accuracy: 0.4630 - val_loss: 2.6397 - val_accuracy: 0.2426\n",
      "Epoch 8/40\n",
      "22/22 [==============================] - 0s 3ms/step - loss: 2.2801 - accuracy: 0.4527 - val_loss: 2.5911 - val_accuracy: 0.2544\n",
      "Epoch 9/40\n",
      "22/22 [==============================] - 0s 3ms/step - loss: 2.2247 - accuracy: 0.4734 - val_loss: 2.5388 - val_accuracy: 0.2544\n",
      "Epoch 10/40\n",
      "22/22 [==============================] - 0s 3ms/step - loss: 2.1535 - accuracy: 0.4985 - val_loss: 2.4856 - val_accuracy: 0.2722\n",
      "Epoch 11/40\n",
      "22/22 [==============================] - 0s 3ms/step - loss: 2.0756 - accuracy: 0.5399 - val_loss: 2.4347 - val_accuracy: 0.2959\n",
      "Epoch 12/40\n",
      "22/22 [==============================] - 0s 3ms/step - loss: 2.0493 - accuracy: 0.5266 - val_loss: 2.3922 - val_accuracy: 0.3195\n",
      "Epoch 13/40\n",
      "22/22 [==============================] - 0s 3ms/step - loss: 1.9950 - accuracy: 0.5533 - val_loss: 2.3407 - val_accuracy: 0.3491\n",
      "Epoch 14/40\n",
      "22/22 [==============================] - 0s 3ms/step - loss: 1.9376 - accuracy: 0.5651 - val_loss: 2.3131 - val_accuracy: 0.3018\n",
      "Epoch 15/40\n",
      "22/22 [==============================] - 0s 3ms/step - loss: 1.9120 - accuracy: 0.5636 - val_loss: 2.2538 - val_accuracy: 0.3728\n",
      "Epoch 16/40\n",
      "22/22 [==============================] - 0s 3ms/step - loss: 1.8571 - accuracy: 0.5902 - val_loss: 2.2122 - val_accuracy: 0.4201\n",
      "Epoch 17/40\n",
      "22/22 [==============================] - 0s 3ms/step - loss: 1.8088 - accuracy: 0.5828 - val_loss: 2.1861 - val_accuracy: 0.4260\n",
      "Epoch 18/40\n",
      "22/22 [==============================] - 0s 3ms/step - loss: 1.8021 - accuracy: 0.5740 - val_loss: 2.1730 - val_accuracy: 0.3787\n",
      "Epoch 19/40\n",
      "22/22 [==============================] - 0s 3ms/step - loss: 1.7548 - accuracy: 0.5976 - val_loss: 2.1747 - val_accuracy: 0.3728\n",
      "Epoch 20/40\n",
      "22/22 [==============================] - 0s 3ms/step - loss: 1.7204 - accuracy: 0.6036 - val_loss: 2.0595 - val_accuracy: 0.4675\n",
      "Epoch 21/40\n",
      "22/22 [==============================] - 0s 3ms/step - loss: 1.6711 - accuracy: 0.6169 - val_loss: 1.9714 - val_accuracy: 0.5030\n",
      "Epoch 22/40\n",
      "22/22 [==============================] - 0s 3ms/step - loss: 1.6635 - accuracy: 0.6109 - val_loss: 1.8800 - val_accuracy: 0.5858\n",
      "Epoch 23/40\n",
      "22/22 [==============================] - 0s 3ms/step - loss: 1.6269 - accuracy: 0.6361 - val_loss: 1.8357 - val_accuracy: 0.5799\n",
      "Epoch 24/40\n",
      "22/22 [==============================] - 0s 3ms/step - loss: 1.6150 - accuracy: 0.6272 - val_loss: 1.8616 - val_accuracy: 0.5444\n",
      "Epoch 25/40\n",
      "22/22 [==============================] - 0s 3ms/step - loss: 1.5498 - accuracy: 0.6317 - val_loss: 1.8046 - val_accuracy: 0.5444\n",
      "Epoch 26/40\n",
      "22/22 [==============================] - 0s 3ms/step - loss: 1.5151 - accuracy: 0.6479 - val_loss: 1.6697 - val_accuracy: 0.6568\n",
      "Epoch 27/40\n",
      "22/22 [==============================] - 0s 3ms/step - loss: 1.4948 - accuracy: 0.6701 - val_loss: 1.6747 - val_accuracy: 0.6509\n",
      "Epoch 28/40\n",
      "22/22 [==============================] - 0s 3ms/step - loss: 1.5142 - accuracy: 0.6376 - val_loss: 1.6965 - val_accuracy: 0.6154\n",
      "Epoch 29/40\n",
      "22/22 [==============================] - 0s 3ms/step - loss: 1.5025 - accuracy: 0.6524 - val_loss: 1.6891 - val_accuracy: 0.5917\n",
      "Epoch 30/40\n",
      "22/22 [==============================] - 0s 3ms/step - loss: 1.4572 - accuracy: 0.6701 - val_loss: 1.6114 - val_accuracy: 0.6154\n",
      "Epoch 31/40\n",
      "22/22 [==============================] - 0s 3ms/step - loss: 1.4634 - accuracy: 0.6524 - val_loss: 1.5524 - val_accuracy: 0.6627\n",
      "Epoch 32/40\n",
      "22/22 [==============================] - 0s 3ms/step - loss: 1.4027 - accuracy: 0.6775 - val_loss: 1.5707 - val_accuracy: 0.6509\n",
      "Epoch 33/40\n",
      "22/22 [==============================] - 0s 3ms/step - loss: 1.3502 - accuracy: 0.6982 - val_loss: 1.5810 - val_accuracy: 0.6450\n",
      "Epoch 34/40\n",
      "22/22 [==============================] - 0s 3ms/step - loss: 1.3364 - accuracy: 0.6820 - val_loss: 1.5486 - val_accuracy: 0.6627\n",
      "Epoch 35/40\n",
      "22/22 [==============================] - 0s 3ms/step - loss: 1.2978 - accuracy: 0.6997 - val_loss: 1.5329 - val_accuracy: 0.6746\n",
      "Epoch 36/40\n",
      "22/22 [==============================] - 0s 3ms/step - loss: 1.2639 - accuracy: 0.7322 - val_loss: 1.5196 - val_accuracy: 0.6154\n",
      "Epoch 37/40\n",
      "22/22 [==============================] - 0s 3ms/step - loss: 1.3592 - accuracy: 0.6923 - val_loss: 1.5305 - val_accuracy: 0.6509\n",
      "Epoch 38/40\n",
      "22/22 [==============================] - 0s 3ms/step - loss: 1.3549 - accuracy: 0.6938 - val_loss: 1.5751 - val_accuracy: 0.6095\n",
      "Epoch 39/40\n",
      "22/22 [==============================] - 0s 3ms/step - loss: 1.2990 - accuracy: 0.6997 - val_loss: 1.5307 - val_accuracy: 0.6272\n",
      "Epoch 40/40\n",
      "22/22 [==============================] - 0s 3ms/step - loss: 1.3113 - accuracy: 0.7115 - val_loss: 1.5129 - val_accuracy: 0.6568\n",
      "7/7 [==============================] - 0s 1ms/step - loss: 1.5468 - accuracy: 0.6509\n",
      "Loss: 1.5468294620513916, Accuracy: 0.650943398475647\n"
     ]
    }
   ],
   "source": [
    "# Encode the labels if they are categorical\n",
    "y_train_encoded = to_categorical(y_train, num_classes=6)\n",
    "y_test_encoded = to_categorical(y_test, num_classes=6)\n",
    "model = Sequential([\n",
    "    Dense(32, activation='relu', input_shape=(768,), kernel_regularizer=l1_l2(l1=0.001, l2=0.001)), \n",
    "    BatchNormalization(),\n",
    "    Dropout(0.6),  # Increased dropout rate\n",
    "    Dense(12, activation='relu', kernel_regularizer=l1_l2(l1=0.001, l2=0.001)),\n",
    "    BatchNormalization(),\n",
    "    Dense(6, activation='softmax') \n",
    "])\n",
    "\n",
    "# Compile the model with a smaller learning rate\n",
    "model.compile(optimizer='adam', loss='categorical_crossentropy', metrics=['accuracy'])\n",
    "\n",
    "# EarlyStopping callback to stop training when no improvement in val_loss\n",
    "early_stopping = EarlyStopping(monitor='val_loss', patience=10, restore_best_weights=True)\n",
    "\n",
    "# Train the model with encoded labels and callbacks\n",
    "history = model.fit(\n",
    "    X_train, y_train_encoded, \n",
    "    epochs=40,  # Increase if needed\n",
    "    batch_size=32, \n",
    "    validation_split=0.2, \n",
    "    callbacks=[early_stopping]\n",
    ")\n",
    "\n",
    "# Evaluate the model with encoded labels\n",
    "loss, accuracy = model.evaluate(X_test, y_test_encoded)\n",
    "print(f'Loss: {loss}, Accuracy: {accuracy}')"
   ]
  },
  {
   "cell_type": "markdown",
   "source": [
    "The accuracy is 0.65 which is around the same as the other models."
   ],
   "metadata": {
    "collapsed": false
   },
   "id": "5c15138a8f9dfd47"
  },
  {
   "cell_type": "markdown",
   "source": [
    "Checking the best epoch"
   ],
   "metadata": {
    "collapsed": false
   },
   "id": "c7bc390a4168d9cc"
  },
  {
   "cell_type": "code",
   "outputs": [
    {
     "data": {
      "text/plain": "40"
     },
     "execution_count": 150,
     "metadata": {},
     "output_type": "execute_result"
    }
   ],
   "source": [
    "#print best epoch\n",
    "best_epoch = np.argmin(history.history['val_loss']) + 1\n",
    "best_epoch"
   ],
   "metadata": {
    "collapsed": false,
    "ExecuteTime": {
     "end_time": "2024-02-24T13:48:14.949510300Z",
     "start_time": "2024-02-24T13:48:14.933584600Z"
    }
   },
   "id": "edfb5491594866ba",
   "execution_count": 150
  },
  {
   "cell_type": "markdown",
   "source": [
    "Then we create two subplots to visualize the training and validation accuracy and loss over the epochs, and to check for overfitting."
   ],
   "metadata": {
    "collapsed": false
   },
   "id": "a86cbc69942bd799"
  },
  {
   "cell_type": "code",
   "outputs": [
    {
     "data": {
      "text/plain": "<Figure size 1400x500 with 2 Axes>",
      "image/png": "[encoded data removed]"
     },
     "metadata": {},
     "output_type": "display_data"
    }
   ],
   "source": [
    "# Retrieve the history data from the history object\n",
    "history_data = history.history\n",
    "\n",
    "# List of epochs\n",
    "epochs = range(1, len(history_data['accuracy']) + 1)\n",
    "\n",
    "# Plot training & validation accuracy values\n",
    "plt.figure(figsize=(14, 5))\n",
    "\n",
    "plt.subplot(1, 2, 1)\n",
    "plt.plot(epochs, history_data['accuracy'], label='Training Accuracy')\n",
    "plt.plot(epochs, history_data['val_accuracy'], label='Validation Accuracy')\n",
    "plt.title('Training and Validation Accuracy')\n",
    "plt.xlabel('Epochs')\n",
    "plt.ylabel('Accuracy')\n",
    "plt.legend()\n",
    "\n",
    "# Plot training & validation loss values\n",
    "plt.subplot(1, 2, 2)\n",
    "plt.plot(epochs, history_data['loss'], label='Training Loss')\n",
    "plt.plot(epochs, history_data['val_loss'], label='Validation Loss')\n",
    "plt.title('Training and Validation Loss')\n",
    "plt.xlabel('Epochs')\n",
    "plt.ylabel('Loss')\n",
    "plt.legend()\n",
    "\n",
    "plt.tight_layout()\n",
    "plt.show()"
   ],
   "metadata": {
    "collapsed": false,
    "ExecuteTime": {
     "end_time": "2024-02-24T13:48:16.349294200Z",
     "start_time": "2024-02-24T13:48:16.042951200Z"
    }
   },
   "id": "906dae26c6174b95",
   "execution_count": 151
  },
  {
   "cell_type": "markdown",
   "source": [
    "***Discussion I***\n",
    "\n",
    "The training and validation accuracy and loss plots, with the best epoch being 40, do not strongly suggest overfitting, as the validation accuracy does not significantly diverge from the training accuracy, and the validation loss does not show a rising trend. While the training accuracy continues to improve slightly, the validation accuracy plateaus with some fluctuation, but without a distinct downward trend. Similarly, the training loss decreases steadily, and the validation loss levels off without increasing."
   ],
   "metadata": {
    "collapsed": false
   },
   "id": "b509087acea40448"
  },
  {
   "cell_type": "markdown",
   "source": [
    "***Discussion II***\n",
    "\n",
    "Based on the classification results, the support vector machine (SVM) model with optimized hyperparameters achieved the highest accuracy of 0.71. An accuracy of 0.71 means that the SVM model correctly predicted the class labels for 71% of the instances in the test dataset or in other words, for each 100 words the model correctly predicted the correct CLASSES of the words 71 times."
   ],
   "metadata": {
    "collapsed": false
   },
   "id": "33aab8db61a66387"
  },
  {
   "cell_type": "markdown",
   "source": [
    "## Classification on the second hierarchical level (SECTION/DIVISION)\n",
    "\n",
    "To tackle this problem, we will take the model with the best accuracy, which is the SVM model, and adapt it for multi-label classification. We will use the MultiOutputClassifier from scikit-learn to adapt the SVM model for multi-label classification. The MultiOutputClassifier is a simple strategy for extending classifiers that do not natively support multi-target classification. It works by fitting one classifier per target."
   ],
   "metadata": {
    "collapsed": false
   },
   "id": "4e5d351b22ca9bc3"
  },
  {
   "cell_type": "markdown",
   "source": [
    "We start by creating a new Y_train and Y_test with both the class and the sec_div"
   ],
   "metadata": {
    "collapsed": false
   },
   "id": "6b387a4ce0bae66b"
  },
  {
   "cell_type": "code",
   "outputs": [],
   "source": [
    "# Make a new Y_train and Y_test with both the class and the sec_div\n",
    "Y = classification[['class', 'sec_div']]-1\n",
    "\n",
    "X_train, X_test, Y_train, Y_test = train_test_split(X, Y, test_size=0.2, random_state=1)"
   ],
   "metadata": {
    "collapsed": false,
    "ExecuteTime": {
     "end_time": "2024-02-24T13:25:40.926085200Z",
     "start_time": "2024-02-24T13:25:40.901977100Z"
    }
   },
   "id": "4ce9c1a024fccec8",
   "execution_count": 30
  },
  {
   "cell_type": "markdown",
   "source": [
    "We then initialize the multioutput classifier and fit the model with the optimal hyperparameters of the previous SVM model."
   ],
   "metadata": {
    "collapsed": false
   },
   "id": "bafd46720115d68"
  },
  {
   "cell_type": "code",
   "outputs": [],
   "source": [
    "base_classifier = SVC(C=best_params_svm['C'], kernel=best_params_svm['kernel'], degree=best_params_svm['degree'], gamma=best_params_svm['gamma'])\n",
    "\n",
    "# Adapt SVM for multi-label classification\n",
    "multi_label_svm = MultiOutputClassifier(base_classifier)"
   ],
   "metadata": {
    "collapsed": false,
    "ExecuteTime": {
     "end_time": "2024-02-24T14:49:35.660964200Z",
     "start_time": "2024-02-24T14:49:35.635658700Z"
    }
   },
   "id": "e4b1edde43d9b6a7",
   "execution_count": 154
  },
  {
   "cell_type": "markdown",
   "source": [
    "Finally we fit and predict the model while also evaluating the accuracy for each target."
   ],
   "metadata": {
    "collapsed": false
   },
   "id": "2843811ab3aef047"
  },
  {
   "cell_type": "code",
   "outputs": [
    {
     "name": "stdout",
     "output_type": "stream",
     "text": [
      "Target 0 accuracy: 0.7122641509433962\n",
      "Target 1 accuracy: 0.5330188679245284\n"
     ]
    }
   ],
   "source": [
    "#initialize the multioutput classifier\n",
    "multi_target_classifier = MultiOutputClassifier(base_classifier)\n",
    "\n",
    "#fit the model\n",
    "multi_target_classifier.fit(X_train, Y_train)\n",
    "\n",
    "#predict the model\n",
    "predictions = multi_target_classifier.predict(X_test)\n",
    "\n",
    "# Example evaluation for each target\n",
    "for i in range(Y_test.shape[1]):\n",
    "    # Use .iloc to select all rows and the ith column for both Y_test and predictions\n",
    "    accuracy = accuracy_score(Y_test.iloc[:, i], predictions[:, i])\n",
    "    print(f\"Target {i} accuracy: {accuracy}\")"
   ],
   "metadata": {
    "collapsed": false,
    "ExecuteTime": {
     "end_time": "2024-02-24T14:49:36.946787600Z",
     "start_time": "2024-02-24T14:49:36.248632200Z"
    }
   },
   "id": "4521d54cb57f273a",
   "execution_count": 155
  },
  {
   "cell_type": "markdown",
   "source": [
    "Target 0 accuracy: The accuracy of 0.71 for Target 0 means that for the first classification task, the model correctly predicted the class labels 71.23% of the time. Which is some thing that we have already seen in the previous classification.\n",
    "\n",
    "Target 1 accuracy: The accuracy of 0.53 for Target 1 means that for the second classification task, the model correctly predicted the section/division labels 53.30% of the time. This is lower than the first classification task, which is expected as the second classification task is more complex than the first one.\n",
    "\n",
    "finally we can calculate the multi-output accuracy"
   ],
   "metadata": {
    "collapsed": false
   },
   "id": "3a5546dea4a3da2e"
  },
  {
   "cell_type": "markdown",
   "source": [
    "The below code compares all predicted labels to the true labels for each sample and computes the average of completely correct predictions across the dataset."
   ],
   "metadata": {
    "collapsed": false
   },
   "id": "acb528ae756e8196"
  },
  {
   "cell_type": "code",
   "outputs": [
    {
     "name": "stdout",
     "output_type": "stream",
     "text": [
      "Multi-output Accuracy: 0.44339622641509435\n"
     ]
    }
   ],
   "source": [
    "accuracy = np.mean(np.all(Y_test == predictions, axis=1))\n",
    "print(f\"Multi-output Accuracy: {accuracy}\")"
   ],
   "metadata": {
    "collapsed": false,
    "ExecuteTime": {
     "end_time": "2024-02-24T15:53:07.929853700Z",
     "start_time": "2024-02-24T15:53:07.903072800Z"
    }
   },
   "id": "7f2fa5907ad03e5c",
   "execution_count": 157
  },
  {
   "cell_type": "markdown",
   "source": [
    "From the above accuracy of 0.44, we can see that the model correctly predicted the class and section/division labels for 44% of the instances in the test dataset.\n"
   ],
   "metadata": {
    "collapsed": false
   },
   "id": "4e0d6b904f2be245"
  }
 ],
 "metadata": {
  "kernelspec": {
   "display_name": "Python 3 (ipykernel)",
   "language": "python",
   "name": "python3"
  },
  "language_info": {
   "codemirror_mode": {
    "name": "ipython",
    "version": 3
   },
   "file_extension": ".py",
   "mimetype": "text/x-python",
   "name": "python",
   "nbconvert_exporter": "python",
   "pygments_lexer": "ipython3",
   "version": "3.11.7"
  }
 },
 "nbformat": 4,
 "nbformat_minor": 5
}
